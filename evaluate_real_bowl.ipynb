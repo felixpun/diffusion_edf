{
 "cells": [
  {
   "cell_type": "code",
   "execution_count": null,
   "metadata": {},
   "outputs": [],
   "source": [
    "import os\n",
    "os.environ[\"PYTORCH_JIT_USE_NNC_NOT_NVFUSER\"] = \"1\"\n",
    "from typing import List, Tuple, Optional, Union, Iterable\n",
    "import warnings\n",
    "import math\n",
    "\n",
    "from beartype import beartype\n",
    "import datetime\n",
    "import plotly.graph_objects as go\n",
    "from tqdm import tqdm\n",
    "import yaml\n",
    "\n",
    "import torch\n",
    "from torch.utils.data import DataLoader\n",
    "from torchvision.transforms import Compose\n",
    "from e3nn import o3\n",
    "\n",
    "from edf_interface.data import PointCloud, SE3, DemoDataset, TargetPoseDemo, preprocess\n",
    "from edf_interface.utils import manipulation_utils\n",
    "from diffusion_edf.gnn_data import FeaturedPoints\n",
    "from diffusion_edf import train_utils\n",
    "from diffusion_edf.trainer import DiffusionEdfTrainer\n",
    "from diffusion_edf.visualize import visualize_pose\n",
    "from diffusion_edf.agent import DiffusionEdfAgent\n",
    "\n",
    "torch.set_printoptions(precision=4, sci_mode=False)"
   ]
  },
  {
   "cell_type": "markdown",
   "metadata": {},
   "source": [
    "> **Warning**\\\n",
    "> Copy and paste this notebook to the project root directory (which should have the 'config' and 'demo' directories) before running it!"
   ]
  },
  {
   "cell_type": "markdown",
   "metadata": {},
   "source": [
    "## Eval Configuration"
   ]
  },
  {
   "cell_type": "code",
   "execution_count": null,
   "metadata": {},
   "outputs": [],
   "source": [
    "# ----------------------------------------------\n",
    "# Choose your device\n",
    "# ----------------------------------------------\n",
    "# device = 'cpu'\n",
    "device = 'cuda:0'\n",
    "\n",
    "\n",
    "\n",
    "# ----------------------------------------------\n",
    "# Choose the task to evaluate\n",
    "# ----------------------------------------------\n",
    "# task_type = \"pick\"\n",
    "task_type = \"place\""
   ]
  },
  {
   "cell_type": "markdown",
   "metadata": {},
   "source": [
    "# Initialize Models"
   ]
  },
  {
   "cell_type": "code",
   "execution_count": null,
   "metadata": {},
   "outputs": [],
   "source": [
    "config_root_dir = 'configs/panda_bowl'\n",
    "testset = DemoDataset(dataset_dir='demo/panda_bowl_on_dish_test')\n",
    "\n",
    "\n",
    "\n",
    "\n",
    "with open(os.path.join(config_root_dir, 'agent.yaml')) as f:\n",
    "    model_kwargs = yaml.load(f, Loader=yaml.FullLoader)\n",
    "    model_kwargs_list = model_kwargs['model_kwargs'][f\"{task_type}_models_kwargs\"]\n",
    "    try:\n",
    "        critic_kwargs = model_kwargs['model_kwargs'][f\"{task_type}_critic_kwargs\"]\n",
    "    except:\n",
    "        critic_kwargs = None\n",
    "\n",
    "with open(os.path.join(config_root_dir, 'preprocess.yaml')) as f:\n",
    "    preprocess_config = yaml.load(f, Loader=yaml.FullLoader)\n",
    "    unprocess_config = preprocess_config['unprocess_config']\n",
    "    preprocess_config = preprocess_config['preprocess_config']\n",
    "\n",
    "agent = DiffusionEdfAgent(\n",
    "    model_kwargs_list=model_kwargs_list,\n",
    "    preprocess_config=preprocess_config,\n",
    "    unprocess_config=unprocess_config,\n",
    "    device=device,\n",
    "    critic_kwargs=critic_kwargs\n",
    ") # Model initialization and warm-up takes 2~3 minutes (very slow due to e3nn codegen and torch jit)."
   ]
  },
  {
   "cell_type": "markdown",
   "metadata": {},
   "source": [
    "# Configure Denoising settings"
   ]
  },
  {
   "cell_type": "code",
   "execution_count": null,
   "metadata": {},
   "outputs": [],
   "source": [
    "denoising_configs = dict(\n",
    "    N_steps_list = [[200, 200], [100, 100, 150]],\n",
    "    timesteps_list = [[0.04, 0.04], [0.02, 0.02, 0.02]],\n",
    "    temperatures_list = [[1., 1.], [1., 1., 0.0]],\n",
    "    log_t_schedule = True,\n",
    "    diffusion_schedules_list = [\n",
    "        [[1., 0.15], [0.15, 0.05]],\n",
    "        [[0.09, 0.03], [0.03, 0.012], [0.012, 0.012]],\n",
    "    ],\n",
    "    time_exponent_temp = 1.0,\n",
    "    time_exponent_alpha = 0.5,\n",
    "    return_info=True\n",
    ")"
   ]
  },
  {
   "attachments": {},
   "cell_type": "markdown",
   "metadata": {},
   "source": [
    "# Initialize Input Data and Initial Pose"
   ]
  },
  {
   "cell_type": "markdown",
   "metadata": {},
   "source": [
    "### demo_idx:\n",
    "* 0,1,2: Default (in Red, Green, Blue order)\n",
    "* 3,4,5: Default (in Red, Green, Blue order)\n",
    "* 6,7,8: Unseen Poses (in Red, Green, Blue order)"
   ]
  },
  {
   "cell_type": "code",
   "execution_count": null,
   "metadata": {},
   "outputs": [],
   "source": [
    "demo_idx = 0\n",
    "demo: TargetPoseDemo = testset[demo_idx][0 if task_type == 'pick' else 1 if task_type == 'place' else \"task_type must be either 'pick' or 'place'\"].to(device)\n",
    "scene_pcd: PointCloud = demo.scene_pcd\n",
    "grasp_pcd: PointCloud = demo.grasp_pcd"
   ]
  },
  {
   "cell_type": "markdown",
   "metadata": {},
   "source": [
    "# Sample"
   ]
  },
  {
   "cell_type": "code",
   "execution_count": null,
   "metadata": {},
   "outputs": [],
   "source": [
    "if task_type == \"pick\":\n",
    "    N_samples = 20 # reduce number of samples if too slow or short of memory\n",
    "elif task_type == \"place\":\n",
    "    N_samples = 10 # reduce number of samples if too slow or short of memory\n",
    "else:\n",
    "    raise ValueError(f\"'task_type' must be either 'pick' or 'place', but {task_type} is given.\")\n",
    "\n",
    "\n",
    "T0 = torch.cat([\n",
    "    torch.tensor([[1., 0., 0.0, 0.]], device=device),\n",
    "    torch.tensor([[0., 0., 0.3]], device=device)\n",
    "], dim=-1).repeat(N_samples, 1)\n",
    "Ts_init = SE3(poses=T0).to(device)\n",
    "\n",
    "\n",
    "Ts_out_raw, scene_proc, grasp_proc, info = agent.sample(\n",
    "    scene_pcd=scene_pcd, grasp_pcd=grasp_pcd, Ts_init=Ts_init,\n",
    "    **denoising_configs\n",
    ")\n",
    "\n",
    "if 'energy' in info.keys():\n",
    "    Ts_out, energy = Ts_out_raw, info['energy']\n",
    "    Ts_out = Ts_out[:,2:-3] # Remove outlier energy poses\n",
    "else:\n",
    "    Ts_out = Ts_out_raw"
   ]
  },
  {
   "cell_type": "markdown",
   "metadata": {},
   "source": [
    "# Visualize Samples"
   ]
  },
  {
   "cell_type": "code",
   "execution_count": null,
   "metadata": {},
   "outputs": [],
   "source": [
    "visualization = TargetPoseDemo(\n",
    "    target_poses=agent.unprocess_fn(SE3(poses=Ts_out[-1])),\n",
    "    scene_pcd=preprocess.downsample(data=scene_pcd, voxel_size=0.01),\n",
    "    grasp_pcd=preprocess.downsample(data=grasp_pcd, voxel_size=0.01)\n",
    ")\n",
    "visualization = agent.unprocess_fn(visualization).to('cpu')\n",
    "visualization.show(bg_color=[0.3, 0.3, 0.3], width = 1000, height=1000, point_size=1.5)"
   ]
  },
  {
   "cell_type": "code",
   "execution_count": null,
   "metadata": {},
   "outputs": [],
   "source": []
  },
  {
   "cell_type": "code",
   "execution_count": null,
   "metadata": {},
   "outputs": [],
   "source": []
  },
  {
   "cell_type": "markdown",
   "metadata": {},
   "source": [
    "# Visualize Denoising Trajectory"
   ]
  },
  {
   "cell_type": "code",
   "execution_count": null,
   "metadata": {},
   "outputs": [],
   "source": [
    "sample_idx = 0\n",
    "visualization = TargetPoseDemo(\n",
    "    target_poses=SE3(poses=torch.cat([Ts_out[::10, sample_idx], Ts_out[-1:, sample_idx]], dim=0)),\n",
    "    scene_pcd=scene_proc,\n",
    "    grasp_pcd=grasp_proc\n",
    ")\n",
    "visualization = agent.unprocess_fn(visualization).to('cpu')\n",
    "visualization.show(bg_color=[0.3, 0.3, 0.3], width = 1000, height=1000, point_size=2.5)"
   ]
  },
  {
   "cell_type": "code",
   "execution_count": null,
   "metadata": {},
   "outputs": [],
   "source": []
  }
 ],
 "metadata": {
  "kernelspec": {
   "display_name": "diff_edf",
   "language": "python",
   "name": "python3"
  },
  "language_info": {
   "codemirror_mode": {
    "name": "ipython",
    "version": 3
   },
   "file_extension": ".py",
   "mimetype": "text/x-python",
   "name": "python",
   "nbconvert_exporter": "python",
   "pygments_lexer": "ipython3",
   "version": "3.8.16"
  },
  "orig_nbformat": 4,
  "vscode": {
   "interpreter": {
    "hash": "79a0085b6cf04e1cff261ad12d41cff4e1530d9e68d1f8fc6bd159a2915452c6"
   }
  }
 },
 "nbformat": 4,
 "nbformat_minor": 2
}
