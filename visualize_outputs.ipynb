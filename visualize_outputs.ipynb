{
 "cells": [
  {
   "cell_type": "code",
   "execution_count": null,
   "metadata": {},
   "outputs": [],
   "source": [
    "import os\n",
    "os.environ[\"PYTORCH_JIT_USE_NNC_NOT_NVFUSER\"] = \"1\""
   ]
  },
  {
   "cell_type": "code",
   "execution_count": null,
   "metadata": {},
   "outputs": [],
   "source": [
    "from typing import List, Tuple, Optional, Union, Iterable\n",
    "\n",
    "import plotly\n",
    "import plotly.graph_objects as go\n",
    "import numpy as np\n",
    "\n",
    "import torch\n",
    "from torchvision.transforms import Compose\n",
    "from diffusion_edf.transforms import quaternion_apply, random_quaternions, quaternion_multiply, quaternion_invert\n",
    "\n",
    "from e3nn import o3\n",
    "\n",
    "from diffusion_edf.embedding import NodeEmbeddingNetwork\n",
    "from diffusion_edf.data import SE3, PointCloud, TargetPoseDemo, DemoSequence, DemoSeqDataset, load_demos, save_demos, OutputLog\n",
    "from diffusion_edf.preprocess import Rescale, NormalizeColor, Downsample, PointJitter, ColorJitter\n",
    "from diffusion_edf.wigner import TransformFeatureQuaternion\n",
    "from diffusion_edf.score_model import ScoreModel\n",
    "from diffusion_edf.pc_utils import get_plotly_fig"
   ]
  },
  {
   "cell_type": "code",
   "execution_count": null,
   "metadata": {},
   "outputs": [],
   "source": [
    "plotly.offline.init_notebook_mode()"
   ]
  },
  {
   "cell_type": "code",
   "execution_count": null,
   "metadata": {},
   "outputs": [],
   "source": [
    "unit_len = 0.01\n",
    "scene_voxel_size = 0.01\n",
    "grasp_voxel_size = 0.01\n",
    "\n",
    "scene_voxel_size = scene_voxel_size / unit_len\n",
    "grasp_voxel_size = grasp_voxel_size / unit_len\n",
    "\n",
    "\n",
    "rescale_fn = Rescale(rescale_factor=1/unit_len)\n",
    "recover_scale_fn = Rescale(rescale_factor=unit_len)\n",
    "normalize_color_fn = NormalizeColor(color_mean = torch.tensor([0.5, 0.5, 0.5]), color_std = torch.tensor([0.5, 0.5, 0.5]))\n",
    "recover_color_fn = NormalizeColor(color_mean = -normalize_color_fn.color_mean / normalize_color_fn.color_std, color_std = 1 / normalize_color_fn.color_std)\n",
    "\n",
    "\n",
    "scene_proc_fn = Compose([rescale_fn,\n",
    "                         Downsample(voxel_size=scene_voxel_size, coord_reduction=\"average\"),\n",
    "                         normalize_color_fn])\n",
    "scene_unproc_fn = Compose([recover_color_fn, recover_scale_fn])\n",
    "grasp_proc_fn = Compose([rescale_fn,\n",
    "                         Downsample(voxel_size=grasp_voxel_size, coord_reduction=\"average\"),\n",
    "                         normalize_color_fn])\n",
    "grasp_unproc_fn = Compose([recover_color_fn, recover_scale_fn])"
   ]
  },
  {
   "cell_type": "code",
   "execution_count": null,
   "metadata": {},
   "outputs": [],
   "source": []
  },
  {
   "cell_type": "code",
   "execution_count": null,
   "metadata": {},
   "outputs": [],
   "source": []
  },
  {
   "cell_type": "code",
   "execution_count": null,
   "metadata": {},
   "outputs": [],
   "source": [
    "output_log = OutputLog.load(\"runs/output_log/score_model.gzip\")"
   ]
  },
  {
   "cell_type": "code",
   "execution_count": null,
   "metadata": {},
   "outputs": [],
   "source": [
    "query = (output_log.query_weight, output_log.query_feature, output_log.query_coord, output_log.query_batch)\n",
    "query_ext_info = (output_log.ext_edge_src_query, output_log.ext_edge_dst_query)\n",
    "query_graph_info = (output_log.node_feature_query, output_log.node_coord_query, output_log.node_batch_query, output_log.node_scale_slice_query, output_log.node_edge_src_query, output_log.node_edge_dst_query)\n",
    "key_ext_info = (output_log.ext_edge_src_key, output_log.ext_edge_dst_key)\n",
    "key_graph_info = (output_log.node_feature_key, output_log.node_coord_key, output_log.node_batch_key, output_log.node_scale_slice_key, output_log.node_edge_src_key, output_log.node_edge_dst_key)"
   ]
  },
  {
   "cell_type": "code",
   "execution_count": null,
   "metadata": {},
   "outputs": [],
   "source": [
    "node_coord = key_graph_info[1]\n",
    "node_batch = key_graph_info[2]\n",
    "node_scale_slice = key_graph_info[3]\n",
    "edge_src = key_graph_info[4]\n",
    "edge_dst = key_graph_info[5]\n",
    "edge_dst, edge_src = edge_src, edge_dst # Because Unet is upside down"
   ]
  },
  {
   "cell_type": "code",
   "execution_count": null,
   "metadata": {},
   "outputs": [],
   "source": [
    "edges = [[] for _ in node_coord]\n",
    "for src, dst in zip(edge_src, edge_dst):\n",
    "    edges[dst.item()].append(src.item())"
   ]
  },
  {
   "cell_type": "code",
   "execution_count": null,
   "metadata": {},
   "outputs": [],
   "source": []
  },
  {
   "cell_type": "code",
   "execution_count": null,
   "metadata": {},
   "outputs": [],
   "source": [
    "n_scales = 4\n",
    "src_scale = 0\n",
    "dst_scale = 1"
   ]
  },
  {
   "cell_type": "code",
   "execution_count": null,
   "metadata": {},
   "outputs": [],
   "source": [
    "src_idx = torch.arange(node_scale_slice[src_scale], node_scale_slice[src_scale+1])\n",
    "dst_idx = torch.arange(node_scale_slice[dst_scale], node_scale_slice[dst_scale+1])\n",
    "\n",
    "src_node_coord = node_coord[src_idx]\n",
    "dst_node_coord = node_coord[dst_idx]\n",
    "\n",
    "# node_plot = PointCloud.points_to_plotly(node_coord)\n",
    "# edge_src = multiscale_edge_src[torch.logical_and((multiscale_edge_src >= node_scale_slice[src_scale]), (multiscale_edge_src < node_scale_slice[src_scale+1])).nonzero().squeeze(-1)] - node_scale_slice[src_scale]\n",
    "# edge_dst = multiscale_edge_dst[torch.logical_and((multiscale_edge_dst >= node_scale_slice[dst_scale]), (multiscale_edge_dst < node_scale_slice[dst_scale+1])).nonzero().squeeze(-1)] - node_scale_slice[dst_scale]\n",
    "# edges = [[] for _ in node_coord]\n",
    "# for src, dst in zip(edge_src, node_edge_dst):\n",
    "#     edges[dst.item()].append(src.item())"
   ]
  },
  {
   "cell_type": "code",
   "execution_count": null,
   "metadata": {},
   "outputs": [],
   "source": [
    "edges[4000]"
   ]
  },
  {
   "cell_type": "code",
   "execution_count": null,
   "metadata": {},
   "outputs": [],
   "source": [
    "dst_i = 4000\n",
    "dst_z_disp = 50\n",
    "\n",
    "\n",
    "\n",
    "xe, ye, ze = [], [], []\n",
    "\n",
    "for src_i in edges[dst_i]:\n",
    "    xe += [node_coord[src_i,0].item(), node_coord[dst_i, 0].item(), None]\n",
    "    ye += [node_coord[src_i,1].item(), node_coord[dst_i, 1].item(), None]\n",
    "    ze += [node_coord[src_i,2].item(), node_coord[dst_i, 2].item() + dst_z_disp, None]"
   ]
  },
  {
   "cell_type": "code",
   "execution_count": null,
   "metadata": {},
   "outputs": [],
   "source": [
    "src_node_plot = go.Scatter3d(x=src_node_coord[:,0].numpy(),\n",
    "                           y=src_node_coord[:,1].numpy(),\n",
    "                           z=src_node_coord[:,2].numpy(),\n",
    "                           mode='markers',\n",
    "                           name='src_nodes',\n",
    "                           marker=dict(symbol='circle',\n",
    "                                       size=1,\n",
    "                                       color='rgb(0,0,0)'),\n",
    "                           text=src_idx,\n",
    "                           hoverinfo='text')\n",
    "dst_node_plot = go.Scatter3d(x=dst_node_coord[:,0].numpy(),\n",
    "                             y=dst_node_coord[:,1].numpy(),\n",
    "                             z=dst_node_coord[:,2].numpy() + dst_z_disp,\n",
    "                           mode='markers',\n",
    "                           name='dst_nodes',\n",
    "                           marker=dict(symbol='circle',\n",
    "                                        size=1,\n",
    "                                        color='rgb(0,0,0)'),\n",
    "                           text=dst_idx,\n",
    "                           hoverinfo='text')\n",
    "\n",
    "\n",
    "\n",
    "edges_plot = go.Scatter3d(x=xe,\n",
    "               y=ye,\n",
    "               z=ze,\n",
    "               mode='lines',\n",
    "               line=dict(color='rgb(125,125,125)', width=1),\n",
    "               hoverinfo='none'\n",
    "               )"
   ]
  },
  {
   "cell_type": "code",
   "execution_count": null,
   "metadata": {},
   "outputs": [],
   "source": [
    "fig=go.Figure(data=[src_node_plot, dst_node_plot, edges_plot])\n",
    "fig"
   ]
  }
 ],
 "metadata": {
  "kernelspec": {
   "display_name": "diff_edf",
   "language": "python",
   "name": "python3"
  },
  "language_info": {
   "codemirror_mode": {
    "name": "ipython",
    "version": 3
   },
   "file_extension": ".py",
   "mimetype": "text/x-python",
   "name": "python",
   "nbconvert_exporter": "python",
   "pygments_lexer": "ipython3",
   "version": "3.8.16"
  },
  "orig_nbformat": 4,
  "vscode": {
   "interpreter": {
    "hash": "79a0085b6cf04e1cff261ad12d41cff4e1530d9e68d1f8fc6bd159a2915452c6"
   }
  }
 },
 "nbformat": 4,
 "nbformat_minor": 2
}
