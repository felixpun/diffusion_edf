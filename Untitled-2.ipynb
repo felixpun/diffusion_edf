{
 "cells": [
  {
   "cell_type": "code",
   "execution_count": null,
   "metadata": {},
   "outputs": [],
   "source": [
    "from typing import List, Tuple, Optional, Union\n",
    "\n",
    "import torch\n",
    "\n",
    "from e3nn import o3\n",
    "from e3nn.util.jit import compile_mode as e3nn_compile_mode, script as e3nn_script\n",
    "from torch_cluster import radius_graph\n",
    "\n",
    "from diffusion_edf.equiformer.graph_attention_transformer import TransBlock, EdgeDegreeEmbeddingNetwork, FeedForwardNetwork\n",
    "from diffusion_edf.equiformer.gaussian_rbf import GaussianRadialBasisLayer\n",
    "from diffusion_edf.equiformer.tensor_product_rescale import LinearRS, irreps2gate\n",
    "from diffusion_edf.equiformer.fast_activation import Activation, Gate\n",
    "\n",
    "from diffusion_edf.embedding import NodeEmbeddingNetwork\n"
   ]
  },
  {
   "cell_type": "code",
   "execution_count": null,
   "metadata": {},
   "outputs": [],
   "source": [
    "device = 'cuda:0'\n",
    "compile = True\n",
    "\n",
    "irreps_input = o3.Irreps('3x0e')\n",
    "irreps_node_embedding = o3.Irreps('128x0e+64x1e+32x2e')\n",
    "irreps_node_attr = o3.Irreps('1x0e')\n",
    "irreps_sh = o3.Irreps('1x0e+1x1e+1x2e')\n",
    "irreps_block_output = o3.Irreps('128x0e+64x1e+32x2e')\n",
    "number_of_basis = 128\n",
    "fc_neurons = [64, 64]\n",
    "irreps_head = o3.Irreps('32x0e+16x1o+8x2e')\n",
    "num_heads = 4\n",
    "irreps_pre_attn = None\n",
    "rescale_degree = False\n",
    "nonlinear_message = False\n",
    "alpha_drop = 0.2\n",
    "proj_drop = 0.0\n",
    "drop_path_rate = 0.0\n",
    "irreps_mlp_mid = o3.Irreps('128x0e+64x1e+32x2e')\n",
    "norm_layer = 'layer'\n",
    "rbf_max_radius = 5.0\n",
    "\n",
    "\n",
    "\n",
    "\n",
    "rbf = GaussianRadialBasisLayer(number_of_basis, cutoff=rbf_max_radius)\n",
    "node_enc = NodeEmbeddingNetwork(irreps_input=irreps_input, irreps_node_emb=irreps_node_embedding)\n",
    "edge_deg_enc = EdgeDegreeEmbeddingNetwork(irreps_node_embedding=irreps_node_embedding,\n",
    "                                          irreps_edge_attr=irreps_sh, \n",
    "                                          fc_neurons = [number_of_basis] + fc_neurons, \n",
    "                                          avg_aggregate_num = 4)\n",
    "\n",
    "\n",
    "if compile:\n",
    "    rbf = torch.jit.script(rbf).to(device)\n",
    "    node_enc = e3nn_script(node_enc).to(device)\n",
    "    edge_deg_enc = e3nn_script(edge_deg_enc).to(device)\n",
    "else:\n",
    "    rbf = rbf.to(device)\n",
    "    node_enc = node_enc.to(device)\n",
    "    edge_deg_enc = edge_deg_enc.to(device)"
   ]
  },
  {
   "cell_type": "code",
   "execution_count": null,
   "metadata": {},
   "outputs": [],
   "source": [
    "irreps_scalars, irreps_gates, irreps_gated = irreps2gate(irreps_node_embedding)"
   ]
  },
  {
   "cell_type": "code",
   "execution_count": null,
   "metadata": {},
   "outputs": [],
   "source": [
    "irreps_out = o3.Irreps('128x0e+64x1e+32x2e')\n",
    "irreps_scalars, irreps_gates, irreps_gated = irreps2gate(irreps_out)\n",
    "if irreps_gated.num_irreps == 0: # use typical scalar activation if irreps_out is all scalar (L=0)\n",
    "    gate = Activation(irreps_out, acts=[torch.nn.SiLU()])\n",
    "else: # use gate nonlinearity if there are non-scalar (L>0) components in the irreps_out.\n",
    "    gate = Gate(\n",
    "        irreps_scalars, [torch.nn.SiLU() for _ in irreps_scalars],  # scalar\n",
    "        irreps_gates, [torch.sigmoid for _ in irreps_gates],  # gates (scalars)\n",
    "        irreps_gated  # gated tensors\n",
    "    )\n",
    "gate_irreps_in: o3.Irreps = gate.irreps_in\n",
    "gate_irreps_out: o3.Irreps = gate.irreps_out\n",
    "\n",
    "gate = e3nn_script(gate).to(device)"
   ]
  },
  {
   "cell_type": "code",
   "execution_count": null,
   "metadata": {},
   "outputs": [],
   "source": [
    "gate(gate_irreps_in.randn(5,-1, device=device)).shape"
   ]
  },
  {
   "cell_type": "code",
   "execution_count": null,
   "metadata": {},
   "outputs": [],
   "source": [
    "gate_irreps_out.dim"
   ]
  },
  {
   "cell_type": "code",
   "execution_count": null,
   "metadata": {},
   "outputs": [],
   "source": []
  },
  {
   "cell_type": "code",
   "execution_count": null,
   "metadata": {},
   "outputs": [],
   "source": [
    "asfd"
   ]
  },
  {
   "cell_type": "code",
   "execution_count": null,
   "metadata": {},
   "outputs": [],
   "source": [
    "layer = FeedForwardNetwork(irreps_node_input=irreps_node_embedding, irreps_node_attr=irreps_node_attr, irreps_node_output=irreps_node_embedding, irreps_mlp_mid=irreps_mlp_mid)\n",
    "layer = e3nn_script(layer).to(device)"
   ]
  },
  {
   "cell_type": "code",
   "execution_count": null,
   "metadata": {},
   "outputs": [],
   "source": [
    "fsda"
   ]
  },
  {
   "cell_type": "code",
   "execution_count": null,
   "metadata": {},
   "outputs": [],
   "source": [
    "# block1 = TransBlock(irreps_node_input=irreps_node_embedding, \n",
    "#                     irreps_node_attr=irreps_node_attr,\n",
    "#                     irreps_edge_attr=irreps_sh, \n",
    "#                     irreps_node_output=irreps_block_output,\n",
    "#                     fc_neurons= [number_of_basis] + fc_neurons, \n",
    "#                     irreps_head=irreps_head, \n",
    "#                     num_heads=num_heads, \n",
    "#                     irreps_pre_attn=irreps_pre_attn, \n",
    "#                     rescale_degree=rescale_degree,\n",
    "#                     nonlinear_message=nonlinear_message,\n",
    "#                     alpha_drop=alpha_drop, \n",
    "#                     proj_drop=proj_drop,\n",
    "#                     drop_path_rate=drop_path_rate,\n",
    "#                     irreps_mlp_mid=irreps_mlp_mid,\n",
    "#                     norm_layer=norm_layer).to(device)\n",
    "\n",
    "\n",
    "\n",
    "# # block1 = e3nn.util.jit.script(block1)"
   ]
  },
  {
   "cell_type": "code",
   "execution_count": null,
   "metadata": {},
   "outputs": [],
   "source": [
    "N_nodes = 5\n",
    "neighball_radius = 5.0\n",
    "\n",
    "input_feature = irreps_input.randn(N_nodes, -1, device=device)\n",
    "node_coord = torch.randn(N_nodes, 3, device=device)\n",
    "batch = torch.zeros(N_nodes, device=device, dtype=torch.long)\n",
    "node_attr = torch.ones(5, 1, device=device) # dummy"
   ]
  },
  {
   "cell_type": "code",
   "execution_count": null,
   "metadata": {},
   "outputs": [],
   "source": [
    "edge_src, edge_dst = radius_graph(node_coord, r=neighball_radius, batch=batch, loop=False, max_num_neighbors=1000)"
   ]
  },
  {
   "cell_type": "code",
   "execution_count": null,
   "metadata": {},
   "outputs": [],
   "source": [
    "edge_vec = node_coord.index_select(0, edge_src) - node_coord.index_select(0, edge_dst)\n",
    "edge_sh = o3.spherical_harmonics(l=irreps_sh, x=edge_vec, normalize=True, normalization='component')\n",
    "edge_length = edge_vec.norm(dim=1)\n",
    "edge_length_emb = rbf(edge_length)\n",
    "\n",
    "node_emb = node_enc(input_feature)\n",
    "edge_degree_emb = edge_deg_enc(node_input = node_emb, \n",
    "                               edge_attr = edge_sh, \n",
    "                               edge_scalars = edge_length_emb, \n",
    "                               edge_src = edge_src, \n",
    "                               edge_dst = edge_dst)\n",
    "\n",
    "node_input = node_emb + edge_degree_emb\n",
    "edge_scalars = edge_length_emb"
   ]
  },
  {
   "cell_type": "code",
   "execution_count": null,
   "metadata": {},
   "outputs": [],
   "source": [
    "node_features =  block1(node_input=node_input, \n",
    "                        node_attr = node_attr, \n",
    "                        edge_src = edge_src, \n",
    "                        edge_dst = edge_dst,\n",
    "                        edge_attr = edge_sh,\n",
    "                        edge_scalars = edge_scalars,\n",
    "                        batch = batch)"
   ]
  },
  {
   "cell_type": "code",
   "execution_count": null,
   "metadata": {},
   "outputs": [],
   "source": [
    "node_features.shape"
   ]
  },
  {
   "cell_type": "code",
   "execution_count": null,
   "metadata": {},
   "outputs": [],
   "source": []
  }
 ],
 "metadata": {
  "kernelspec": {
   "display_name": "diff_edf",
   "language": "python",
   "name": "python3"
  },
  "language_info": {
   "codemirror_mode": {
    "name": "ipython",
    "version": 3
   },
   "file_extension": ".py",
   "mimetype": "text/x-python",
   "name": "python",
   "nbconvert_exporter": "python",
   "pygments_lexer": "ipython3",
   "version": "3.8.16"
  },
  "orig_nbformat": 4,
  "vscode": {
   "interpreter": {
    "hash": "79a0085b6cf04e1cff261ad12d41cff4e1530d9e68d1f8fc6bd159a2915452c6"
   }
  }
 },
 "nbformat": 4,
 "nbformat_minor": 2
}
