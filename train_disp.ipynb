{
 "cells": [
  {
   "cell_type": "code",
   "execution_count": 1,
   "metadata": {},
   "outputs": [],
   "source": [
    "import os\n",
    "os.environ[\"PYTORCH_JIT_USE_NNC_NOT_NVFUSER\"] = \"1\""
   ]
  },
  {
   "cell_type": "code",
   "execution_count": 2,
   "metadata": {},
   "outputs": [
    {
     "name": "stdout",
     "output_type": "stream",
     "text": [
      "Jupyter environment detected. Enabling Open3D WebVisualizer.\n",
      "[Open3D INFO] WebRTC GUI backend enabled.\n",
      "[Open3D INFO] WebRTCWindowSystem: HTTP handshake server disabled.\n"
     ]
    }
   ],
   "source": [
    "from typing import List, Tuple, Optional, Union, Iterable\n",
    "\n",
    "import plotly.graph_objects as go\n",
    "\n",
    "import torch\n",
    "from torch.utils.data import DataLoader\n",
    "from torchvision.transforms import Compose\n",
    "from diffusion_edf.transforms import quaternion_apply, random_quaternions, quaternion_multiply, quaternion_invert, axis_angle_to_quaternion, se3_exp_map, matrix_to_quaternion, se3_log_map\n",
    "\n",
    "from e3nn import o3\n",
    "\n",
    "from diffusion_edf.embedding import NodeEmbeddingNetwork\n",
    "from diffusion_edf.data import SE3, PointCloud, TargetPoseDemo, DemoSequence, DemoSeqDataset, load_demos, save_demos\n",
    "from diffusion_edf.preprocess import Rescale, NormalizeColor, Downsample, PointJitter, ColorJitter\n",
    "from diffusion_edf.wigner import TransformFeatureQuaternion\n",
    "from diffusion_edf.score_model import ScoreModel"
   ]
  },
  {
   "cell_type": "code",
   "execution_count": 3,
   "metadata": {},
   "outputs": [],
   "source": [
    "unit_len = 0.01\n",
    "scene_voxel_size = 0.01\n",
    "grasp_voxel_size = 0.01\n",
    "\n",
    "scene_voxel_size = scene_voxel_size / unit_len\n",
    "grasp_voxel_size = grasp_voxel_size / unit_len\n",
    "\n",
    "\n",
    "rescale_fn = Rescale(rescale_factor=1/unit_len)\n",
    "recover_scale_fn = Rescale(rescale_factor=unit_len)\n",
    "normalize_color_fn = NormalizeColor(color_mean = torch.tensor([0.5, 0.5, 0.5]), color_std = torch.tensor([0.5, 0.5, 0.5]))\n",
    "recover_color_fn = NormalizeColor(color_mean = -normalize_color_fn.color_mean / normalize_color_fn.color_std, color_std = 1 / normalize_color_fn.color_std)\n",
    "\n",
    "\n",
    "scene_proc_fn = Compose([rescale_fn,\n",
    "                         Downsample(voxel_size=scene_voxel_size, coord_reduction=\"average\"),\n",
    "                         normalize_color_fn])\n",
    "scene_unproc_fn = Compose([recover_color_fn, recover_scale_fn])\n",
    "grasp_proc_fn = Compose([rescale_fn,\n",
    "                         Downsample(voxel_size=grasp_voxel_size, coord_reduction=\"average\"),\n",
    "                         normalize_color_fn])\n",
    "grasp_unproc_fn = Compose([recover_color_fn, recover_scale_fn])"
   ]
  },
  {
   "cell_type": "code",
   "execution_count": 4,
   "metadata": {},
   "outputs": [],
   "source": [
    "import math\n",
    "\n",
    "device = 'cuda:0'\n",
    "compile = False\n",
    "eval = True\n",
    "\n",
    "irreps_input = o3.Irreps('3x0e')\n",
    "irreps_node_embedding = o3.Irreps('32x0e+16x1e+8x2e') #o3.Irreps('128x0e+64x1e+32x2e')\n",
    "irreps_sh = o3.Irreps('1x0e+1x1e+1x2e')\n",
    "fc_neurons = [128, 64, 64]\n",
    "num_heads = 4\n",
    "alpha_drop = 0.2\n",
    "proj_drop = 0.0\n",
    "drop_path_rate = 0.0\n",
    "irreps_mlp_mid = 2\n",
    "n_scales = 4\n",
    "pool_ratio = 0.5"
   ]
  },
  {
   "cell_type": "code",
   "execution_count": 5,
   "metadata": {},
   "outputs": [
    {
     "name": "stderr",
     "output_type": "stream",
     "text": [
      "/home/hw/anaconda3/envs/diff_edf/lib/python3.8/site-packages/torch/jit/_check.py:181: UserWarning: The TorchScript type system doesn't support instance-level annotations on empty non-base types in `__init__`. Instead, either 1) use a type annotation in the class body, or 2) wrap the type in `torch.jit.Attribute`.\n",
      "  warnings.warn(\"The TorchScript type system doesn't support \"\n"
     ]
    }
   ],
   "source": [
    "score_model = ScoreModel(irreps_input = irreps_input,\n",
    "                         irreps_emb_init = irreps_node_embedding,\n",
    "                         irreps_sh = irreps_sh,\n",
    "                         fc_neurons_init = [32, 16, 16],\n",
    "                         num_heads = 4,\n",
    "                         n_scales = 4,\n",
    "                         pool_ratio = 0.5,\n",
    "                         dim_mult = [1, 2, 3, 4],\n",
    "                         n_layers = 2,\n",
    "                         gnn_radius = 2.0,\n",
    "                         cutoff_radius = 3.0,\n",
    "                         weight_feature_dim = 20,\n",
    "                         query_downsample_ratio = 0.3,\n",
    "                         device=device,\n",
    "                         deterministic = True,\n",
    "                         compile_head = compile)\n",
    "\n",
    "score_model = score_model.to(device)\n",
    "if eval:\n",
    "    score_model = score_model.eval()"
   ]
  },
  {
   "attachments": {},
   "cell_type": "markdown",
   "metadata": {},
   "source": [
    "# Load demo"
   ]
  },
  {
   "cell_type": "code",
   "execution_count": 6,
   "metadata": {},
   "outputs": [],
   "source": [
    "optimizer = torch.optim.Adam(list(score_model.parameters()), lr=1e-4, betas=(0.9, 0.98), eps=1e-09, weight_decay=1e-4, amsgrad=True)"
   ]
  },
  {
   "cell_type": "code",
   "execution_count": 7,
   "metadata": {},
   "outputs": [],
   "source": [
    "loss_fn = torch.nn.MSELoss(reduction='mean')"
   ]
  },
  {
   "cell_type": "code",
   "execution_count": 8,
   "metadata": {},
   "outputs": [],
   "source": [
    "trainset = DemoSeqDataset(dataset_dir=\"demo/test_demo\", annotation_file=\"data.yaml\", device=device)\n",
    "train_dataloader = DataLoader(trainset, shuffle=True, collate_fn=lambda x:x)"
   ]
  },
  {
   "cell_type": "code",
   "execution_count": 9,
   "metadata": {},
   "outputs": [],
   "source": [
    "loss_list = []"
   ]
  },
  {
   "cell_type": "code",
   "execution_count": 10,
   "metadata": {},
   "outputs": [],
   "source": [
    "optimizer.zero_grad(set_to_none=True)"
   ]
  },
  {
   "cell_type": "code",
   "execution_count": 11,
   "metadata": {},
   "outputs": [],
   "source": [
    "std_ang = 0.5\n",
    "std_lin = 1.0"
   ]
  },
  {
   "cell_type": "code",
   "execution_count": 12,
   "metadata": {},
   "outputs": [
    {
     "name": "stdout",
     "output_type": "stream",
     "text": [
      "tensor(1.0980)\n",
      "tensor(0.9636)\n",
      "tensor(0.9553)\n",
      "tensor(0.9565)\n",
      "tensor(0.8309)\n",
      "tensor(0.8617)\n",
      "tensor(0.9896)\n",
      "tensor(0.8714)\n",
      "tensor(0.8592)\n",
      "tensor(0.8587)\n",
      "tensor(0.9315)\n",
      "tensor(0.9037)\n",
      "tensor(0.8276)\n",
      "tensor(0.9038)\n",
      "tensor(0.8701)\n",
      "tensor(0.9444)\n",
      "tensor(0.8722)\n",
      "tensor(0.8857)\n",
      "tensor(0.9131)\n",
      "tensor(0.8992)\n",
      "tensor(0.8459)\n",
      "tensor(0.7602)\n",
      "tensor(0.8090)\n",
      "tensor(0.9047)\n",
      "tensor(0.9084)\n",
      "tensor(0.7524)\n",
      "tensor(0.8799)\n",
      "tensor(0.8450)\n",
      "tensor(0.7976)\n",
      "tensor(0.7830)\n",
      "tensor(0.8247)\n",
      "tensor(0.8701)\n",
      "tensor(0.8746)\n",
      "tensor(0.8111)\n",
      "tensor(0.8521)\n",
      "tensor(0.8657)\n",
      "tensor(0.8718)\n",
      "tensor(0.9119)\n",
      "tensor(0.7803)\n",
      "tensor(0.9780)\n",
      "tensor(0.9485)\n",
      "tensor(0.8453)\n",
      "tensor(0.8875)\n",
      "tensor(0.8283)\n",
      "tensor(0.8815)\n",
      "tensor(0.8070)\n",
      "tensor(0.8717)\n",
      "tensor(0.7448)\n",
      "tensor(0.8416)\n",
      "tensor(0.8039)\n",
      "tensor(0.7880)\n",
      "tensor(0.8170)\n",
      "tensor(0.7834)\n",
      "tensor(0.9160)\n",
      "tensor(0.8671)\n",
      "tensor(0.8036)\n",
      "tensor(0.7411)\n",
      "tensor(0.9098)\n",
      "tensor(0.7530)\n",
      "tensor(0.8025)\n",
      "tensor(0.8954)\n",
      "tensor(0.8500)\n",
      "tensor(0.8627)\n",
      "tensor(0.8831)\n",
      "tensor(0.8118)\n",
      "tensor(0.9141)\n",
      "tensor(0.8404)\n",
      "tensor(0.8914)\n",
      "tensor(0.6716)\n",
      "tensor(0.8359)\n",
      "tensor(0.9418)\n",
      "tensor(0.7863)\n",
      "tensor(0.8250)\n"
     ]
    },
    {
     "ename": "KeyboardInterrupt",
     "evalue": "",
     "output_type": "error",
     "traceback": [
      "\u001b[0;31m---------------------------------------------------------------------------\u001b[0m",
      "\u001b[0;31mKeyboardInterrupt\u001b[0m                         Traceback (most recent call last)",
      "Cell \u001b[0;32mIn[12], line 42\u001b[0m\n\u001b[1;32m     39\u001b[0m query_coord \u001b[39m=\u001b[39m grasp_proc\u001b[39m.\u001b[39mpoints\n\u001b[1;32m     40\u001b[0m query_batch \u001b[39m=\u001b[39m torch\u001b[39m.\u001b[39mzeros(\u001b[39mlen\u001b[39m(query_coord), device\u001b[39m=\u001b[39mdevice, dtype\u001b[39m=\u001b[39mtorch\u001b[39m.\u001b[39mlong)\n\u001b[0;32m---> 42\u001b[0m score, query_info, key_info \u001b[39m=\u001b[39m score_model(T\u001b[39m=\u001b[39;49mT,\n\u001b[1;32m     43\u001b[0m                                           key_feature\u001b[39m=\u001b[39;49mkey_feature, key_coord\u001b[39m=\u001b[39;49mkey_coord, key_batch\u001b[39m=\u001b[39;49mkey_batch,\n\u001b[1;32m     44\u001b[0m                                           query_feature\u001b[39m=\u001b[39;49mquery_feature, query_coord\u001b[39m=\u001b[39;49mquery_coord, query_batch\u001b[39m=\u001b[39;49mquery_batch,\n\u001b[1;32m     45\u001b[0m                                           info_mode\u001b[39m=\u001b[39;49m\u001b[39m'\u001b[39;49m\u001b[39mNONE\u001b[39;49m\u001b[39m'\u001b[39;49m)\n\u001b[1;32m     47\u001b[0m loss \u001b[39m=\u001b[39m loss_fn(score, \u001b[39m-\u001b[39mtorch\u001b[39m.\u001b[39mcat([disp_q\u001b[39m/\u001b[39mstd_ang, disp_x\u001b[39m/\u001b[39mstd_lin], dim\u001b[39m=\u001b[39m\u001b[39m-\u001b[39m\u001b[39m1\u001b[39m))\n\u001b[1;32m     48\u001b[0m loss\u001b[39m.\u001b[39mbackward()\n",
      "File \u001b[0;32m~/anaconda3/envs/diff_edf/lib/python3.8/site-packages/torch/nn/modules/module.py:1194\u001b[0m, in \u001b[0;36mModule._call_impl\u001b[0;34m(self, *input, **kwargs)\u001b[0m\n\u001b[1;32m   1190\u001b[0m \u001b[39m# If we don't have any hooks, we want to skip the rest of the logic in\u001b[39;00m\n\u001b[1;32m   1191\u001b[0m \u001b[39m# this function, and just call forward.\u001b[39;00m\n\u001b[1;32m   1192\u001b[0m \u001b[39mif\u001b[39;00m \u001b[39mnot\u001b[39;00m (\u001b[39mself\u001b[39m\u001b[39m.\u001b[39m_backward_hooks \u001b[39mor\u001b[39;00m \u001b[39mself\u001b[39m\u001b[39m.\u001b[39m_forward_hooks \u001b[39mor\u001b[39;00m \u001b[39mself\u001b[39m\u001b[39m.\u001b[39m_forward_pre_hooks \u001b[39mor\u001b[39;00m _global_backward_hooks\n\u001b[1;32m   1193\u001b[0m         \u001b[39mor\u001b[39;00m _global_forward_hooks \u001b[39mor\u001b[39;00m _global_forward_pre_hooks):\n\u001b[0;32m-> 1194\u001b[0m     \u001b[39mreturn\u001b[39;00m forward_call(\u001b[39m*\u001b[39;49m\u001b[39minput\u001b[39;49m, \u001b[39m*\u001b[39;49m\u001b[39m*\u001b[39;49mkwargs)\n\u001b[1;32m   1195\u001b[0m \u001b[39m# Do not call functions when jit is used\u001b[39;00m\n\u001b[1;32m   1196\u001b[0m full_backward_hooks, non_full_backward_hooks \u001b[39m=\u001b[39m [], []\n",
      "File \u001b[0;32m~/Codes/Research/diffusion_edf/diffusion_edf/score_model.py:229\u001b[0m, in \u001b[0;36mScoreModel.forward\u001b[0;34m(self, T, key_feature, key_coord, key_batch, query_feature, query_coord, query_batch, info_mode, iters)\u001b[0m\n\u001b[1;32m    224\u001b[0m \u001b[39mdef\u001b[39;00m \u001b[39mforward\u001b[39m(\u001b[39mself\u001b[39m, T: torch\u001b[39m.\u001b[39mTensor,\n\u001b[1;32m    225\u001b[0m             key_feature: torch\u001b[39m.\u001b[39mTensor, key_coord: torch\u001b[39m.\u001b[39mTensor, key_batch: torch\u001b[39m.\u001b[39mTensor,\n\u001b[1;32m    226\u001b[0m             query_feature: torch\u001b[39m.\u001b[39mTensor, query_coord: torch\u001b[39m.\u001b[39mTensor, query_batch: torch\u001b[39m.\u001b[39mTensor,\n\u001b[1;32m    227\u001b[0m             info_mode: \u001b[39mstr\u001b[39m \u001b[39m=\u001b[39m \u001b[39m'\u001b[39m\u001b[39mNONE\u001b[39m\u001b[39m'\u001b[39m, iters: \u001b[39mint\u001b[39m \u001b[39m=\u001b[39m \u001b[39m1\u001b[39m) \u001b[39m-\u001b[39m\u001b[39m>\u001b[39m Tuple[QUERY_TYPE, Optional[EDF_INFO_TYPE], Optional[EDF_INFO_TYPE]]:      \n\u001b[1;32m    228\u001b[0m     query, query_info \u001b[39m=\u001b[39m \u001b[39mself\u001b[39m\u001b[39m.\u001b[39m_get_query(node_feature\u001b[39m=\u001b[39mquery_feature, node_coord\u001b[39m=\u001b[39mquery_coord, batch\u001b[39m=\u001b[39mquery_batch, info_mode\u001b[39m=\u001b[39minfo_mode)\n\u001b[0;32m--> 229\u001b[0m     key_gnn_outputs \u001b[39m=\u001b[39m \u001b[39mself\u001b[39;49m\u001b[39m.\u001b[39;49mkey_model\u001b[39m.\u001b[39;49mget_gnn_outputs(node_feature\u001b[39m=\u001b[39;49mkey_feature, node_coord\u001b[39m=\u001b[39;49mkey_coord, batch\u001b[39m=\u001b[39;49mkey_batch) \n\u001b[1;32m    232\u001b[0m     \u001b[39m######## EXAMPLE ##########\u001b[39;00m\n\u001b[1;32m    233\u001b[0m     \u001b[39mif\u001b[39;00m iters \u001b[39m==\u001b[39m \u001b[39m1\u001b[39m:\n",
      "File \u001b[0;32m~/Codes/Research/diffusion_edf/diffusion_edf/unet.py:533\u001b[0m, in \u001b[0;36mEDF.get_gnn_outputs\u001b[0;34m(self, node_feature, node_coord, batch)\u001b[0m\n\u001b[1;32m    529\u001b[0m \u001b[39mdef\u001b[39;00m \u001b[39mget_gnn_outputs\u001b[39m(\u001b[39mself\u001b[39m, node_feature: torch\u001b[39m.\u001b[39mTensor, \n\u001b[1;32m    530\u001b[0m                     node_coord: torch\u001b[39m.\u001b[39mTensor, \n\u001b[1;32m    531\u001b[0m                     batch: torch\u001b[39m.\u001b[39mTensor) \u001b[39m-\u001b[39m\u001b[39m>\u001b[39m GNN_OUTPUT_TYPE: \n\u001b[1;32m    532\u001b[0m     node_emb \u001b[39m=\u001b[39m \u001b[39mself\u001b[39m\u001b[39m.\u001b[39menc(node_feature)\n\u001b[0;32m--> 533\u001b[0m     node_feature, node_coord, batch, scale_slice, edge_src, edge_dst \u001b[39m=\u001b[39m \u001b[39mself\u001b[39;49m\u001b[39m.\u001b[39;49mgnn(node_feature\u001b[39m=\u001b[39;49mnode_emb,\n\u001b[1;32m    534\u001b[0m                                                                                 node_coord\u001b[39m=\u001b[39;49mnode_coord,\n\u001b[1;32m    535\u001b[0m                                                                                 batch\u001b[39m=\u001b[39;49mbatch)\n\u001b[1;32m    536\u001b[0m     \u001b[39mreturn\u001b[39;00m node_feature, node_coord, batch, scale_slice, edge_src, edge_dst\n",
      "File \u001b[0;32m~/anaconda3/envs/diff_edf/lib/python3.8/site-packages/torch/nn/modules/module.py:1194\u001b[0m, in \u001b[0;36mModule._call_impl\u001b[0;34m(self, *input, **kwargs)\u001b[0m\n\u001b[1;32m   1190\u001b[0m \u001b[39m# If we don't have any hooks, we want to skip the rest of the logic in\u001b[39;00m\n\u001b[1;32m   1191\u001b[0m \u001b[39m# this function, and just call forward.\u001b[39;00m\n\u001b[1;32m   1192\u001b[0m \u001b[39mif\u001b[39;00m \u001b[39mnot\u001b[39;00m (\u001b[39mself\u001b[39m\u001b[39m.\u001b[39m_backward_hooks \u001b[39mor\u001b[39;00m \u001b[39mself\u001b[39m\u001b[39m.\u001b[39m_forward_hooks \u001b[39mor\u001b[39;00m \u001b[39mself\u001b[39m\u001b[39m.\u001b[39m_forward_pre_hooks \u001b[39mor\u001b[39;00m _global_backward_hooks\n\u001b[1;32m   1193\u001b[0m         \u001b[39mor\u001b[39;00m _global_forward_hooks \u001b[39mor\u001b[39;00m _global_forward_pre_hooks):\n\u001b[0;32m-> 1194\u001b[0m     \u001b[39mreturn\u001b[39;00m forward_call(\u001b[39m*\u001b[39;49m\u001b[39minput\u001b[39;49m, \u001b[39m*\u001b[39;49m\u001b[39m*\u001b[39;49mkwargs)\n\u001b[1;32m   1195\u001b[0m \u001b[39m# Do not call functions when jit is used\u001b[39;00m\n\u001b[1;32m   1196\u001b[0m full_backward_hooks, non_full_backward_hooks \u001b[39m=\u001b[39m [], []\n",
      "File \u001b[0;32m~/Codes/Research/diffusion_edf/diffusion_edf/unet.py:254\u001b[0m, in \u001b[0;36mEdfUnet.forward\u001b[0;34m(self, node_feature, node_coord, batch)\u001b[0m\n\u001b[1;32m    251\u001b[0m edge_length \u001b[39m=\u001b[39m edge_vec\u001b[39m.\u001b[39mnorm(dim\u001b[39m=\u001b[39m\u001b[39m1\u001b[39m, p\u001b[39m=\u001b[39m\u001b[39m2\u001b[39m)\n\u001b[1;32m    252\u001b[0m edge_attr \u001b[39m=\u001b[39m block[\u001b[39m'\u001b[39m\u001b[39mspherical_harmonics\u001b[39m\u001b[39m'\u001b[39m](edge_vec)\n\u001b[0;32m--> 254\u001b[0m edge_scalars \u001b[39m=\u001b[39m block[\u001b[39m'\u001b[39;49m\u001b[39mpool_layer\u001b[39;49m\u001b[39m'\u001b[39;49m][\u001b[39m'\u001b[39;49m\u001b[39mradial\u001b[39;49m\u001b[39m'\u001b[39;49m](edge_length)\n\u001b[1;32m    255\u001b[0m node_feature_dst \u001b[39m=\u001b[39m block[\u001b[39m'\u001b[39m\u001b[39mpool_layer\u001b[39m\u001b[39m'\u001b[39m][\u001b[39m'\u001b[39m\u001b[39mgnn\u001b[39m\u001b[39m'\u001b[39m](node_input_src \u001b[39m=\u001b[39m node_feature,\n\u001b[1;32m    256\u001b[0m                                               node_input_dst \u001b[39m=\u001b[39m node_feature_dst,\n\u001b[1;32m    257\u001b[0m                                               batch_dst \u001b[39m=\u001b[39m batch_dst,\n\u001b[0;32m   (...)\u001b[0m\n\u001b[1;32m    260\u001b[0m                                               edge_attr \u001b[39m=\u001b[39m edge_attr,\n\u001b[1;32m    261\u001b[0m                                               edge_scalars \u001b[39m=\u001b[39m edge_scalars)\n\u001b[1;32m    264\u001b[0m node_feature \u001b[39m=\u001b[39m node_feature_dst\n",
      "File \u001b[0;32m~/anaconda3/envs/diff_edf/lib/python3.8/site-packages/torch/nn/modules/module.py:1194\u001b[0m, in \u001b[0;36mModule._call_impl\u001b[0;34m(self, *input, **kwargs)\u001b[0m\n\u001b[1;32m   1190\u001b[0m \u001b[39m# If we don't have any hooks, we want to skip the rest of the logic in\u001b[39;00m\n\u001b[1;32m   1191\u001b[0m \u001b[39m# this function, and just call forward.\u001b[39;00m\n\u001b[1;32m   1192\u001b[0m \u001b[39mif\u001b[39;00m \u001b[39mnot\u001b[39;00m (\u001b[39mself\u001b[39m\u001b[39m.\u001b[39m_backward_hooks \u001b[39mor\u001b[39;00m \u001b[39mself\u001b[39m\u001b[39m.\u001b[39m_forward_hooks \u001b[39mor\u001b[39;00m \u001b[39mself\u001b[39m\u001b[39m.\u001b[39m_forward_pre_hooks \u001b[39mor\u001b[39;00m _global_backward_hooks\n\u001b[1;32m   1193\u001b[0m         \u001b[39mor\u001b[39;00m _global_forward_hooks \u001b[39mor\u001b[39;00m _global_forward_pre_hooks):\n\u001b[0;32m-> 1194\u001b[0m     \u001b[39mreturn\u001b[39;00m forward_call(\u001b[39m*\u001b[39;49m\u001b[39minput\u001b[39;49m, \u001b[39m*\u001b[39;49m\u001b[39m*\u001b[39;49mkwargs)\n\u001b[1;32m   1195\u001b[0m \u001b[39m# Do not call functions when jit is used\u001b[39;00m\n\u001b[1;32m   1196\u001b[0m full_backward_hooks, non_full_backward_hooks \u001b[39m=\u001b[39m [], []\n",
      "File \u001b[0;32m~/Codes/Research/diffusion_edf/diffusion_edf/radial_func.py:67\u001b[0m, in \u001b[0;36mGaussianRadialBasisLayerFiniteCutoff.forward\u001b[0;34m(self, dist)\u001b[0m\n\u001b[1;32m     65\u001b[0m x \u001b[39m=\u001b[39m dist\u001b[39m.\u001b[39mexpand(\u001b[39m-\u001b[39m\u001b[39m1\u001b[39m, \u001b[39mself\u001b[39m\u001b[39m.\u001b[39mnum_basis)\n\u001b[1;32m     66\u001b[0m mean \u001b[39m=\u001b[39m \u001b[39mself\u001b[39m\u001b[39m.\u001b[39mmean\n\u001b[0;32m---> 67\u001b[0m std \u001b[39m=\u001b[39m F\u001b[39m.\u001b[39;49msoftplus(\u001b[39mself\u001b[39;49m\u001b[39m.\u001b[39;49mstd_logit) \u001b[39m+\u001b[39m \u001b[39m1e-5\u001b[39m\n\u001b[1;32m     68\u001b[0m x \u001b[39m=\u001b[39m gaussian(x, mean, std)\n\u001b[1;32m     69\u001b[0m x \u001b[39m=\u001b[39m torch\u001b[39m.\u001b[39msigmoid(\u001b[39mself\u001b[39m\u001b[39m.\u001b[39mweight_logit) \u001b[39m*\u001b[39m \u001b[39mself\u001b[39m\u001b[39m.\u001b[39mmax_weight \u001b[39m*\u001b[39m x\n",
      "\u001b[0;31mKeyboardInterrupt\u001b[0m: "
     ]
    }
   ],
   "source": [
    "max_epochs = 100\n",
    "N_samples = 10\n",
    "\n",
    "iter = 0\n",
    "for epoch in range(1, max_epochs+1):\n",
    "    for train_batch in train_dataloader:\n",
    "        iter += 1\n",
    "        assert len(train_batch) == 1, \"Batch training is not supported yet.\"\n",
    "\n",
    "        optimizer.zero_grad()\n",
    "\n",
    "        demo_seq: DemoSequence = train_batch[0]\n",
    "        demo: TargetPoseDemo = demo_seq[1]\n",
    "\n",
    "        scene_raw: PointCloud = demo.scene_pc\n",
    "        grasp_raw: PointCloud = demo.grasp_pc\n",
    "        target_poses: SE3 = demo.target_poses\n",
    "\n",
    "        scene_proc = scene_proc_fn(scene_raw).to(device)\n",
    "        grasp_proc = grasp_proc_fn(grasp_raw).to(device)\n",
    "        target_poses = rescale_fn(target_poses).to(device)\n",
    "\n",
    "        T_target = target_poses.poses\n",
    "\n",
    "        disp_q = torch.randn(N_samples, 3, device=device) * std_ang\n",
    "        disp_x = torch.randn(N_samples, 3, device=device) * std_lin\n",
    "        disp_T = se3_exp_map(torch.cat([disp_x, disp_q], dim=-1))\n",
    "        disp_T = torch.cat([matrix_to_quaternion(disp_T[...,:3,:3]), disp_T[...,:3,-1]], dim=-1)\n",
    "\n",
    "\n",
    "        T = torch.cat([quaternion_multiply(T_target[..., :4], disp_T[..., :4]), \n",
    "                    quaternion_apply(T_target[..., :4], disp_T[..., 4:]) + T_target[..., 4:]], dim=-1)\n",
    "\n",
    "\n",
    "        key_feature = scene_proc.colors\n",
    "        key_coord = scene_proc.points\n",
    "        key_batch = torch.zeros(len(key_coord), device=device, dtype=torch.long)\n",
    "        query_feature = grasp_proc.colors\n",
    "        query_coord = grasp_proc.points\n",
    "        query_batch = torch.zeros(len(query_coord), device=device, dtype=torch.long)\n",
    "\n",
    "        score, query_info, key_info = score_model(T=T,\n",
    "                                                  key_feature=key_feature, key_coord=key_coord, key_batch=key_batch,\n",
    "                                                  query_feature=query_feature, query_coord=query_coord, query_batch=query_batch,\n",
    "                                                  info_mode='NONE')\n",
    "        \n",
    "        loss = loss_fn(score, -torch.cat([disp_q/std_ang, disp_x/std_lin], dim=-1))\n",
    "        loss.backward()\n",
    "        optimizer.step()\n",
    "        loss_list.append(loss.item())\n",
    "    print(torch.tensor(loss_list[-len(trainset):]).mean())"
   ]
  },
  {
   "cell_type": "code",
   "execution_count": 29,
   "metadata": {},
   "outputs": [
    {
     "data": {
      "text/plain": [
       "[<matplotlib.lines.Line2D at 0x7efad790baf0>]"
      ]
     },
     "execution_count": 29,
     "metadata": {},
     "output_type": "execute_result"
    },
    {
     "data": {
      "image/png": "[encoded data removed]",
      "text/plain": [
       "<Figure size 640x480 with 1 Axes>"
      ]
     },
     "metadata": {},
     "output_type": "display_data"
    }
   ],
   "source": [
    "import matplotlib.pyplot as plt\n",
    "ll = torch.tensor(loss_list)\n",
    "window_len = 20\n",
    "ll_filtered = ll.unfold(0, window_len, 1).mean(dim=-1)\n",
    "plt.plot(ll_filtered)"
   ]
  }
 ],
 "metadata": {
  "kernelspec": {
   "display_name": "diff_edf",
   "language": "python",
   "name": "python3"
  },
  "language_info": {
   "codemirror_mode": {
    "name": "ipython",
    "version": 3
   },
   "file_extension": ".py",
   "mimetype": "text/x-python",
   "name": "python",
   "nbconvert_exporter": "python",
   "pygments_lexer": "ipython3",
   "version": "3.8.16"
  },
  "orig_nbformat": 4,
  "vscode": {
   "interpreter": {
    "hash": "79a0085b6cf04e1cff261ad12d41cff4e1530d9e68d1f8fc6bd159a2915452c6"
   }
  }
 },
 "nbformat": 4,
 "nbformat_minor": 2
}
