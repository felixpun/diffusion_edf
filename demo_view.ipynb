{
 "cells": [
  {
   "cell_type": "code",
   "execution_count": null,
   "metadata": {},
   "outputs": [],
   "source": [
    "from edf_interface import data\n",
    "from edf_interface.data.dataset import load_demos\n",
    "from edf_interface.data import preprocess"
   ]
  },
  {
   "cell_type": "code",
   "execution_count": null,
   "metadata": {},
   "outputs": [],
   "source": [
    "episodes = load_demos('demo/sapien_demo_20230625/')\n",
    "# episodes = load_demos('demo/test_demo/')"
   ]
  },
  {
   "cell_type": "code",
   "execution_count": null,
   "metadata": {},
   "outputs": [],
   "source": [
    "episode_idx = 5\n",
    "episode: data.DemoSequence = episodes[episode_idx]\n",
    "pick_demo: data.TargetPoseDemo = episode[0]\n",
    "place_demo: data.TargetPoseDemo = episode[1]\n",
    "\n",
    "ranges = [[-0.4, 0.4], [-0.4, 0.4], [0.5, 1.3]]\n",
    "out = preprocess.crop_bbox(episode, bbox=ranges)"
   ]
  },
  {
   "cell_type": "code",
   "execution_count": null,
   "metadata": {},
   "outputs": [],
   "source": [
    "out[1].show()"
   ]
  }
 ],
 "metadata": {
  "kernelspec": {
   "display_name": "diff_edf",
   "language": "python",
   "name": "python3"
  },
  "language_info": {
   "codemirror_mode": {
    "name": "ipython",
    "version": 3
   },
   "file_extension": ".py",
   "mimetype": "text/x-python",
   "name": "python",
   "nbconvert_exporter": "python",
   "pygments_lexer": "ipython3",
   "version": "3.8.16"
  },
  "orig_nbformat": 4
 },
 "nbformat": 4,
 "nbformat_minor": 2
}
