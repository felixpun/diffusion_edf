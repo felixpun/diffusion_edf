{
 "cells": [
  {
   "cell_type": "code",
   "execution_count": null,
   "metadata": {},
   "outputs": [],
   "source": [
    "from edf_interface import data\n",
    "from edf_interface.data.dataset import load_demos\n",
    "from edf_interface.data import preprocess\n",
    "\n",
    "from torch_cluster import fps"
   ]
  },
  {
   "cell_type": "code",
   "execution_count": null,
   "metadata": {},
   "outputs": [],
   "source": [
    "# episodes = load_demos('demo/panda_mug_on_hanger/')\n",
    "# episodes = load_demos('demo/panda_bowl_on_dish/')\n",
    "episodes = load_demos('demo/panda_bottle_on_shelf/')"
   ]
  },
  {
   "cell_type": "code",
   "execution_count": null,
   "metadata": {},
   "outputs": [],
   "source": [
    "episode_idx = 3\n",
    "episode: data.DemoSequence = episodes[episode_idx]\n",
    "pick_demo: data.TargetPoseDemo = episode[0]\n",
    "try:\n",
    "    place_demo: data.TargetPoseDemo = episode[1]\n",
    "except IndexError:\n",
    "    place_demo = None"
   ]
  },
  {
   "cell_type": "code",
   "execution_count": null,
   "metadata": {},
   "outputs": [],
   "source": [
    "viz_pcd = pick_demo.scene_pcd\n",
    "viz_pcd = preprocess.crop_bbox(viz_pcd, bbox=[[-0.4, 0.4], [-0.8, 0.8], [0.5, 1.3]], targets=['scene_pcd'])\n",
    "viz_pcd = preprocess.downsample(viz_pcd, voxel_size=0.01, coord_reduction='average')"
   ]
  },
  {
   "cell_type": "code",
   "execution_count": null,
   "metadata": {},
   "outputs": [],
   "source": [
    "multiscale_pcds = [viz_pcd]\n",
    "pool_ratios = [0.15, 0.3, 0.3, 0.3]\n",
    "for pool_ratio in pool_ratios:\n",
    "    curr_pcd = multiscale_pcds[-1]\n",
    "    node_dst_idx = fps(src=curr_pcd.points, ratio=pool_ratio)\n",
    "    multiscale_pcds.append(\n",
    "        curr_pcd.new(\n",
    "            points=curr_pcd.points.detach().index_select(index=node_dst_idx, dim=0).clone(),\n",
    "            colors=curr_pcd.colors.detach().index_select(index=node_dst_idx, dim=0).clone()\n",
    "        )\n",
    "    )"
   ]
  },
  {
   "cell_type": "code",
   "execution_count": null,
   "metadata": {},
   "outputs": [],
   "source": [
    "multiscale_pcds[0].show(point_size=2.)"
   ]
  },
  {
   "cell_type": "code",
   "execution_count": null,
   "metadata": {},
   "outputs": [],
   "source": [
    "multiscale_pcds[1].show(point_size=3.)"
   ]
  },
  {
   "cell_type": "code",
   "execution_count": null,
   "metadata": {},
   "outputs": [],
   "source": [
    "multiscale_pcds[2].show(point_size=5.)"
   ]
  },
  {
   "cell_type": "code",
   "execution_count": null,
   "metadata": {},
   "outputs": [],
   "source": [
    "multiscale_pcds[3].show(point_size=5.)"
   ]
  },
  {
   "cell_type": "code",
   "execution_count": null,
   "metadata": {},
   "outputs": [],
   "source": [
    "multiscale_pcds[4].show(point_size=5.)"
   ]
  },
  {
   "cell_type": "code",
   "execution_count": null,
   "metadata": {},
   "outputs": [],
   "source": []
  },
  {
   "cell_type": "code",
   "execution_count": null,
   "metadata": {},
   "outputs": [],
   "source": []
  },
  {
   "cell_type": "code",
   "execution_count": null,
   "metadata": {},
   "outputs": [],
   "source": []
  }
 ],
 "metadata": {
  "kernelspec": {
   "display_name": "diff_edf",
   "language": "python",
   "name": "python3"
  },
  "language_info": {
   "codemirror_mode": {
    "name": "ipython",
    "version": 3
   },
   "file_extension": ".py",
   "mimetype": "text/x-python",
   "name": "python",
   "nbconvert_exporter": "python",
   "pygments_lexer": "ipython3",
   "version": "3.8.16"
  },
  "orig_nbformat": 4
 },
 "nbformat": 4,
 "nbformat_minor": 2
}
