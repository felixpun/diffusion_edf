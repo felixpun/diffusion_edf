{
 "cells": [
  {
   "cell_type": "code",
   "execution_count": null,
   "metadata": {},
   "outputs": [],
   "source": [
    "import os\n",
    "from edf_interface import data\n",
    "from diffusion_edf.train_utils import gzip_load"
   ]
  },
  {
   "cell_type": "code",
   "execution_count": null,
   "metadata": {},
   "outputs": [],
   "source": [
    "step = 4\n",
    "fields = ['Diffused Pose', 'Grasp Attention', 'Grasp', 'Target Pose']\n",
    "root_path = 'runs/<dir_name>'\n",
    "root_path = os.path.join(root_path, 'custom_data', f\"step_{step}\")\n",
    "\n",
    "files = []\n",
    "for field in fields:\n",
    "    files.append(gzip_load(os.path.join(root_path, field + '.gzip')))"
   ]
  },
  {
   "cell_type": "code",
   "execution_count": null,
   "metadata": {},
   "outputs": [],
   "source": [
    "import torch\n",
    "attn_colors = files[1]['data']['vertex_colors']\n",
    "# attn_colors = torch.log(attn_colors)\n",
    "attn_colors = attn_colors - attn_colors.min(dim=0).values\n",
    "attn_colors = attn_colors / attn_colors.max(dim=0).values\n",
    "attn_colors = attn_colors * torch.tensor([0., 1., 1.])"
   ]
  },
  {
   "cell_type": "code",
   "execution_count": null,
   "metadata": {},
   "outputs": [],
   "source": [
    "diffused = data.PointCloud(points=files[0]['data']['vertex_positions'], colors=files[0]['data']['vertex_colors'])\n",
    "grasp_attn = data.PointCloud(points=files[1]['data']['vertex_positions'], colors=attn_colors)\n",
    "grasp = data.PointCloud(points=files[2]['data']['vertex_positions'], colors=files[2]['data']['vertex_colors'])\n",
    "grasp = data.PointCloud.merge(grasp, grasp_attn)\n",
    "target = data.PointCloud(points=files[3]['data']['vertex_positions'], colors=files[3]['data']['vertex_colors'])"
   ]
  },
  {
   "cell_type": "code",
   "execution_count": null,
   "metadata": {},
   "outputs": [],
   "source": [
    "grasp.show()"
   ]
  },
  {
   "cell_type": "code",
   "execution_count": null,
   "metadata": {},
   "outputs": [],
   "source": [
    "target.show()"
   ]
  },
  {
   "cell_type": "code",
   "execution_count": null,
   "metadata": {},
   "outputs": [],
   "source": [
    "diffused.show()"
   ]
  },
  {
   "cell_type": "code",
   "execution_count": null,
   "metadata": {},
   "outputs": [],
   "source": []
  },
  {
   "cell_type": "code",
   "execution_count": null,
   "metadata": {},
   "outputs": [],
   "source": []
  }
 ],
 "metadata": {
  "kernelspec": {
   "display_name": "diff_edf",
   "language": "python",
   "name": "python3"
  },
  "language_info": {
   "codemirror_mode": {
    "name": "ipython",
    "version": 3
   },
   "file_extension": ".py",
   "mimetype": "text/x-python",
   "name": "python",
   "nbconvert_exporter": "python",
   "pygments_lexer": "ipython3",
   "version": "3.8.16"
  },
  "orig_nbformat": 4
 },
 "nbformat": 4,
 "nbformat_minor": 2
}
