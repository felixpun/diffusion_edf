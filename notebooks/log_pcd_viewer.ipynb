{
 "cells": [
  {
   "cell_type": "code",
   "execution_count": null,
   "metadata": {},
   "outputs": [],
   "source": [
    "import os\n",
    "from edf_interface import data\n",
    "from diffusion_edf.train_utils import gzip_load"
   ]
  },
  {
   "cell_type": "code",
   "execution_count": null,
   "metadata": {},
   "outputs": [],
   "source": [
    "from ipywidgets import Output, HBox, Layout, VBox\n",
    "from IPython.display import display"
   ]
  },
  {
   "cell_type": "code",
   "execution_count": null,
   "metadata": {},
   "outputs": [],
   "source": [
    "step = 10\n",
    "fields = ['Diffused Pose', 'Grasp Attention', 'Grasp', 'Target Pose']\n",
    "root_path = os.path.join('runs/2023_06_26_15-52-32_Place_LowRes', 'custom_data', f\"step_{step}\")\n",
    "\n",
    "files = []\n",
    "for field in fields:\n",
    "    files.append(gzip_load(os.path.join(root_path, field + '.gzip')))"
   ]
  },
  {
   "cell_type": "code",
   "execution_count": null,
   "metadata": {},
   "outputs": [],
   "source": [
    "diffused = data.PointCloud(points=files[0]['data']['vertex_positions'], colors=files[0]['data']['vertex_colors'])\n",
    "grasp_attn = data.PointCloud(points=files[1]['data']['vertex_positions'], colors=files[1]['data']['vertex_colors'])\n",
    "grasp = data.PointCloud(points=files[2]['data']['vertex_positions'], colors=files[2]['data']['vertex_colors'])\n",
    "grasp = data.PointCloud.merge(grasp, grasp_attn)\n",
    "target = data.PointCloud(points=files[3]['data']['vertex_positions'], colors=files[3]['data']['vertex_colors'])"
   ]
  },
  {
   "cell_type": "code",
   "execution_count": null,
   "metadata": {},
   "outputs": [],
   "source": [
    "import plotly\n",
    "fig1: plotly.graph_objs.Figure = grasp.show(point_size=3., width=400, height=400)\n",
    "fig2: plotly.graph_objs.Figure = diffused.show(point_size=3., width=400, height=400)\n",
    "fig3: plotly.graph_objs.Figure = target.show(point_size=3., width=400, height=400)"
   ]
  },
  {
   "cell_type": "code",
   "execution_count": null,
   "metadata": {},
   "outputs": [],
   "source": [
    "out1 = Output()\n",
    "out2 = Output()\n",
    "out3 = Output()\n",
    "\n",
    "\n",
    "with out1:\n",
    "    out1.append_display_data(fig1)\n",
    "\n",
    "with out2:\n",
    "    out2.append_display_data(\"hi\")\n",
    "\n",
    "with out3:\n",
    "    out3.append_display_data(\"hi\")\n",
    "\n",
    "hbox = HBox([out1, out2, out3])\n",
    "display(hbox)"
   ]
  },
  {
   "cell_type": "code",
   "execution_count": null,
   "metadata": {},
   "outputs": [],
   "source": []
  }
 ],
 "metadata": {
  "kernelspec": {
   "display_name": "diff_edf",
   "language": "python",
   "name": "python3"
  },
  "language_info": {
   "codemirror_mode": {
    "name": "ipython",
    "version": 3
   },
   "file_extension": ".py",
   "mimetype": "text/x-python",
   "name": "python",
   "nbconvert_exporter": "python",
   "pygments_lexer": "ipython3",
   "version": "3.8.16"
  },
  "orig_nbformat": 4
 },
 "nbformat": 4,
 "nbformat_minor": 2
}
