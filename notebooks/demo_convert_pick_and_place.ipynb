{
 "cells": [
  {
   "cell_type": "code",
   "execution_count": null,
   "metadata": {},
   "outputs": [],
   "source": [
    "import os\n",
    "from edf_interface import data"
   ]
  },
  {
   "cell_type": "code",
   "execution_count": null,
   "metadata": {},
   "outputs": [],
   "source": [
    "pick_dir = \"<DIR_TO_DEMO_DIRECTORY>\"\n",
    "place_dir = \"<DIR_TO_DEMO_DIRECTORY>\"\n",
    "\n",
    "\n",
    "pick_paths = sorted(os.listdir(pick_dir))\n",
    "place_paths = sorted(os.listdir(place_dir))\n",
    "\n",
    "demos = []\n",
    "for pick_path, place_path in zip(pick_paths,place_paths):\n",
    "    pick_path = os.path.join(pick_dir, pick_path)\n",
    "    place_path = os.path.join(place_dir, place_path)\n",
    "    pick_demo = data.TargetPoseDemo.load(pick_path)\n",
    "    pick_demo.name = \"pick\"\n",
    "    place_demo = data.TargetPoseDemo.load(place_path)\n",
    "    place_demo.name = \"place\"\n",
    "    seq_demo = data.DemoSequence(data_seq=[pick_demo, place_demo], name=\"\")\n",
    "    demos.append(seq_demo)\n",
    "data.dataset.save_demos(demos=demos, dir=\"output\")"
   ]
  },
  {
   "cell_type": "code",
   "execution_count": null,
   "metadata": {},
   "outputs": [],
   "source": []
  }
 ],
 "metadata": {
  "kernelspec": {
   "display_name": "diff_edf",
   "language": "python",
   "name": "python3"
  },
  "language_info": {
   "codemirror_mode": {
    "name": "ipython",
    "version": 3
   },
   "file_extension": ".py",
   "mimetype": "text/x-python",
   "name": "python",
   "nbconvert_exporter": "python",
   "pygments_lexer": "ipython3",
   "version": "3.8.16"
  },
  "orig_nbformat": 4
 },
 "nbformat": 4,
 "nbformat_minor": 2
}
