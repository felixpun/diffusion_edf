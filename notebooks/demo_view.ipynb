{
 "cells": [
  {
   "cell_type": "code",
   "execution_count": null,
   "metadata": {},
   "outputs": [],
   "source": [
    "from edf_interface import data\n",
    "from edf_interface.data.dataset import load_demos\n",
    "from edf_interface.data import preprocess"
   ]
  },
  {
   "cell_type": "code",
   "execution_count": null,
   "metadata": {},
   "outputs": [],
   "source": [
    "# episodes = load_demos('demo/sapien_demo_5_mug_20230727/')\n",
    "episodes = load_demos('demo/sapien_demo_5_bottle_20230729/')"
   ]
  },
  {
   "cell_type": "code",
   "execution_count": null,
   "metadata": {},
   "outputs": [],
   "source": [
    "episode_idx = 8\n",
    "episode: data.DemoSequence = episodes[episode_idx]\n",
    "pick_demo: data.TargetPoseDemo = episode[0]\n",
    "place_demo: data.TargetPoseDemo = episode[1]"
   ]
  },
  {
   "cell_type": "code",
   "execution_count": null,
   "metadata": {},
   "outputs": [],
   "source": [
    "# demo = preprocess.crop_bbox(pick_demo, bbox=[[-0.4, 0.4], [-0.4, 0.4], [0.5, 1.3]], targets=['scene_pcd'])\n",
    "demo = preprocess.crop_bbox(pick_demo, bbox=[[-0.4, 0.4], [-0.8, 0.8], [0.5, 1.3]], targets=['scene_pcd'])\n",
    "demo = preprocess.downsample(demo, voxel_size=0.01, coord_reduction='average')"
   ]
  },
  {
   "cell_type": "code",
   "execution_count": null,
   "metadata": {},
   "outputs": [],
   "source": [
    "demo.show()"
   ]
  }
 ],
 "metadata": {
  "kernelspec": {
   "display_name": "diff_edf",
   "language": "python",
   "name": "python3"
  },
  "language_info": {
   "codemirror_mode": {
    "name": "ipython",
    "version": 3
   },
   "file_extension": ".py",
   "mimetype": "text/x-python",
   "name": "python",
   "nbconvert_exporter": "python",
   "pygments_lexer": "ipython3",
   "version": "3.8.16"
  },
  "orig_nbformat": 4
 },
 "nbformat": 4,
 "nbformat_minor": 2
}
