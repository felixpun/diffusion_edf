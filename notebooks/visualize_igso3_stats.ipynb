{
 "cells": [
  {
   "cell_type": "code",
   "execution_count": null,
   "metadata": {},
   "outputs": [],
   "source": [
    "import math\n",
    "import torch\n",
    "from diffusion_edf.dist import sample_igso3\n",
    "\n",
    "from matplotlib import pyplot as plt\n",
    "\n",
    "import numpy as np\n",
    "np.set_printoptions(precision=4, floatmode=\"fixed\")"
   ]
  },
  {
   "cell_type": "code",
   "execution_count": null,
   "metadata": {},
   "outputs": [],
   "source": [
    "sample_w_max = sample_igso3(eps=100., N=1000)\n",
    "sample_w_max = torch.acos(sample_w_max[:,0])*2\n",
    "sample_w_degree_max = sample_w_max / torch.pi * 180."
   ]
  },
  {
   "attachments": {},
   "cell_type": "markdown",
   "metadata": {},
   "source": [
    "$IG_{SO(3)}$ almost converges at $eps=3$"
   ]
  },
  {
   "cell_type": "code",
   "execution_count": null,
   "metadata": {},
   "outputs": [],
   "source": [
    "time = 1.\n",
    "ang_mult = 1.25\n",
    "eps = time / 2 * (float(ang_mult) ** 2)\n",
    "print(eps)\n",
    "\n",
    "sample = sample_igso3(eps=eps, N=1000)\n",
    "sample_w = torch.acos(sample[:,0])*2\n",
    "sample_w_degree = sample_w / torch.pi * 180.\n",
    "\n",
    "\n",
    "print(f\"blue: ig_so3(eps={eps}) || red: uniform\")\n",
    "plt.hist([sample_w_degree, sample_w_degree_max], bins=100)\n",
    "plt.show()"
   ]
  },
  {
   "cell_type": "code",
   "execution_count": null,
   "metadata": {},
   "outputs": [],
   "source": []
  }
 ],
 "metadata": {
  "kernelspec": {
   "display_name": "diff_edf",
   "language": "python",
   "name": "python3"
  },
  "language_info": {
   "codemirror_mode": {
    "name": "ipython",
    "version": 3
   },
   "file_extension": ".py",
   "mimetype": "text/x-python",
   "name": "python",
   "nbconvert_exporter": "python",
   "pygments_lexer": "ipython3",
   "version": "3.8.16"
  },
  "orig_nbformat": 4,
  "vscode": {
   "interpreter": {
    "hash": "79a0085b6cf04e1cff261ad12d41cff4e1530d9e68d1f8fc6bd159a2915452c6"
   }
  }
 },
 "nbformat": 4,
 "nbformat_minor": 2
}
