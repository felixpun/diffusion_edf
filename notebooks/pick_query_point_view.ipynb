{
 "cells": [
  {
   "cell_type": "code",
   "execution_count": null,
   "metadata": {},
   "outputs": [],
   "source": [
    "import torch\n",
    "\n",
    "from edf_interface import data\n",
    "from edf_interface.data.dataset import load_demos\n",
    "from edf_interface.data import preprocess"
   ]
  },
  {
   "cell_type": "code",
   "execution_count": null,
   "metadata": {},
   "outputs": [],
   "source": [
    "episodes = load_demos('demo/panda_mug_on_hanger/')"
   ]
  },
  {
   "cell_type": "code",
   "execution_count": null,
   "metadata": {},
   "outputs": [],
   "source": [
    "episode_idx = 0\n",
    "episode: data.DemoSequence = episodes[episode_idx]\n",
    "pick_demo: data.TargetPoseDemo = episode[0]\n",
    "# place_demo: data.TargetPoseDemo = episode[1]"
   ]
  },
  {
   "cell_type": "code",
   "execution_count": null,
   "metadata": {},
   "outputs": [],
   "source": [
    "pick_demo.show()"
   ]
  },
  {
   "cell_type": "code",
   "execution_count": null,
   "metadata": {},
   "outputs": [],
   "source": [
    "points, colors = pick_demo.grasp_pcd.points, pick_demo.grasp_pcd.colors"
   ]
  },
  {
   "cell_type": "code",
   "execution_count": null,
   "metadata": {},
   "outputs": [],
   "source": [
    "query_points=[\n",
    "    [0.5, 0.5, 10.5],\n",
    "    [-0.5, -0.5, 10.5],\n",
    "]\n",
    "\n",
    "shell = torch.randn(500,len(query_points),3)\n",
    "shell = shell / shell.norm(dim=-1, keepdim=True)\n",
    "query_points = torch.tensor(query_points) + shell*1.0\n",
    "query_points = query_points.reshape(-1, 3)\n",
    "\n",
    "query_colors = torch.tensor([1., 0., 0.]).expand_as(query_points)\n",
    "query_colors.shape"
   ]
  },
  {
   "cell_type": "code",
   "execution_count": null,
   "metadata": {},
   "outputs": [],
   "source": [
    "data.PointCloud(\n",
    "    points=torch.cat([points, query_points/100], dim=0),\n",
    "    colors=torch.cat([colors, query_colors], dim=0)\n",
    ").show()"
   ]
  },
  {
   "cell_type": "code",
   "execution_count": null,
   "metadata": {},
   "outputs": [],
   "source": []
  }
 ],
 "metadata": {
  "kernelspec": {
   "display_name": "diff_edf",
   "language": "python",
   "name": "python3"
  },
  "language_info": {
   "codemirror_mode": {
    "name": "ipython",
    "version": 3
   },
   "file_extension": ".py",
   "mimetype": "text/x-python",
   "name": "python",
   "nbconvert_exporter": "python",
   "pygments_lexer": "ipython3",
   "version": "3.8.16"
  },
  "orig_nbformat": 4
 },
 "nbformat": 4,
 "nbformat_minor": 2
}
