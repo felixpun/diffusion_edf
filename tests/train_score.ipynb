{
 "cells": [
  {
   "cell_type": "code",
   "execution_count": 1,
   "metadata": {},
   "outputs": [
    {
     "name": "stdout",
     "output_type": "stream",
     "text": [
      "Jupyter environment detected. Enabling Open3D WebVisualizer.\n",
      "[Open3D INFO] WebRTC GUI backend enabled.\n",
      "[Open3D INFO] WebRTCWindowSystem: HTTP handshake server disabled.\n"
     ]
    }
   ],
   "source": [
    "import os\n",
    "os.environ[\"PYTORCH_JIT_USE_NNC_NOT_NVFUSER\"] = \"1\"\n",
    "from typing import List, Tuple, Optional, Union, Iterable\n",
    "import math\n",
    "\n",
    "from beartype import beartype\n",
    "import datetime\n",
    "import plotly.graph_objects as go\n",
    "from tqdm import tqdm\n",
    "import yaml\n",
    "\n",
    "import torch\n",
    "from torch.utils.data import DataLoader\n",
    "from torchvision.transforms import Compose\n",
    "from e3nn import o3\n",
    "\n",
    "from diffusion_edf.data import DemoSeqDataset, DemoSequence, TargetPoseDemo, PointCloud, SE3\n",
    "from diffusion_edf.gnn_data import FeaturedPoints, merge_featured_points, GraphEdge, flatten_featured_points, set_featured_points_attribute, _featured_points_repr\n",
    "from diffusion_edf import train_utils\n",
    "from diffusion_edf import transforms\n",
    "from diffusion_edf.utils import sample_reference_points\n",
    "from diffusion_edf.dist import diffuse_isotropic_se3, adjoint_inv_tr_isotropic_se3_score, diffuse_isotropic_se3_batched\n",
    "from diffusion_edf.point_attentive_score_model import PointAttentiveScoreModel\n",
    "from diffusion_edf.trainer import DiffusionEdfTrainer\n",
    "\n",
    "torch.set_printoptions(precision=4, sci_mode=False)"
   ]
  },
  {
   "cell_type": "code",
   "execution_count": 2,
   "metadata": {},
   "outputs": [
    {
     "name": "stdout",
     "output_type": "stream",
     "text": [
      "ScoreModel: Initializing Key Feature Extractor\n"
     ]
    },
    {
     "name": "stderr",
     "output_type": "stream",
     "text": [
      "/home/hw/anaconda3/envs/diff_edf/lib/python3.8/site-packages/torch/jit/_check.py:181: UserWarning: The TorchScript type system doesn't support instance-level annotations on empty non-base types in `__init__`. Instead, either 1) use a type annotation in the class body, or 2) wrap the type in `torch.jit.Attribute`.\n",
      "  warnings.warn(\"The TorchScript type system doesn't support \"\n"
     ]
    },
    {
     "name": "stdout",
     "output_type": "stream",
     "text": [
      "ScoreModel: Initializing Query Model\n",
      "ScoreModel: Initializing Score Head\n"
     ]
    }
   ],
   "source": [
    "configs_root_dir = 'configs/pick_highres'\n",
    "# configs_root_dir = 'configs/pick_lowres'\n",
    "train_configs_file = 'train_configs.yaml'\n",
    "task_configs_file = 'task_configs.yaml'\n",
    "trainer = DiffusionEdfTrainer(configs_root_dir=configs_root_dir,\n",
    "                              train_configs_file=train_configs_file,\n",
    "                              task_configs_file=task_configs_file)\n",
    "init_epoch = trainer.init(\n",
    "    log_name = trainer.get_current_time(postfix=\"Stable_Highres\"),\n",
    "    resume_training = False,\n",
    ")"
   ]
  },
  {
   "attachments": {},
   "cell_type": "markdown",
   "metadata": {},
   "source": [
    "# Main Loop"
   ]
  },
  {
   "cell_type": "code",
   "execution_count": 3,
   "metadata": {},
   "outputs": [
    {
     "name": "stdout",
     "output_type": "stream",
     "text": [
      "(Epoch: 0) Successfully saved logs to: runs/2023_06_01_18-07-22_Stable_Highres\n",
      "(Epoch: 20) Successfully saved logs to: runs/2023_06_01_18-07-22_Stable_Highres\n",
      "(Epoch: 40) Successfully saved logs to: runs/2023_06_01_18-07-22_Stable_Highres\n",
      "(Epoch: 60) Successfully saved logs to: runs/2023_06_01_18-07-22_Stable_Highres\n",
      "(Epoch: 80) Successfully saved logs to: runs/2023_06_01_18-07-22_Stable_Highres\n",
      "(Epoch: 100) Successfully saved logs to: runs/2023_06_01_18-07-22_Stable_Highres\n",
      "(Epoch: 120) Successfully saved logs to: runs/2023_06_01_18-07-22_Stable_Highres\n",
      "(Epoch: 140) Successfully saved logs to: runs/2023_06_01_18-07-22_Stable_Highres\n",
      "(Epoch: 160) Successfully saved logs to: runs/2023_06_01_18-07-22_Stable_Highres\n",
      "(Epoch: 180) Successfully saved logs to: runs/2023_06_01_18-07-22_Stable_Highres\n",
      "(Epoch: 200) Successfully saved logs to: runs/2023_06_01_18-07-22_Stable_Highres\n"
     ]
    }
   ],
   "source": [
    "for epoch in range(init_epoch, trainer.max_epochs+1):\n",
    "    for n, demo_batch in enumerate(trainer.trainloader):\n",
    "        B = len(demo_batch)\n",
    "        assert B == 1, \"Batch training is not supported yet.\"\n",
    "\n",
    "        scene_input, grasp_input, T_target = train_utils.flatten_batch(demo_batch=demo_batch) # T_target: (Nbatch, Ngrasps, 7)\n",
    "        T_target = T_target.squeeze(0) # (B=1, N_poses=1, 7) -> (1,7) \n",
    "\n",
    "        save_checkpoint = (epoch % trainer.n_epochs_per_checkpoint == 0) and n == len(trainer.trainloader)-1\n",
    "        trainer.train_once(\n",
    "            T_target=T_target,\n",
    "            scene_input=scene_input,\n",
    "            grasp_input=grasp_input,\n",
    "            epoch=epoch,\n",
    "            save_checkpoint = save_checkpoint,\n",
    "            checkpoint_count = epoch // trainer.n_epochs_per_checkpoint\n",
    "        )"
   ]
  },
  {
   "cell_type": "code",
   "execution_count": null,
   "metadata": {},
   "outputs": [],
   "source": []
  }
 ],
 "metadata": {
  "kernelspec": {
   "display_name": "diff_edf",
   "language": "python",
   "name": "python3"
  },
  "language_info": {
   "codemirror_mode": {
    "name": "ipython",
    "version": 3
   },
   "file_extension": ".py",
   "mimetype": "text/x-python",
   "name": "python",
   "nbconvert_exporter": "python",
   "pygments_lexer": "ipython3",
   "version": "3.8.16"
  },
  "orig_nbformat": 4,
  "vscode": {
   "interpreter": {
    "hash": "79a0085b6cf04e1cff261ad12d41cff4e1530d9e68d1f8fc6bd159a2915452c6"
   }
  }
 },
 "nbformat": 4,
 "nbformat_minor": 2
}
