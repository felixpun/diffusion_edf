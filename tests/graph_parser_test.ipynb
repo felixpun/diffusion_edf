{
 "cells": [
  {
   "cell_type": "code",
   "execution_count": 1,
   "metadata": {},
   "outputs": [
    {
     "name": "stdout",
     "output_type": "stream",
     "text": [
      "Jupyter environment detected. Enabling Open3D WebVisualizer.\n",
      "[Open3D INFO] WebRTC GUI backend enabled.\n",
      "[Open3D INFO] WebRTCWindowSystem: HTTP handshake server disabled.\n"
     ]
    }
   ],
   "source": [
    "import matplotlib.pyplot as plt\n",
    "from tqdm import tqdm\n",
    "\n",
    "import torch\n",
    "\n",
    "from diffusion_edf.graph_parser import RadiusBipartite\n",
    "from diffusion_edf.gnn_data import FeaturedPoints, GraphEdge"
   ]
  },
  {
   "cell_type": "code",
   "execution_count": 2,
   "metadata": {},
   "outputs": [],
   "source": [
    "device = 'cuda:0'\n",
    "irreps = \"1x0e+1x1e+1x2e\""
   ]
  },
  {
   "cell_type": "code",
   "execution_count": 3,
   "metadata": {},
   "outputs": [],
   "source": [
    "graph_parser = RadiusBipartite(\n",
    "    r=2.,\n",
    "    length_enc_type='SinusoidalPositionEmbeddings',\n",
    "    length_enc_kwarg={'dim': 128, 'n': 10000},\n",
    "    sh_irreps=irreps,\n",
    ").to(device)\n",
    "\n",
    "graph_parser = torch.jit.script(graph_parser)\n",
    "\n",
    "####### Figure #######\n",
    "# out = graph_parser.length_enc(torch.linspace(0,graph_parser.r, 300))\n",
    "# plt.imshow(out.permute(1,0))"
   ]
  },
  {
   "cell_type": "code",
   "execution_count": 4,
   "metadata": {},
   "outputs": [],
   "source": [
    "src_pcd = FeaturedPoints(x=torch.tensor([[0., 0., 0.],\n",
    "                                         [0., 0., 1.],\n",
    "                                         [0., 1., 0.]], device=device), f=torch.randn(3,3, device=device), b=torch.zeros(3, device=device, dtype=torch.long))\n",
    "dst_pcd = FeaturedPoints(x=torch.tensor([[0., 0., 0.15],\n",
    "                                         [0., 0., 1.9]], device=device), f=torch.randn(2,3, device=device), b=torch.zeros(2, device=device, dtype=torch.long))"
   ]
  },
  {
   "cell_type": "code",
   "execution_count": 5,
   "metadata": {},
   "outputs": [],
   "source": [
    "graph_edge: GraphEdge = graph_parser(src_pcd, dst_pcd)"
   ]
  },
  {
   "cell_type": "code",
   "execution_count": 6,
   "metadata": {},
   "outputs": [
    {
     "data": {
      "text/plain": [
       "tensor([[0, 1, 2, 0, 1],\n",
       "        [0, 0, 0, 1, 1]], device='cuda:0')"
      ]
     },
     "execution_count": 6,
     "metadata": {},
     "output_type": "execute_result"
    }
   ],
   "source": [
    "torch.stack([graph_edge.edge_src, graph_edge.edge_dst])"
   ]
  },
  {
   "cell_type": "code",
   "execution_count": 7,
   "metadata": {},
   "outputs": [
    {
     "data": {
      "text/plain": [
       "torch.Size([5, 128])"
      ]
     },
     "execution_count": 7,
     "metadata": {},
     "output_type": "execute_result"
    }
   ],
   "source": [
    "graph_edge.edge_scalars.shape"
   ]
  },
  {
   "cell_type": "code",
   "execution_count": 8,
   "metadata": {},
   "outputs": [
    {
     "name": "stdout",
     "output_type": "stream",
     "text": [
      "edge length: tensor([0.1500, 0.8500, 1.0112, 1.9000, 0.9000], device='cuda:0')\n",
      "\n",
      "edge length rel: tensor([0.0750, 0.4250, 0.5056, 0.9500, 0.4500], device='cuda:0')\n",
      "\n",
      "scalar cutoff: tensor([1.0000, 1.0000, 1.0000, 0.1972, 1.0000], device='cuda:0')\n",
      "\n",
      "vector cutoff: tensor([0.0508, 1.0000, 1.0000, 0.1972, 1.0000], device='cuda:0')\n",
      "\n"
     ]
    }
   ],
   "source": [
    "print(f\"edge length: {graph_edge.edge_length}\\n\")\n",
    "print(f\"edge length rel: {graph_edge.edge_length / graph_parser.r}\\n\")\n",
    "print(f\"scalar cutoff: {graph_edge.edge_weight_scalar}\\n\")\n",
    "print(f\"vector cutoff: {graph_edge.edge_weight_nonscalar}\\n\")"
   ]
  },
  {
   "cell_type": "code",
   "execution_count": 9,
   "metadata": {},
   "outputs": [
    {
     "name": "stdout",
     "output_type": "stream",
     "text": [
      "scalar norm: tensor([1.0000, 1.0000, 1.0000, 0.1972, 1.0000], device='cuda:0')\n",
      "\n",
      "spin-1 norm: tensor([0.0880, 1.7321, 1.7321, 0.3415, 1.7321], device='cuda:0')\n",
      "\n",
      "spin-1 norm: tensor([0.1136, 2.2361, 2.2361, 0.4409, 2.2361], device='cuda:0')\n",
      "\n"
     ]
    }
   ],
   "source": [
    "print(f\"scalar norm: {graph_edge.edge_attr[...,0]}\\n\")\n",
    "print(f\"spin-1 norm: {graph_edge.edge_attr[...,1:4].norm(dim=-1)}\\n\")\n",
    "print(f\"spin-1 norm: {graph_edge.edge_attr[...,4:9].norm(dim=-1)}\\n\")"
   ]
  },
  {
   "cell_type": "code",
   "execution_count": 10,
   "metadata": {},
   "outputs": [],
   "source": [
    "####### Warm Up #######\n",
    "for _ in range(10):\n",
    "    src_pcd = FeaturedPoints(x=torch.randn(1000,3, device=device), f=torch.randn(1000,3, device=device), b=torch.zeros(1000, device=device, dtype=torch.long))\n",
    "    dst_pcd = FeaturedPoints(x=torch.randn(1000,3, device=device) + 2., f=torch.randn(1000,3, device=device), b=torch.zeros(1000, device=device, dtype=torch.long))\n",
    "    graph_edge: GraphEdge = graph_parser(src_pcd, dst_pcd)"
   ]
  },
  {
   "cell_type": "code",
   "execution_count": 11,
   "metadata": {},
   "outputs": [
    {
     "name": "stderr",
     "output_type": "stream",
     "text": [
      "100%|██████████| 5000/5000 [00:03<00:00, 1503.27it/s]\n"
     ]
    }
   ],
   "source": [
    "src_pcd = FeaturedPoints(x=torch.randn(1000,3, device=device), f=torch.randn(1000,3, device=device), b=torch.zeros(1000, device=device, dtype=torch.long))\n",
    "dst_pcd = FeaturedPoints(x=torch.randn(1000,3, device=device) + 2., f=torch.randn(1000,3, device=device), b=torch.zeros(1000, device=device, dtype=torch.long))\n",
    "\n",
    "for _ in tqdm(range(5000)):\n",
    "    graph_edge: GraphEdge = graph_parser(src_pcd, dst_pcd)"
   ]
  },
  {
   "cell_type": "code",
   "execution_count": 12,
   "metadata": {},
   "outputs": [
    {
     "data": {
      "text/plain": [
       "52875"
      ]
     },
     "execution_count": 12,
     "metadata": {},
     "output_type": "execute_result"
    }
   ],
   "source": [
    "len(graph_edge.edge_src) # Graph size does not make big difference"
   ]
  },
  {
   "cell_type": "code",
   "execution_count": 26,
   "metadata": {},
   "outputs": [
    {
     "name": "stderr",
     "output_type": "stream",
     "text": [
      "100%|██████████| 5000/5000 [00:03<00:00, 1559.53it/s]\n"
     ]
    }
   ],
   "source": [
    "src_pcd = FeaturedPoints(x=torch.randn(1000,3, device=device), f=torch.randn(1000,3, device=device), b=torch.zeros(1000, device=device, dtype=torch.long))\n",
    "dst_pcd = FeaturedPoints(x=torch.randn(1000,3, device=device) + 4., f=torch.randn(1000,3, device=device), b=torch.zeros(1000, device=device, dtype=torch.long))\n",
    "\n",
    "for _ in tqdm(range(5000)):\n",
    "    graph_edge: GraphEdge = graph_parser(src_pcd, dst_pcd)"
   ]
  },
  {
   "cell_type": "code",
   "execution_count": 27,
   "metadata": {},
   "outputs": [
    {
     "data": {
      "text/plain": [
       "30"
      ]
     },
     "execution_count": 27,
     "metadata": {},
     "output_type": "execute_result"
    }
   ],
   "source": [
    "len(graph_edge.edge_src) # Graph size does not make big difference"
   ]
  },
  {
   "cell_type": "code",
   "execution_count": 28,
   "metadata": {},
   "outputs": [
    {
     "name": "stderr",
     "output_type": "stream",
     "text": [
      "100%|██████████| 5000/5000 [00:02<00:00, 1757.30it/s]\n"
     ]
    }
   ],
   "source": [
    "src_pcd = FeaturedPoints(x=torch.randn(1000,3, device=device), f=torch.randn(1000,3, device=device), b=torch.zeros(1000, device=device, dtype=torch.long))\n",
    "dst_pcd = FeaturedPoints(x=torch.randn(1000,3, device=device) + 4., f=torch.randn(1000,3, device=device), b=torch.zeros(1000, device=device, dtype=torch.long))\n",
    "\n",
    "for _ in tqdm(range(5000)):\n",
    "    graph_edge: GraphEdge = graph_parser(src_pcd, dst_pcd, max_neighbors=20)"
   ]
  },
  {
   "cell_type": "code",
   "execution_count": 29,
   "metadata": {},
   "outputs": [
    {
     "data": {
      "text/plain": [
       "31"
      ]
     },
     "execution_count": 29,
     "metadata": {},
     "output_type": "execute_result"
    }
   ],
   "source": [
    "len(graph_edge.edge_src) # smaller max_neighbor => slightly faster (c.f. max_neighbors = 1000 is default)"
   ]
  }
 ],
 "metadata": {
  "kernelspec": {
   "display_name": "diff_edf",
   "language": "python",
   "name": "python3"
  },
  "language_info": {
   "codemirror_mode": {
    "name": "ipython",
    "version": 3
   },
   "file_extension": ".py",
   "mimetype": "text/x-python",
   "name": "python",
   "nbconvert_exporter": "python",
   "pygments_lexer": "ipython3",
   "version": "3.8.16 | packaged by conda-forge | (default, Feb  1 2023, 16:01:55) \n[GCC 11.3.0]"
  },
  "orig_nbformat": 4,
  "vscode": {
   "interpreter": {
    "hash": "79a0085b6cf04e1cff261ad12d41cff4e1530d9e68d1f8fc6bd159a2915452c6"
   }
  }
 },
 "nbformat": 4,
 "nbformat_minor": 2
}
