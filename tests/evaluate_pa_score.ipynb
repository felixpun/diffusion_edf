{
 "cells": [
  {
   "cell_type": "code",
   "execution_count": null,
   "metadata": {},
   "outputs": [],
   "source": [
    "import os\n",
    "os.environ[\"PYTORCH_JIT_USE_NNC_NOT_NVFUSER\"] = \"1\"\n",
    "from typing import List, Tuple, Optional, Union, Iterable\n",
    "\n",
    "from beartype import beartype\n",
    "import datetime\n",
    "import plotly.graph_objects as go\n",
    "from tqdm import tqdm\n",
    "import yaml\n",
    "\n",
    "import torch\n",
    "from torch.utils.data import DataLoader\n",
    "from torchvision.transforms import Compose\n",
    "from e3nn import o3\n",
    "\n",
    "from diffusion_edf.data import DemoSeqDataset, DemoSequence, TargetPoseDemo, PointCloud, SE3\n",
    "from diffusion_edf.gnn_data import FeaturedPoints, merge_featured_points, GraphEdge, flatten_featured_points, set_featured_points_attribute, _featured_points_repr\n",
    "from diffusion_edf import train_utils\n",
    "from diffusion_edf import transforms\n",
    "from diffusion_edf.utils import sample_reference_points\n",
    "from diffusion_edf.dist import diffuse_isotropic_se3, adjoint_inv_tr_isotropic_se3_score, diffuse_isotropic_se3_batched\n",
    "from diffusion_edf.point_attentive_score_model import PointAttentiveScoreModel\n",
    "from diffusion_edf.trainer import DiffusionEdfTrainer\n",
    "\n",
    "torch.set_printoptions(precision=4, sci_mode=False)"
   ]
  },
  {
   "cell_type": "code",
   "execution_count": null,
   "metadata": {},
   "outputs": [],
   "source": [
    "configs_root_dir = 'configs/pick_point_attn'\n",
    "train_configs_file = 'train_configs.yaml'\n",
    "task_configs_file = 'task_configs.yaml'\n",
    "trainer = DiffusionEdfTrainer(configs_root_dir=configs_root_dir,\n",
    "                              train_configs_file=train_configs_file,\n",
    "                              task_configs_file=task_configs_file)\n",
    "device = trainer.device\n",
    "\n",
    "trainer._init_dataloaders()\n",
    "score_model = trainer.get_model(checkpoint_dir='runs/2023_05_29_18-25-54_StaticQueryPAscore/checkpoint/200.pt',\n",
    "                                deterministic=False, \n",
    "                                device = trainer.device,).eval()"
   ]
  },
  {
   "attachments": {},
   "cell_type": "markdown",
   "metadata": {},
   "source": [
    "# Main Loop"
   ]
  },
  {
   "cell_type": "code",
   "execution_count": null,
   "metadata": {},
   "outputs": [],
   "source": [
    "# dataset = list(trainer.trainloader)\n",
    "dataset = list(trainer.testloader)\n",
    "demo_batch = dataset[1]\n",
    "B = len(demo_batch)\n",
    "assert B == 1, \"Batch training is not supported yet.\"\n",
    "\n",
    "\n",
    "scene_input, grasp_input, T_target = train_utils.flatten_batch(demo_batch=demo_batch) # T_target: (Nbatch, Ngrasps, 7)\n",
    "T_target = T_target.squeeze(0) # (B=1, N_poses=1, 7) -> (1,7) \n",
    "\n",
    "# time = train_utils.random_time(min_time=1e-3, max_time=1.0, device=T_target.device)\n",
    "time = torch.tensor([1.0], dtype=T_target.dtype, device=T_target.device)\n",
    "x_ref, n_neighbors = train_utils.transform_and_sample_reference_points(T_target=T_target,\n",
    "                                                                       scene_points=scene_input,\n",
    "                                                                       grasp_points=grasp_input,\n",
    "                                                                       contact_radius=trainer.contact_radius,\n",
    "                                                                       n_samples_x_ref=1)\n",
    "T0, delta_T, time_in, gt_score, gt_score_ref = train_utils.diffuse_T_target(T_target=T_target, \n",
    "                                                                            x_ref=x_ref, \n",
    "                                                                            time=time, \n",
    "                                                                            lin_mult=score_model.lin_mult)\n",
    "(gt_ang_score, gt_lin_score), (gt_ang_score_ref, gt_lin_score_ref) = gt_score, gt_score_ref"
   ]
  },
  {
   "cell_type": "code",
   "execution_count": null,
   "metadata": {},
   "outputs": [],
   "source": [
    "with torch.no_grad():\n",
    "    scene_out_multiscale: List[FeaturedPoints] = [score_model.key_model(scene_input)]\n",
    "    grasp_out: FeaturedPoints = score_model.query_model(grasp_input)"
   ]
  },
  {
   "cell_type": "code",
   "execution_count": null,
   "metadata": {},
   "outputs": [],
   "source": [
    "T_shape = T0.shape\n",
    "T = T0"
   ]
  },
  {
   "cell_type": "code",
   "execution_count": null,
   "metadata": {},
   "outputs": [],
   "source": [
    "N_steps = 1000\n",
    "temp = 1.\n",
    "\n",
    "# t_schedule = torch.exp(torch.linspace(math.log(1.), math.log(1e-2), N_steps+1, device=device)).unsqueeze(-1)\n",
    "# t_schedule = torch.cat([t_schedule, t_schedule[-1].expand(100,1)], dim=-2)\n",
    "\n",
    "t_schedule = torch.linspace(1., 1e-3, N_steps+1, device=device).unsqueeze(-1)\n",
    "noise_schedule_ang = torch.ones_like(t_schedule)\n",
    "noise_schedule_lin = torch.ones_like(t_schedule) * score_model.lin_mult\n",
    "dt = torch.tensor([0.001], dtype=T.dtype, device=T.device)\n",
    "\n",
    "\n",
    "for i in tqdm(range(len(t_schedule)-1)):\n",
    "    t = t_schedule[i]\n",
    "    noise_level_ang = noise_schedule_ang[i]\n",
    "    noise_level_lin = noise_schedule_lin[i]\n",
    "    with torch.no_grad():\n",
    "        (ang_score, lin_score) = score_model.score_head(Ts=T.view(-1,7), \n",
    "                                                        key_pcd_multiscale=scene_out_multiscale,\n",
    "                                                        query_pcd=grasp_out,\n",
    "                                                        time = t.repeat(len(T)))\n",
    "    ang_score = ang_score / torch.sqrt(dt)\n",
    "    lin_score = lin_score / torch.sqrt(dt)\n",
    "\n",
    "    ang_disp = ang_score * (torch.square(noise_level_ang) / temp * dt) + (torch.randn_like(ang_score) * (noise_level_ang * torch.sqrt(dt)))\n",
    "    lin_disp = lin_score * (torch.square(noise_level_lin) / temp * dt) + (torch.randn_like(lin_score) * (noise_level_lin * torch.sqrt(dt)))\n",
    "\n",
    "    L = T.detach()[...,score_model.q_indices] * score_model.q_factor\n",
    "    q, x = T[...,:4], T[...,4:]\n",
    "    dq = torch.einsum('...ij,...j->...i', L, ang_disp)\n",
    "    dx = transforms.quaternion_apply(q, lin_disp)\n",
    "    q = transforms.normalize_quaternion(q + dq)\n",
    "    T = torch.cat([q, x+dx], dim=-1)\n",
    "\n",
    "    # dT = transforms.se3_exp_map(torch.cat([lin_disp, ang_disp], dim=-1))\n",
    "    # dT = torch.cat([transforms.matrix_to_quaternion(dT[..., :3, :3]), dT[..., :3, 3]], dim=-1)\n",
    "    # T_next = transforms.multiply_se3(T_next, dT)"
   ]
  },
  {
   "cell_type": "code",
   "execution_count": null,
   "metadata": {},
   "outputs": [],
   "source": [
    "with torch.no_grad():\n",
    "    scene_pcd = PointCloud(points=scene_input.x, colors=scene_input.f)\n",
    "    grasp_pcd = PointCloud(points=grasp_input.x, colors=grasp_input.f)\n",
    "    target_pose_pcd = PointCloud.merge(\n",
    "        scene_pcd,\n",
    "        grasp_pcd.transformed(SE3(T_target), squeeze=True),\n",
    "    )\n",
    "    diffused_pose_pcd = PointCloud.merge(\n",
    "        scene_pcd,\n",
    "        grasp_pcd.transformed(SE3(T0))[0],\n",
    "    )\n",
    "    denoised_pose_pcd = PointCloud.merge(\n",
    "        scene_pcd,\n",
    "        grasp_pcd.transformed(SE3(T.detach()))[0],\n",
    "    )\n",
    "    \n",
    "    ##### Query Summary #####\n",
    "    query_weight, query_points, query_point_batch = grasp_out.w.detach(), grasp_out.x.detach(), grasp_out.b.detach(), \n",
    "    batch_vis_idx = (query_point_batch == 0).nonzero().squeeze(-1)\n",
    "    query_weight, query_points = query_weight[batch_vis_idx], query_points[batch_vis_idx]\n",
    "\n",
    "    N_repeat = 500\n",
    "    query_points_colors = torch.tensor([0.01, 1., 1.], device=query_weight.device, dtype=query_weight.dtype).expand(N_repeat, 1, 3) * query_weight[None, :, None]\n",
    "    r_query_ball = 0.5\n",
    "\n",
    "    ball = torch.randn(N_repeat,1,3, device=query_points.device, dtype=query_points.dtype)\n",
    "    ball = ball/ball.norm(dim=-1, keepdim=True) * r_query_ball\n",
    "    query_points = (query_points + ball).reshape(-1,3)\n",
    "    query_points_colors = query_points_colors.reshape(-1,3)\n",
    "\n",
    "    #########################\n",
    "    scene_attn_pcd = PointCloud(points=scene_out_multiscale[0].x.detach().cpu(), \n",
    "                                colors=scene_out_multiscale[0].w.detach().cpu(),\n",
    "                                cmap='magma')"
   ]
  },
  {
   "cell_type": "code",
   "execution_count": null,
   "metadata": {},
   "outputs": [],
   "source": [
    "# target_pose_pcd.show(point_size=2., width=800, height=800)\n",
    "# diffused_pose_pcd.show(point_size=2., width=800, height=800)\n",
    "denoised_pose_pcd.show(point_size=2., width=600, height=600)\n",
    "# scene_attn_pcd.show(point_size=6., width=800, height=800)"
   ]
  },
  {
   "cell_type": "code",
   "execution_count": null,
   "metadata": {},
   "outputs": [],
   "source": [
    "scene_attn_pcd.show(point_size=6., width=600, height=600)"
   ]
  },
  {
   "cell_type": "code",
   "execution_count": null,
   "metadata": {},
   "outputs": [],
   "source": [
    "# target_pose_pcd.show(point_size=2., width=800, height=800)\n",
    "diffused_pose_pcd.show(point_size=2., width=600, height=600)\n",
    "# denoised_pose_pcd.show(point_size=2., width=800, height=800)\n",
    "# scene_attn_pcd.show(point_size=6., width=800, height=800)"
   ]
  },
  {
   "cell_type": "code",
   "execution_count": null,
   "metadata": {},
   "outputs": [],
   "source": []
  }
 ],
 "metadata": {
  "kernelspec": {
   "display_name": "diff_edf",
   "language": "python",
   "name": "python3"
  },
  "language_info": {
   "codemirror_mode": {
    "name": "ipython",
    "version": 3
   },
   "file_extension": ".py",
   "mimetype": "text/x-python",
   "name": "python",
   "nbconvert_exporter": "python",
   "pygments_lexer": "ipython3",
   "version": "3.8.16"
  },
  "orig_nbformat": 4,
  "vscode": {
   "interpreter": {
    "hash": "79a0085b6cf04e1cff261ad12d41cff4e1530d9e68d1f8fc6bd159a2915452c6"
   }
  }
 },
 "nbformat": 4,
 "nbformat_minor": 2
}
