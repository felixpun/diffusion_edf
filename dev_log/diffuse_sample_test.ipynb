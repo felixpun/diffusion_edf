{
 "cells": [
  {
   "cell_type": "code",
   "execution_count": null,
   "metadata": {},
   "outputs": [],
   "source": [
    "import math\n",
    "import torch\n",
    "from diffusion_edf.dist import sample_isotropic_se3_gaussian\n",
    "from diffusion_edf import transforms\n",
    "import plotly.graph_objs as go"
   ]
  },
  {
   "cell_type": "code",
   "execution_count": null,
   "metadata": {},
   "outputs": [],
   "source": [
    "eps = 0.01\n",
    "time = eps * 2\n",
    "\n",
    "N = 10000\n",
    "T = sample_isotropic_se3_gaussian(eps=eps, std=time, N=N)\n",
    "q = T[..., :4]\n",
    "z = torch.tensor([0., 0., 1.]).expand(N,3)\n",
    "\n",
    "zrot = transforms.quaternion_apply(quaternion=q, point=z)"
   ]
  },
  {
   "cell_type": "code",
   "execution_count": null,
   "metadata": {},
   "outputs": [],
   "source": [
    "z_vis = zrot\n",
    "\n",
    "layout = go.Layout(\n",
    "    width=600,\n",
    "    height=600,\n",
    "    scene=dict(camera=dict(eye=dict(x=1.25, y=1.25, z=1.25)), #the default values are 1.25, 1.25, 1.25\n",
    "            aspectmode='manual', #this string can be 'data', 'cube', 'auto', 'manual'\n",
    "            #a custom aspectratio is defined as follows:\n",
    "            aspectratio=dict(x=1, y=1, z=1),\n",
    "            xaxis = dict(title='x', range = [-1,1]),\n",
    "            yaxis = dict(title='y', range = [-1,1]),\n",
    "            zaxis = dict(title='z', range = [-1,1]),\n",
    "            )\n",
    ")\n",
    "fig = go.Figure(data=go.Scatter3d(x=z_vis[...,0], y=z_vis[...,1], z=z_vis[...,2], mode='markers', marker=dict(size=3)), layout=layout)\n",
    "fig.show()"
   ]
  },
  {
   "cell_type": "code",
   "execution_count": null,
   "metadata": {},
   "outputs": [],
   "source": [
    "n_iter = 100\n",
    "q_diffuse = torch.tensor([1.,0.,0.,0.]).expand(N,4)\n",
    "for n in range(n_iter):\n",
    "    #t = time * (n+1) / n_iter\n",
    "    dt = time / n_iter\n",
    "    dw = torch.randn(N,3) * math.sqrt(dt)\n",
    "    q_diffuse = transforms.quaternion_multiply(q_diffuse, transforms.axis_angle_to_quaternion(dw))\n",
    "\n",
    "z_diffuse = transforms.quaternion_apply(quaternion=q_diffuse, point=z)"
   ]
  },
  {
   "cell_type": "code",
   "execution_count": null,
   "metadata": {},
   "outputs": [],
   "source": [
    "z_vis = z_diffuse\n",
    "\n",
    "layout = go.Layout(\n",
    "    width=600,\n",
    "    height=600,\n",
    "    scene=dict(camera=dict(eye=dict(x=1.25, y=1.25, z=1.25)), #the default values are 1.25, 1.25, 1.25\n",
    "            aspectmode='manual', #this string can be 'data', 'cube', 'auto', 'manual'\n",
    "            #a custom aspectratio is defined as follows:\n",
    "            aspectratio=dict(x=1, y=1, z=1),\n",
    "            xaxis = dict(title='x', range = [-1,1]),\n",
    "            yaxis = dict(title='y', range = [-1,1]),\n",
    "            zaxis = dict(title='z', range = [-1,1]),\n",
    "            )\n",
    ")\n",
    "fig = go.Figure(data=go.Scatter3d(x=z_vis[...,0], y=z_vis[...,1], z=z_vis[...,2], mode='markers', marker=dict(size=3)), layout=layout)\n",
    "fig.show()"
   ]
  }
 ],
 "metadata": {
  "kernelspec": {
   "display_name": "diff_edf",
   "language": "python",
   "name": "python3"
  },
  "language_info": {
   "codemirror_mode": {
    "name": "ipython",
    "version": 3
   },
   "file_extension": ".py",
   "mimetype": "text/x-python",
   "name": "python",
   "nbconvert_exporter": "python",
   "pygments_lexer": "ipython3",
   "version": "3.8.16 | packaged by conda-forge | (default, Feb  1 2023, 16:01:55) \n[GCC 11.3.0]"
  },
  "orig_nbformat": 4,
  "vscode": {
   "interpreter": {
    "hash": "79a0085b6cf04e1cff261ad12d41cff4e1530d9e68d1f8fc6bd159a2915452c6"
   }
  }
 },
 "nbformat": 4,
 "nbformat_minor": 2
}
