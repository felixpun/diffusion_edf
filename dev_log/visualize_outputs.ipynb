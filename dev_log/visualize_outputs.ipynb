{
 "cells": [
  {
   "cell_type": "code",
   "execution_count": null,
   "metadata": {},
   "outputs": [],
   "source": [
    "import os\n",
    "os.environ[\"PYTORCH_JIT_USE_NNC_NOT_NVFUSER\"] = \"1\""
   ]
  },
  {
   "cell_type": "code",
   "execution_count": null,
   "metadata": {},
   "outputs": [],
   "source": [
    "from typing import List, Tuple, Optional, Union, Iterable\n",
    "\n",
    "import plotly\n",
    "import plotly.graph_objects as go\n",
    "import numpy as np\n",
    "\n",
    "import torch\n",
    "from torchvision.transforms import Compose\n",
    "from diffusion_edf.transforms import quaternion_apply, random_quaternions, quaternion_multiply, quaternion_invert\n",
    "\n",
    "from e3nn import o3\n",
    "\n",
    "from diffusion_edf.embedding import NodeEmbeddingNetwork\n",
    "from diffusion_edf.data import SE3, PointCloud, TargetPoseDemo, DemoSequence, DemoSeqDataset, load_demos, save_demos, OutputLog\n",
    "from diffusion_edf.preprocess import Rescale, NormalizeColor, Downsample, PointJitter, ColorJitter\n",
    "from diffusion_edf.wigner import TransformFeatureQuaternion\n",
    "from diffusion_edf.score_model import ScoreModel\n",
    "from diffusion_edf.pc_utils import get_plotly_fig"
   ]
  },
  {
   "cell_type": "code",
   "execution_count": null,
   "metadata": {},
   "outputs": [],
   "source": [
    "plotly.offline.init_notebook_mode()"
   ]
  },
  {
   "cell_type": "code",
   "execution_count": null,
   "metadata": {},
   "outputs": [],
   "source": [
    "unit_len = 0.01\n",
    "scene_voxel_size = 0.01\n",
    "grasp_voxel_size = 0.01\n",
    "\n",
    "scene_voxel_size = scene_voxel_size / unit_len\n",
    "grasp_voxel_size = grasp_voxel_size / unit_len\n",
    "\n",
    "\n",
    "rescale_fn = Rescale(rescale_factor=1/unit_len)\n",
    "recover_scale_fn = Rescale(rescale_factor=unit_len)\n",
    "normalize_color_fn = NormalizeColor(color_mean = torch.tensor([0.5, 0.5, 0.5]), color_std = torch.tensor([0.5, 0.5, 0.5]))\n",
    "recover_color_fn = NormalizeColor(color_mean = -normalize_color_fn.color_mean / normalize_color_fn.color_std, color_std = 1 / normalize_color_fn.color_std)\n",
    "\n",
    "\n",
    "scene_proc_fn = Compose([rescale_fn,\n",
    "                         Downsample(voxel_size=scene_voxel_size, coord_reduction=\"average\"),\n",
    "                         normalize_color_fn])\n",
    "scene_unproc_fn = Compose([recover_color_fn, recover_scale_fn])\n",
    "grasp_proc_fn = Compose([rescale_fn,\n",
    "                         Downsample(voxel_size=grasp_voxel_size, coord_reduction=\"average\"),\n",
    "                         normalize_color_fn])\n",
    "grasp_unproc_fn = Compose([recover_color_fn, recover_scale_fn])"
   ]
  },
  {
   "cell_type": "code",
   "execution_count": null,
   "metadata": {},
   "outputs": [],
   "source": []
  },
  {
   "cell_type": "code",
   "execution_count": null,
   "metadata": {},
   "outputs": [],
   "source": []
  },
  {
   "cell_type": "code",
   "execution_count": null,
   "metadata": {},
   "outputs": [],
   "source": [
    "output_log = OutputLog.load(\"runs/output_log/score_model.gzip\")"
   ]
  },
  {
   "cell_type": "code",
   "execution_count": null,
   "metadata": {},
   "outputs": [],
   "source": [
    "query = (output_log.query_weight, output_log.query_feature, output_log.query_coord, output_log.query_batch)\n",
    "query_ext_info = (output_log.ext_edge_src_query, output_log.ext_edge_dst_query)\n",
    "query_graph_info = (output_log.node_feature_query, output_log.node_coord_query, output_log.node_batch_query, output_log.node_scale_slice_query, output_log.node_edge_src_query, output_log.node_edge_dst_query)\n",
    "key_ext_info = (output_log.ext_edge_src_key, output_log.ext_edge_dst_key)\n",
    "key_graph_info = (output_log.node_feature_key, output_log.node_coord_key, output_log.node_batch_key, output_log.node_scale_slice_key, output_log.node_edge_src_key, output_log.node_edge_dst_key)"
   ]
  },
  {
   "cell_type": "code",
   "execution_count": null,
   "metadata": {},
   "outputs": [],
   "source": [
    "node_coord = key_graph_info[1]\n",
    "node_batch = key_graph_info[2]\n",
    "node_scale_slice = key_graph_info[3]\n",
    "edge_src = key_graph_info[4]\n",
    "edge_dst = key_graph_info[5]\n",
    "edge_dst, edge_src = edge_src, edge_dst # Because Unet is upside down"
   ]
  },
  {
   "cell_type": "code",
   "execution_count": null,
   "metadata": {},
   "outputs": [],
   "source": [
    "dst_to_src_dict = [[] for _ in node_coord]\n",
    "for src, dst in zip(edge_src, edge_dst):\n",
    "    dst_to_src_dict[dst.item()].append(src.item())"
   ]
  },
  {
   "cell_type": "code",
   "execution_count": null,
   "metadata": {},
   "outputs": [],
   "source": []
  },
  {
   "cell_type": "code",
   "execution_count": null,
   "metadata": {},
   "outputs": [],
   "source": []
  },
  {
   "cell_type": "code",
   "execution_count": null,
   "metadata": {},
   "outputs": [],
   "source": [
    "def draw_recursive_graph(node_coord, dst_to_src_dict, scale_slice,\n",
    "               target_dst_idx, point_size=None, scale_z_disp = None):\n",
    "    \n",
    "    assert target_dst_idx >= scale_slice[-2]\n",
    "    \n",
    "    target_dst_idx_set = set()\n",
    "    target_dst_idx_set.add(target_dst_idx)\n",
    "    src_node_plots = []\n",
    "    dst_node_plots = []\n",
    "    edge_plots = []\n",
    "    top_scale = len(scale_slice) - 3\n",
    "\n",
    "    if scale_z_disp is None:\n",
    "        scale_z_disp = (node_coord[...,-1].max() - node_coord[...,-1].min()) * 1.5\n",
    "    if point_size is None:\n",
    "        point_size = [1] * (top_scale+3)\n",
    "\n",
    "    for s in range(top_scale, -1, -1):\n",
    "        src_idx = torch.arange(node_scale_slice[s], node_scale_slice[s+1])\n",
    "        dst_idx = torch.arange(node_scale_slice[s+1], node_scale_slice[s+2])\n",
    "\n",
    "        src_node_coord = node_coord[src_idx] + np.array([0., 0., scale_z_disp * (s)])\n",
    "        dst_node_coord = node_coord[dst_idx] + np.array([0., 0., scale_z_disp * (s+1)])\n",
    "\n",
    "        xe, ye, ze = [], [], []\n",
    "\n",
    "        edges = []\n",
    "        for dst in target_dst_idx_set:\n",
    "            srcs = dst_to_src_dict[dst]\n",
    "            edges.append((srcs, dst))\n",
    "\n",
    "        target_dst_idx_set = set()\n",
    "        for srcs, dst in edges:\n",
    "            for src in srcs:\n",
    "                xe += [node_coord[src,0].item(), node_coord[dst, 0].item(), None]\n",
    "                ye += [node_coord[src,1].item(), node_coord[dst, 1].item(), None]\n",
    "                ze += [node_coord[src,2].item() + scale_z_disp * (s), node_coord[dst, 2].item() + scale_z_disp * (s+1), None]\n",
    "                target_dst_idx_set.add(src)\n",
    "        \n",
    "\n",
    "        if s == 0:\n",
    "            src_node_plot = go.Scatter3d(x=src_node_coord[:,0].numpy(),\n",
    "                                    y=src_node_coord[:,1].numpy(),\n",
    "                                    z=src_node_coord[:,2].numpy(),\n",
    "                                    mode='markers',\n",
    "                                    name='src_nodes',\n",
    "                                    marker=dict(symbol='circle',\n",
    "                                                size=point_size[s],\n",
    "                                                color='rgb(0,0,0)'),\n",
    "                                    text=src_idx,\n",
    "                                    hoverinfo='text')\n",
    "            src_node_plots.append(src_node_plot)\n",
    "        dst_node_plot = go.Scatter3d(x=dst_node_coord[:,0].numpy(),\n",
    "                                    y=dst_node_coord[:,1].numpy(),\n",
    "                                    z=dst_node_coord[:,2].numpy(),\n",
    "                                mode='markers',\n",
    "                                name='dst_nodes',\n",
    "                                marker=dict(symbol='circle',\n",
    "                                                size=point_size[s+1],\n",
    "                                                color='rgb(0,0,0)'),\n",
    "                                text=dst_idx,\n",
    "                                hoverinfo='text')\n",
    "\n",
    "\n",
    "\n",
    "        edges_plot = go.Scatter3d(x=xe,\n",
    "                    y=ye,\n",
    "                    z=ze,\n",
    "                    mode='lines',\n",
    "                    line=dict(color=f'rgba(255,0,0, {0.2 ** (top_scale - s)})', width=1),\n",
    "                    hoverinfo='none'\n",
    "                    )\n",
    "        \n",
    "        dst_node_plots.append(dst_node_plot)\n",
    "        edge_plots.append(edges_plot)\n",
    "    \n",
    "    return src_node_plots + dst_node_plots + edge_plots"
   ]
  },
  {
   "cell_type": "code",
   "execution_count": null,
   "metadata": {},
   "outputs": [],
   "source": [
    "node_scale_slice"
   ]
  },
  {
   "cell_type": "code",
   "execution_count": null,
   "metadata": {},
   "outputs": [],
   "source": [
    "traces = draw_recursive_graph(node_coord=node_coord, dst_to_src_dict=dst_to_src_dict, scale_slice=node_scale_slice,\n",
    "                              target_dst_idx=5050, scale_z_disp=40., point_size=[1,1.5,2,2.5,3.])"
   ]
  },
  {
   "cell_type": "code",
   "execution_count": null,
   "metadata": {},
   "outputs": [],
   "source": [
    "fig=go.Figure(data=traces, layout=dict(width=1600, height=1200))\n",
    "fig"
   ]
  },
  {
   "cell_type": "code",
   "execution_count": null,
   "metadata": {},
   "outputs": [],
   "source": []
  }
 ],
 "metadata": {
  "kernelspec": {
   "display_name": "diff_edf",
   "language": "python",
   "name": "python3"
  },
  "language_info": {
   "codemirror_mode": {
    "name": "ipython",
    "version": 3
   },
   "file_extension": ".py",
   "mimetype": "text/x-python",
   "name": "python",
   "nbconvert_exporter": "python",
   "pygments_lexer": "ipython3",
   "version": "3.8.16 | packaged by conda-forge | (default, Feb  1 2023, 16:01:55) \n[GCC 11.3.0]"
  },
  "orig_nbformat": 4,
  "vscode": {
   "interpreter": {
    "hash": "79a0085b6cf04e1cff261ad12d41cff4e1530d9e68d1f8fc6bd159a2915452c6"
   }
  }
 },
 "nbformat": 4,
 "nbformat_minor": 2
}
