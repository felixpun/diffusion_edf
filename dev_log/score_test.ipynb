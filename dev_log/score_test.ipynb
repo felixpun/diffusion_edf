{
 "cells": [
  {
   "cell_type": "code",
   "execution_count": 1,
   "metadata": {},
   "outputs": [],
   "source": [
    "import math\n",
    "import torch\n",
    "from diffusion_edf.dist import *\n",
    "from diffusion_edf import transforms\n",
    "import plotly.graph_objs as go"
   ]
  },
  {
   "cell_type": "code",
   "execution_count": 2,
   "metadata": {},
   "outputs": [
    {
     "name": "stdout",
     "output_type": "stream",
     "text": [
      "Anaylitic score: tensor([[ -6531.3837,   4498.5191,   2586.6971],\n",
      "        [-12923.0590,   6868.0829,  -5937.9300],\n",
      "        [  9641.9716, -14920.2634, -13073.0142]], dtype=torch.float64)\n",
      "Numerical score: tensor([[ -6533.8330,   4496.0201,   2584.3512],\n",
      "        [-12925.4222,   6865.7059,  -5940.2907],\n",
      "        [  9639.4419, -14922.7480, -13075.5370]], dtype=torch.float64)\n",
      "Allclose: True\n"
     ]
    }
   ],
   "source": [
    "dtype = torch.float64\n",
    "device = 'cpu'\n",
    "\n",
    "eps = 1e-8\n",
    "q = sample_igso3(eps = eps, N=3, dtype=dtype, device=device)\n",
    "# theta = 0.4\n",
    "# # q = torch.tensor([[math.cos(theta/2), math.sin(theta/2), 0., 0.]], dtype=dtype, device=device)\n",
    "# randomaxis = torch.randn(1,3, dtype=dtype, device=device)\n",
    "# randomaxis = randomaxis / randomaxis.norm(dim=-1, keepdim=True) * math.sin(theta/2)\n",
    "# q = torch.cat([torch.ones_like(randomaxis[...,:1]) * math.cos(theta/2), randomaxis], dim=-1)\n",
    "\n",
    "log_prob = torch.log(igso3(q, eps))\n",
    "score = igso3_score(q, eps)\n",
    "print(f\"Anaylitic score: {score}\")\n",
    "\n",
    "dt = 0.0000001\n",
    "\n",
    "log_prob_rot = []\n",
    "for i in range(3):\n",
    "    qrot = transforms.quaternion_multiply(q,transforms.axis_angle_to_quaternion(dt * torch.eye(3, device=q.device, dtype=q.dtype)[i]))\n",
    "    log_prob_rot.append(torch.log(igso3(qrot, eps)))\n",
    "\n",
    "log_prob_rot = torch.stack(log_prob_rot, dim=-1)\n",
    "print(f\"Numerical score: {(log_prob_rot - log_prob[...,None]) / dt}\")\n",
    "print(f\"Allclose: {torch.allclose((log_prob_rot - log_prob[...,None]) / dt, score, atol=0, rtol=1e-2)}\")"
   ]
  }
 ],
 "metadata": {
  "kernelspec": {
   "display_name": "diff_edf",
   "language": "python",
   "name": "python3"
  },
  "language_info": {
   "codemirror_mode": {
    "name": "ipython",
    "version": 3
   },
   "file_extension": ".py",
   "mimetype": "text/x-python",
   "name": "python",
   "nbconvert_exporter": "python",
   "pygments_lexer": "ipython3",
   "version": "3.8.16"
  },
  "orig_nbformat": 4,
  "vscode": {
   "interpreter": {
    "hash": "79a0085b6cf04e1cff261ad12d41cff4e1530d9e68d1f8fc6bd159a2915452c6"
   }
  }
 },
 "nbformat": 4,
 "nbformat_minor": 2
}
