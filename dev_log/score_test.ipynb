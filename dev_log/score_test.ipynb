{
 "cells": [
  {
   "cell_type": "code",
   "execution_count": 4,
   "metadata": {},
   "outputs": [],
   "source": [
    "import math\n",
    "import torch\n",
    "from diffusion_edf.dist import IgSO3Dist, isotropic_gaussian_so3, isotropic_gaussian_so3_small_angle, isotropic_gaussian_so3_lie_deriv, isotropic_gaussian_so3_score\n",
    "from diffusion_edf import transforms\n",
    "import plotly.graph_objs as go"
   ]
  },
  {
   "cell_type": "code",
   "execution_count": 5,
   "metadata": {},
   "outputs": [],
   "source": [
    "dist = IgSO3Dist()"
   ]
  },
  {
   "cell_type": "code",
   "execution_count": 6,
   "metadata": {},
   "outputs": [
    {
     "name": "stdout",
     "output_type": "stream",
     "text": [
      "Anaylitic score: tensor([[12126.3133, -2197.8743,   718.1253],\n",
      "        [ 1764.0940, -8634.6239,  5091.8354],\n",
      "        [-9647.5560, -2980.0231,  2135.3295]], dtype=torch.float64)\n",
      "Numerical score: tensor([[12123.8419, -2200.4179,   715.6355],\n",
      "        [ 1761.6319, -8637.1479,  5089.4551],\n",
      "        [-9650.0451, -2982.4507,  2132.9554]], dtype=torch.float64)\n",
      "Allclose: True\n"
     ]
    }
   ],
   "source": [
    "dtype = torch.float64\n",
    "device = 'cpu'\n",
    "\n",
    "eps = 1e-8\n",
    "q = dist.sample(eps = eps, N=3, dtype=dtype, device=device)\n",
    "# theta = 0.4\n",
    "# # q = torch.tensor([[math.cos(theta/2), math.sin(theta/2), 0., 0.]], dtype=dtype, device=device)\n",
    "# randomaxis = torch.randn(1,3, dtype=dtype, device=device)\n",
    "# randomaxis = randomaxis / randomaxis.norm(dim=-1, keepdim=True) * math.sin(theta/2)\n",
    "# q = torch.cat([torch.ones_like(randomaxis[...,:1]) * math.cos(theta/2), randomaxis], dim=-1)\n",
    "\n",
    "log_prob = torch.log(isotropic_gaussian_so3(q, eps))\n",
    "score = isotropic_gaussian_so3_score(q, eps)\n",
    "print(f\"Anaylitic score: {score}\")\n",
    "\n",
    "dt = 0.0000001\n",
    "\n",
    "log_prob_rot = []\n",
    "for i in range(3):\n",
    "    qrot = transforms.quaternion_multiply(q,transforms.axis_angle_to_quaternion(dt * torch.eye(3, device=q.device, dtype=q.dtype)[i]))\n",
    "    log_prob_rot.append(torch.log(isotropic_gaussian_so3(qrot, eps)))\n",
    "\n",
    "log_prob_rot = torch.stack(log_prob_rot, dim=-1)\n",
    "print(f\"Numerical score: {(log_prob_rot - log_prob[...,None]) / dt}\")\n",
    "print(f\"Allclose: {torch.allclose((log_prob_rot - log_prob[...,None]) / dt, score, atol=0, rtol=1e-2)}\")"
   ]
  }
 ],
 "metadata": {
  "kernelspec": {
   "display_name": "diff_edf",
   "language": "python",
   "name": "python3"
  },
  "language_info": {
   "codemirror_mode": {
    "name": "ipython",
    "version": 3
   },
   "file_extension": ".py",
   "mimetype": "text/x-python",
   "name": "python",
   "nbconvert_exporter": "python",
   "pygments_lexer": "ipython3",
   "version": "3.8.16"
  },
  "orig_nbformat": 4,
  "vscode": {
   "interpreter": {
    "hash": "79a0085b6cf04e1cff261ad12d41cff4e1530d9e68d1f8fc6bd159a2915452c6"
   }
  }
 },
 "nbformat": 4,
 "nbformat_minor": 2
}
