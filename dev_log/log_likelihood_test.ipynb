{
 "cells": [
  {
   "cell_type": "code",
   "execution_count": 1,
   "metadata": {},
   "outputs": [],
   "source": [
    "import math\n",
    "import torch\n",
    "from diffusion_edf.dist import IgSO3Dist\n",
    "from diffusion_edf.transforms import random_quaternions, quaternion_to_axis_angle, quaternion_apply, axis_angle_to_quaternion, quaternion_multiply, standardize_quaternion\n",
    "import plotly.graph_objs as go"
   ]
  },
  {
   "cell_type": "code",
   "execution_count": 2,
   "metadata": {},
   "outputs": [],
   "source": [
    "dist = IgSO3Dist()"
   ]
  },
  {
   "cell_type": "code",
   "execution_count": 3,
   "metadata": {},
   "outputs": [],
   "source": [
    "q = dist.sample(eps = 0.05, N=1,)"
   ]
  },
  {
   "cell_type": "code",
   "execution_count": null,
   "metadata": {},
   "outputs": [],
   "source": []
  },
  {
   "cell_type": "code",
   "execution_count": 4,
   "metadata": {},
   "outputs": [],
   "source": [
    "eps = 0.1\n",
    "angle = torch.rand(1)*eps*2"
   ]
  },
  {
   "cell_type": "code",
   "execution_count": 5,
   "metadata": {},
   "outputs": [
    {
     "name": "stdout",
     "output_type": "stream",
     "text": [
      "tensor([-4.0326])\n"
     ]
    }
   ],
   "source": [
    "logP= -0.25 * angle.square() / eps - 1.5*math.log(4*eps*math.pi) # gaussian\n",
    "log_haar = torch.log(\n",
    "    4*math.pi*angle.square()\n",
    ")\n",
    "\n",
    "# log_haar = torch.log(\n",
    "#     4*torch.sin(angle/2).square()#*(math.pi**2)\n",
    "# ) # https://math.stackexchange.com/questions/3125811/haar-measure-from-axis-angle-representation-of-so3\n",
    "\n",
    "ll_approx = logP+log_haar\n",
    "print(ll_approx)"
   ]
  },
  {
   "cell_type": "code",
   "execution_count": 6,
   "metadata": {},
   "outputs": [
    {
     "name": "stdout",
     "output_type": "stream",
     "text": [
      "tensor([-4.0077])\n"
     ]
    }
   ],
   "source": [
    "logP = torch.log(dist._isotropic_gaussian_so3(angle, eps=eps))\n",
    "log_haar = torch.log(dist.haar_measure(angle))\n",
    "ll_exact= logP+log_haar\n",
    "print(ll_exact)"
   ]
  },
  {
   "cell_type": "code",
   "execution_count": null,
   "metadata": {},
   "outputs": [],
   "source": []
  },
  {
   "cell_type": "code",
   "execution_count": null,
   "metadata": {},
   "outputs": [],
   "source": []
  },
  {
   "cell_type": "code",
   "execution_count": 7,
   "metadata": {},
   "outputs": [
    {
     "name": "stdout",
     "output_type": "stream",
     "text": [
      "tensor([0.5061])\n"
     ]
    }
   ],
   "source": [
    "logP = dist.log_likelihood(q=q, eps=0.0499999)\n",
    "print(logP)"
   ]
  },
  {
   "cell_type": "code",
   "execution_count": 8,
   "metadata": {},
   "outputs": [
    {
     "name": "stdout",
     "output_type": "stream",
     "text": [
      "tensor([0.5057])\n"
     ]
    }
   ],
   "source": [
    "logP = dist.log_likelihood(q=q, eps=0.0500001)\n",
    "print(logP)"
   ]
  },
  {
   "cell_type": "code",
   "execution_count": 9,
   "metadata": {},
   "outputs": [
    {
     "data": {
      "text/plain": [
       "tensor([-0.0005])"
      ]
     },
     "execution_count": 9,
     "metadata": {},
     "output_type": "execute_result"
    }
   ],
   "source": [
    "dist.log_likelihood(q=q, eps=0.0500001) - dist.log_likelihood(q=q, eps=0.0499999)"
   ]
  },
  {
   "cell_type": "code",
   "execution_count": null,
   "metadata": {},
   "outputs": [],
   "source": []
  }
 ],
 "metadata": {
  "kernelspec": {
   "display_name": "diff_edf",
   "language": "python",
   "name": "python3"
  },
  "language_info": {
   "codemirror_mode": {
    "name": "ipython",
    "version": 3
   },
   "file_extension": ".py",
   "mimetype": "text/x-python",
   "name": "python",
   "nbconvert_exporter": "python",
   "pygments_lexer": "ipython3",
   "version": "3.8.16"
  },
  "orig_nbformat": 4,
  "vscode": {
   "interpreter": {
    "hash": "79a0085b6cf04e1cff261ad12d41cff4e1530d9e68d1f8fc6bd159a2915452c6"
   }
  }
 },
 "nbformat": 4,
 "nbformat_minor": 2
}
