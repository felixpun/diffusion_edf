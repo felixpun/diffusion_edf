{
 "cells": [
  {
   "cell_type": "code",
   "execution_count": 1,
   "metadata": {},
   "outputs": [],
   "source": [
    "import math\n",
    "import torch\n",
    "from diffusion_edf.dist import *\n",
    "from diffusion_edf import transforms\n",
    "import plotly.graph_objs as go"
   ]
  },
  {
   "attachments": {},
   "cell_type": "markdown",
   "metadata": {},
   "source": [
    "# SE(3) Score test"
   ]
  },
  {
   "cell_type": "code",
   "execution_count": 2,
   "metadata": {},
   "outputs": [
    {
     "name": "stdout",
     "output_type": "stream",
     "text": [
      "Anaylitic score: tensor([[  -0.2929,    0.4965,    1.8783,   22.7208, -153.7417,   75.0322],\n",
      "        [   1.1517,    3.1551,   -3.0236,   15.4715,   50.8923,  -68.7748],\n",
      "        [   0.7387,   -3.6302,   -2.6324,   11.9674,   -3.8494,   16.2496]],\n",
      "       dtype=torch.float64)\n",
      "Numerical score: tensor([[  -0.2929,    0.4965,    1.8783,   22.7208, -153.7417,   75.0322],\n",
      "        [   1.1517,    3.1551,   -3.0236,   15.4714,   50.8923,  -68.7748],\n",
      "        [   0.7387,   -3.6302,   -2.6324,   11.9673,   -3.8494,   16.2496]],\n",
      "       dtype=torch.float64)\n",
      "Allclose: True\n"
     ]
    }
   ],
   "source": [
    "dtype = torch.float64\n",
    "device = 'cpu'\n",
    "\n",
    "eps = 0.1\n",
    "std = 0.1\n",
    "N=3\n",
    "q = sample_igso3(eps = eps, N=N, dtype=dtype, device=device)\n",
    "x = torch.randn(N,3, dtype=dtype, device=device)\n",
    "T = torch.cat([q,x], dim=-1)\n",
    "\n",
    "log_prob = r3_log_isotropic_gaussian(x, std) + torch.log(igso3(q, eps))\n",
    "score = se3_isotropic_gaussian_score(T, eps=eps, std=std)\n",
    "print(f\"Anaylitic score: {score}\")\n",
    "\n",
    "dt = 0.0000001\n",
    "\n",
    "log_prob_rot = []\n",
    "log_prob_trans = []\n",
    "for i in range(3):\n",
    "    qrot = transforms.quaternion_multiply(q,transforms.axis_angle_to_quaternion(dt * torch.eye(3, device=q.device, dtype=q.dtype)[i]))\n",
    "    log_prob_rot.append(r3_log_isotropic_gaussian(x, std) + torch.log(igso3(qrot, eps)))\n",
    "    log_prob_trans.append(r3_log_isotropic_gaussian(transforms.quaternion_apply(q,dt*torch.eye(3, device=q.device, dtype=q.dtype)[i]) + x, std) + torch.log(igso3(q, eps)))\n",
    "\n",
    "log_prob_perturbed = torch.stack(log_prob_rot + log_prob_trans, dim=-1)\n",
    "print(f\"Numerical score: {(log_prob_perturbed - log_prob[...,None]) / dt}\")\n",
    "print(f\"Allclose: {torch.allclose((log_prob_perturbed - log_prob[...,None]) / dt, score, atol=0, rtol=1e-2)}\")"
   ]
  },
  {
   "attachments": {},
   "cell_type": "markdown",
   "metadata": {},
   "source": [
    "# Adjoint $T_{sg} = T_{se} T_{eg}$ -> $T_{se}$"
   ]
  },
  {
   "cell_type": "code",
   "execution_count": 3,
   "metadata": {},
   "outputs": [
    {
     "name": "stdout",
     "output_type": "stream",
     "text": [
      "Anaylitic score: tensor([[ -582.4981,  -329.0069,  -495.7784,  -345.8799,   163.2239,   300.5076],\n",
      "        [  990.4015,  2141.9007,  1804.8203, -3200.0395,  1188.2145,   385.4164],\n",
      "        [ -165.8116,   223.2308,   163.5129,  1211.6343,  1034.0490,  -267.9058]],\n",
      "       dtype=torch.float64)\n"
     ]
    }
   ],
   "source": [
    "T_ref = torch.cat([transforms.random_quaternions(N, dtype=dtype, device=device), 10*torch.randn(N, 3, dtype=dtype, device=device)], dim=-1)     # T_ref = T_eg\n",
    "TT_ref = transforms.multiply_se3(T, T_ref) # T T_ref\n",
    "\n",
    "log_prob_ref = r3_log_isotropic_gaussian(TT_ref[...,4:], std) + torch.log(igso3(TT_ref[...,:4], eps)) # log P(T T_ref)\n",
    "score_ref_perturb = adjoint_inv_tr_se3_score(T_ref=T_ref, score = se3_isotropic_gaussian_score(TT_ref, eps=eps, std=std), angular_first=True)          # Ad_{T_ref^-1}^T score(T T_ref)\n",
    "\n",
    "print(f\"Anaylitic score: {score_ref_perturb}\")"
   ]
  },
  {
   "cell_type": "code",
   "execution_count": 4,
   "metadata": {},
   "outputs": [
    {
     "name": "stdout",
     "output_type": "stream",
     "text": [
      "Numerical score: tensor([[ -582.4976,  -329.0064,  -495.7776,  -345.8799,   163.2239,   300.5076],\n",
      "        [  990.4009,  2141.9000,  1804.8196, -3200.0395,  1188.2144,   385.4164],\n",
      "        [ -165.8112,   223.2309,   163.5130,  1211.6343,  1034.0490,  -267.9059]],\n",
      "       dtype=torch.float64)\n",
      "Allclose: True\n"
     ]
    }
   ],
   "source": [
    "log_prob_rot_ref = []\n",
    "log_prob_trans_ref = []\n",
    "for i in range(3):\n",
    "    q_perturb = transforms.quaternion_multiply(q,transforms.axis_angle_to_quaternion(dt * torch.eye(3, device=q.device, dtype=q.dtype)[i]))        # R dR\n",
    "    x_perturb = transforms.quaternion_apply(q,dt*torch.eye(3, device=q.device, dtype=q.dtype)[i]) + x                                              # R dx + x\n",
    "\n",
    "    log_prob_rot_ref.append(\n",
    "        r3_log_isotropic_gaussian(transforms.quaternion_apply(q_perturb, T_ref[..., 4:]) + x, std=std) + \\\n",
    "                                                                                                              # R dR x' + x\n",
    "        torch.log(igso3(transforms.quaternion_multiply(q_perturb, T_ref[...,:4]), eps))                       # R dR R'\n",
    "    )\n",
    "\n",
    "    log_prob_trans_ref.append(\n",
    "        r3_log_isotropic_gaussian(transforms.quaternion_apply(q, T_ref[..., 4:]) + x_perturb, std=std) + \\\n",
    "                                                                                                              # R x' + R dx + x\n",
    "        torch.log(igso3(transforms.quaternion_multiply(q, T_ref[...,:4]), eps))                       # R R'\n",
    "    )\n",
    "\n",
    "\n",
    "log_prob_perturbed_ref = torch.stack(log_prob_rot_ref + log_prob_trans_ref, dim=-1)\n",
    "\n",
    "numerical_score_ref = (log_prob_perturbed_ref - log_prob_ref[..., None]) / dt\n",
    "print(f\"Numerical score: {numerical_score_ref}\")\n",
    "print(f\"Allclose: {torch.allclose(numerical_score_ref, score_ref_perturb, atol=0, rtol=1e-2)}\")"
   ]
  },
  {
   "attachments": {},
   "cell_type": "markdown",
   "metadata": {},
   "source": [
    "# Adjoint T_se -> T_sg"
   ]
  },
  {
   "cell_type": "code",
   "execution_count": 5,
   "metadata": {},
   "outputs": [
    {
     "name": "stdout",
     "output_type": "stream",
     "text": [
      "Anaylitic score: tensor([[ 1.5007e+00, -1.8175e+00, -1.0158e+00, -2.1189e+02,  4.1604e+02,\n",
      "          1.3635e+02],\n",
      "        [-1.0099e+01, -1.3386e+01, -1.7408e+01,  3.1217e+02, -2.4232e+03,\n",
      "         -2.4148e+03],\n",
      "        [-6.1486e+00, -1.0377e+01,  9.7393e-02,  1.0636e+03,  7.1638e+02,\n",
      "          9.8219e+02]], dtype=torch.float64)\n"
     ]
    }
   ],
   "source": [
    "analytic_score = se3_isotropic_gaussian_score(TT_ref, eps=eps, std=std)\n",
    "print(f\"Anaylitic score: {analytic_score}\")"
   ]
  },
  {
   "cell_type": "code",
   "execution_count": 6,
   "metadata": {},
   "outputs": [
    {
     "name": "stdout",
     "output_type": "stream",
     "text": [
      "Numerical score: tensor([[ 1.5004e+00, -1.8169e+00, -1.0167e+00, -2.1189e+02,  4.1604e+02,\n",
      "          1.3635e+02],\n",
      "        [-1.0101e+01, -1.3385e+01, -1.7409e+01,  3.1217e+02, -2.4232e+03,\n",
      "         -2.4148e+03],\n",
      "        [-6.1482e+00, -1.0376e+01,  9.7226e-02,  1.0636e+03,  7.1638e+02,\n",
      "          9.8219e+02]], dtype=torch.float64)\n",
      "Allclose: True\n"
     ]
    }
   ],
   "source": [
    "numerical_score = adjoint_inv_tr_se3_score(T_ref = transforms.se3_invert(T_ref), score = numerical_score_ref, angular_first=True)\n",
    "print(f\"Numerical score: {numerical_score}\")\n",
    "print(f\"Allclose: {torch.allclose(numerical_score, analytic_score, atol=0, rtol=1e-2)}\")"
   ]
  },
  {
   "attachments": {},
   "cell_type": "markdown",
   "metadata": {},
   "source": [
    "# Isotropic Adjoint Test"
   ]
  },
  {
   "cell_type": "code",
   "execution_count": 7,
   "metadata": {},
   "outputs": [
    {
     "name": "stdout",
     "output_type": "stream",
     "text": [
      "True True True True\n"
     ]
    }
   ],
   "source": [
    "N=5\n",
    "x_ref = torch.randn(N,3)\n",
    "T_ref = transforms.se3_from_r3(x_ref)\n",
    "score = torch.randn(N,6)\n",
    "\n",
    "print(torch.allclose(adjoint_inv_tr_isotropic_se3_score(x_ref=x_ref, score=score), adjoint_inv_tr_se3_score(T_ref=T_ref, score=score), atol=0, rtol = 1e-7),\n",
    "torch.allclose(adjoint_inv_tr_isotropic_se3_score(x_ref=-x_ref, score=score), adjoint_inv_tr_se3_score(T_ref=transforms.se3_invert(T_ref), score=score), atol=0, rtol = 1e-7),\n",
    "torch.allclose(adjoint_isotropic_se3_score(x_ref=x_ref, score=score), adjoint_se3_score(T_ref=T_ref, score=score), atol=0, rtol = 1e-7),\n",
    "torch.allclose(adjoint_isotropic_se3_score(x_ref=-x_ref, score=score), adjoint_se3_score(T_ref=transforms.se3_invert(T_ref), score=score), atol=0, rtol = 1e-7),\n",
    ")"
   ]
  },
  {
   "cell_type": "code",
   "execution_count": null,
   "metadata": {},
   "outputs": [],
   "source": []
  }
 ],
 "metadata": {
  "kernelspec": {
   "display_name": "diff_edf",
   "language": "python",
   "name": "python3"
  },
  "language_info": {
   "codemirror_mode": {
    "name": "ipython",
    "version": 3
   },
   "file_extension": ".py",
   "mimetype": "text/x-python",
   "name": "python",
   "nbconvert_exporter": "python",
   "pygments_lexer": "ipython3",
   "version": "3.8.16"
  },
  "orig_nbformat": 4,
  "vscode": {
   "interpreter": {
    "hash": "79a0085b6cf04e1cff261ad12d41cff4e1530d9e68d1f8fc6bd159a2915452c6"
   }
  }
 },
 "nbformat": 4,
 "nbformat_minor": 2
}
