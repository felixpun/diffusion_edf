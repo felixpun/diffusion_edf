{
 "cells": [
  {
   "cell_type": "code",
   "execution_count": 1,
   "metadata": {},
   "outputs": [],
   "source": [
    "import math\n",
    "import torch\n",
    "from diffusion_edf.dist import IgSO3Dist, isotropic_gaussian_so3, isotropic_gaussian_so3_small_angle, isotropic_gaussian_so3_lie_deriv\n",
    "from diffusion_edf import transforms\n",
    "import plotly.graph_objs as go"
   ]
  },
  {
   "cell_type": "code",
   "execution_count": 2,
   "metadata": {},
   "outputs": [],
   "source": [
    "dist = IgSO3Dist()"
   ]
  },
  {
   "cell_type": "code",
   "execution_count": 3,
   "metadata": {},
   "outputs": [
    {
     "name": "stdout",
     "output_type": "stream",
     "text": [
      "Anaylitic Lie-derivative: tensor([[ 2.1928e+15,  2.7360e+15, -5.9626e+15],\n",
      "        [ 3.9635e+15,  1.8925e+15, -1.4181e+15],\n",
      "        [ 5.8913e+13, -1.0603e+15, -3.1327e+15]], dtype=torch.float64)\n",
      "Numerical Lie-derivative: tensor([[ 2.1913e+15,  2.7347e+15, -5.9619e+15],\n",
      "        [ 3.9647e+15,  1.8921e+15, -1.4187e+15],\n",
      "        [ 5.8361e+13, -1.0606e+15, -3.1312e+15]], dtype=torch.float64)\n",
      "Allclose: True\n"
     ]
    }
   ],
   "source": [
    "dtype = torch.float64\n",
    "device = 'cpu'\n",
    "\n",
    "eps = 1e-8\n",
    "q = dist.sample(eps = eps, N=3, dtype=dtype, device=device)\n",
    "# theta = 0.1\n",
    "# # q = torch.tensor([[math.cos(theta/2), math.sin(theta/2), 0., 0.]], dtype=dtype, device=device)\n",
    "# randomaxis = torch.randn(1,3, dtype=dtype, device=device)\n",
    "# randomaxis = randomaxis / randomaxis.norm(dim=-1, keepdim=True) * math.sin(theta/2)\n",
    "# q = torch.cat([torch.ones_like(randomaxis[...,:1]) * math.cos(theta/2), randomaxis], dim=-1)\n",
    "\n",
    "prob = isotropic_gaussian_so3(q, eps)\n",
    "deriv = isotropic_gaussian_so3_lie_deriv(q, eps)\n",
    "print(f\"Anaylitic Lie-derivative: {deriv}\")\n",
    "\n",
    "dt = 0.0000001\n",
    "\n",
    "prob_rot = []\n",
    "for i in range(3):\n",
    "    qrot = transforms.quaternion_multiply(q,transforms.axis_angle_to_quaternion(dt * torch.eye(3, device=q.device, dtype=q.dtype)[i]))\n",
    "    prob_rot.append(isotropic_gaussian_so3(qrot, eps))\n",
    "\n",
    "prob_rot = torch.stack(prob_rot, dim=-1)\n",
    "print(f\"Numerical Lie-derivative: {(prob_rot - prob[...,None]) / dt}\")\n",
    "print(f\"Allclose: {torch.allclose((prob_rot - prob[...,None]) / dt, deriv, atol=0, rtol=1e-2)}\")"
   ]
  }
 ],
 "metadata": {
  "kernelspec": {
   "display_name": "diff_edf",
   "language": "python",
   "name": "python3"
  },
  "language_info": {
   "codemirror_mode": {
    "name": "ipython",
    "version": 3
   },
   "file_extension": ".py",
   "mimetype": "text/x-python",
   "name": "python",
   "nbconvert_exporter": "python",
   "pygments_lexer": "ipython3",
   "version": "3.8.16"
  },
  "orig_nbformat": 4,
  "vscode": {
   "interpreter": {
    "hash": "79a0085b6cf04e1cff261ad12d41cff4e1530d9e68d1f8fc6bd159a2915452c6"
   }
  }
 },
 "nbformat": 4,
 "nbformat_minor": 2
}
