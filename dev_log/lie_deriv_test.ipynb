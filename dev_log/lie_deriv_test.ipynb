{
 "cells": [
  {
   "cell_type": "code",
   "execution_count": 1,
   "metadata": {},
   "outputs": [],
   "source": [
    "import math\n",
    "import torch\n",
    "from diffusion_edf.dist import IgSO3Dist, isotropic_gaussian_so3, isotropic_gaussian_so3_small_angle, isotropic_gaussian_so3_lie_deriv\n",
    "from diffusion_edf import transforms\n",
    "import plotly.graph_objs as go"
   ]
  },
  {
   "cell_type": "code",
   "execution_count": 2,
   "metadata": {},
   "outputs": [],
   "source": [
    "dist = IgSO3Dist()"
   ]
  },
  {
   "cell_type": "code",
   "execution_count": 3,
   "metadata": {},
   "outputs": [
    {
     "name": "stdout",
     "output_type": "stream",
     "text": [
      "Anaylitic Lie-derivative: tensor([[-1.7123e-04,  1.8254e-04,  1.0743e-04],\n",
      "        [-2.2139e-05,  1.5872e-04, -1.9410e-05],\n",
      "        [ 1.9109e-04,  6.9446e-05,  3.7320e-05]], dtype=torch.float64)\n",
      "Numerical Lie-derivative: tensor([[-1.7123e-04,  1.8254e-04,  1.0743e-04],\n",
      "        [-2.2140e-05,  1.5872e-04, -1.9410e-05],\n",
      "        [ 1.9109e-04,  6.9446e-05,  3.7320e-05]], dtype=torch.float64)\n",
      "Allclose: True\n"
     ]
    }
   ],
   "source": [
    "dtype = torch.float64\n",
    "device = 'cpu'\n",
    "\n",
    "eps = 5.\n",
    "q = dist.sample(eps = eps, N=3, dtype=dtype, device=device)\n",
    "#q = torch.tensor([[1., 0., 0., 0.]], dtype=dtype, device=device)\n",
    "\n",
    "prob = isotropic_gaussian_so3(q, eps)\n",
    "deriv = isotropic_gaussian_so3_lie_deriv(q, eps)\n",
    "print(f\"Anaylitic Lie-derivative: {deriv}\")\n",
    "\n",
    "dt = 0.00001\n",
    "\n",
    "prob_rot = []\n",
    "for i in range(3):\n",
    "    qrot = transforms.quaternion_multiply(q,transforms.axis_angle_to_quaternion(dt * torch.eye(3, device=q.device, dtype=q.dtype)[i]))\n",
    "    prob_rot.append(isotropic_gaussian_so3(qrot, eps))\n",
    "\n",
    "prob_rot = torch.stack(prob_rot, dim=-1)\n",
    "print(f\"Numerical Lie-derivative: {(prob_rot - prob[...,None]) / dt}\")\n",
    "print(f\"Allclose: {torch.allclose((prob_rot - prob[...,None]) / dt, deriv)}\")"
   ]
  }
 ],
 "metadata": {
  "kernelspec": {
   "display_name": "diff_edf",
   "language": "python",
   "name": "python3"
  },
  "language_info": {
   "codemirror_mode": {
    "name": "ipython",
    "version": 3
   },
   "file_extension": ".py",
   "mimetype": "text/x-python",
   "name": "python",
   "nbconvert_exporter": "python",
   "pygments_lexer": "ipython3",
   "version": "3.8.16"
  },
  "orig_nbformat": 4,
  "vscode": {
   "interpreter": {
    "hash": "79a0085b6cf04e1cff261ad12d41cff4e1530d9e68d1f8fc6bd159a2915452c6"
   }
  }
 },
 "nbformat": 4,
 "nbformat_minor": 2
}
