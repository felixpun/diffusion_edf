{
 "cells": [
  {
   "cell_type": "code",
   "execution_count": 1,
   "metadata": {},
   "outputs": [],
   "source": [
    "import math\n",
    "import torch\n",
    "from diffusion_edf.dist import *\n",
    "from diffusion_edf import transforms\n",
    "import plotly.graph_objs as go"
   ]
  },
  {
   "cell_type": "code",
   "execution_count": 2,
   "metadata": {},
   "outputs": [
    {
     "name": "stdout",
     "output_type": "stream",
     "text": [
      "Anaylitic Lie-derivative: tensor([[ 1.2962e+15, -8.8996e+14, -1.3944e+15],\n",
      "        [ 5.8871e+14,  2.1242e+15,  5.2753e+14],\n",
      "        [ 1.1607e+15, -4.1366e+15, -1.7540e+15]], dtype=torch.float64)\n",
      "Numerical Lie-derivative: tensor([[ 1.2965e+15, -8.8997e+14, -1.3939e+15],\n",
      "        [ 5.8848e+14,  2.1254e+15,  5.2729e+14],\n",
      "        [ 1.1567e+15, -4.1402e+15, -1.7580e+15]], dtype=torch.float64)\n",
      "Allclose: True\n"
     ]
    }
   ],
   "source": [
    "dtype = torch.float64\n",
    "device = 'cpu'\n",
    "\n",
    "eps = 1e-8\n",
    "q = sample_igso3(eps = eps, N=3, dtype=dtype, device=device)\n",
    "# theta = 0.1\n",
    "# # q = torch.tensor([[math.cos(theta/2), math.sin(theta/2), 0., 0.]], dtype=dtype, device=device)\n",
    "# randomaxis = torch.randn(1,3, dtype=dtype, device=device)\n",
    "# randomaxis = randomaxis / randomaxis.norm(dim=-1, keepdim=True) * math.sin(theta/2)\n",
    "# q = torch.cat([torch.ones_like(randomaxis[...,:1]) * math.cos(theta/2), randomaxis], dim=-1)\n",
    "\n",
    "prob = igso3(q, eps)\n",
    "deriv = igso3_lie_deriv(q, eps)\n",
    "print(f\"Anaylitic Lie-derivative: {deriv}\")\n",
    "\n",
    "dt = 0.0000001\n",
    "\n",
    "prob_rot = []\n",
    "for i in range(3):\n",
    "    qrot = transforms.quaternion_multiply(q,transforms.axis_angle_to_quaternion(dt * torch.eye(3, device=q.device, dtype=q.dtype)[i]))\n",
    "    prob_rot.append(igso3(qrot, eps))\n",
    "\n",
    "prob_rot = torch.stack(prob_rot, dim=-1)\n",
    "print(f\"Numerical Lie-derivative: {(prob_rot - prob[...,None]) / dt}\")\n",
    "print(f\"Allclose: {torch.allclose((prob_rot - prob[...,None]) / dt, deriv, atol=0, rtol=1e-2)}\")"
   ]
  }
 ],
 "metadata": {
  "kernelspec": {
   "display_name": "diff_edf",
   "language": "python",
   "name": "python3"
  },
  "language_info": {
   "codemirror_mode": {
    "name": "ipython",
    "version": 3
   },
   "file_extension": ".py",
   "mimetype": "text/x-python",
   "name": "python",
   "nbconvert_exporter": "python",
   "pygments_lexer": "ipython3",
   "version": "3.8.16"
  },
  "orig_nbformat": 4,
  "vscode": {
   "interpreter": {
    "hash": "79a0085b6cf04e1cff261ad12d41cff4e1530d9e68d1f8fc6bd159a2915452c6"
   }
  }
 },
 "nbformat": 4,
 "nbformat_minor": 2
}
