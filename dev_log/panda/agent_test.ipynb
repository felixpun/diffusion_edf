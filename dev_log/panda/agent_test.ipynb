{
 "cells": [
  {
   "cell_type": "markdown",
   "metadata": {},
   "source": [
    "# Import modules"
   ]
  },
  {
   "cell_type": "code",
   "execution_count": null,
   "metadata": {},
   "outputs": [],
   "source": [
    "%load_ext autoreload\n",
    "%autoreload 2\n",
    "\n",
    "from typing import *\n",
    "from numbers import Real\n",
    "import os, sys, argparse, time\n",
    "\n",
    "import copy\n",
    "from copy import deepcopy   \n",
    "import math\n",
    "import open3d as o3d\n",
    "import open3d.visualization as viz\n",
    "import numpy as np\n",
    "import torch\n",
    "\n",
    "from edf_interface import data\n",
    "from edf_interface.utils import manipulation_utils\n",
    "from edf_interface.data import preprocess\n",
    "from edf_interface.data.preprocess import downsample"
   ]
  },
  {
   "cell_type": "code",
   "execution_count": null,
   "metadata": {},
   "outputs": [],
   "source": [
    "from typing import Union, Iterable, List, Tuple, Dict, Any\n",
    "\n",
    "import torch\n",
    "\n",
    "from edf_interface.pyro import PyroClientBase, remote\n",
    "from edf_interface import data\n",
    "\n",
    "class DiffusionEdfClient(PyroClientBase):\n",
    "    def __init__(self, ip = None, port = None):\n",
    "        PyroClientBase.__init__(self, service_names='agent', nameserver_host=ip, nameserver_port=port)\n",
    "\n",
    "    @remote\n",
    "    def request_trajectories(self, scene_pcd: data.PointCloud, \n",
    "                                grasp_pcd: data.PointCloud,\n",
    "                                current_poses: data.SE3,\n",
    "                                task_name: str,\n",
    "                                ) -> Tuple[List[data.SE3], Dict[str, Any]]: ...\n",
    "    \n",
    "    def update_system_msg(self, msg: str, **kwargs) -> bool:\n",
    "        print(msg)\n",
    "        return True\n",
    "    \n",
    "    @remote\n",
    "    def get_configs(self) -> Dict[str, Any]: ...\n",
    "\n",
    "    @remote\n",
    "    def reconfigure(self, name: str, value: Dict[str, Any]) -> bool: ...\n",
    "    \n",
    "    @remote\n",
    "    def denoise(self, scene_pcd: data.PointCloud, \n",
    "                    grasp_pcd: data.PointCloud,\n",
    "                    current_poses: data.SE3,\n",
    "                    task_name: str,\n",
    "                    ) -> Tuple[List[data.SE3], Dict[str, Any]]: ..."
   ]
  },
  {
   "cell_type": "code",
   "execution_count": null,
   "metadata": {},
   "outputs": [],
   "source": [
    "time.sleep(0.5)\n",
    "client = DiffusionEdfClient(ip=\"192.168.0.6\")\n",
    "\n",
    "client.reconfigure(\n",
    "    name = \"pick_diffusion_configs\",\n",
    "    value = {\n",
    "        \"N_steps_list\": [[100, 100], [100, 100]],\n",
    "        \"timesteps_list\": [[0.02, 0.02], [0.02, 0.02]],\n",
    "        \"temperatures_list\": [[1., 1.], [1., 1.]],\n",
    "        \"diffusion_schedules_list\": [\n",
    "                                        [[1., 0.1], [0.1, 0.1]],\n",
    "                                        [[0.1, 0.03], [0.03, 0.01] ],\n",
    "                                    ],\n",
    "        \"log_t_schedule\": True,\n",
    "        \"time_exponent_temp\": 1.0,\n",
    "        \"time_exponent_alpha\": 0.5,\n",
    "    }\n",
    ")\n",
    "\n",
    "client.reconfigure(\n",
    "    name = \"pick_trajectory_configs\",\n",
    "    value = {\n",
    "        \"n_steps\": 5,\n",
    "        \"approach_len\": 0.1\n",
    "    }\n",
    ")\n",
    "\n",
    "client.reconfigure(\n",
    "    name = \"place_diffusion_configs\",\n",
    "    value = {\n",
    "        \"N_steps_list\": [[200, 200], [300, 300]],\n",
    "        \"timesteps_list\": [[0.04, 0.04], [0.02, 0.02]],\n",
    "        \"temperatures_list\": [[1., 1.], [1., 1.]],\n",
    "        \"diffusion_schedules_list\": [\n",
    "                                        [[1., 0.1], [0.1, 0.1]],\n",
    "                                        [[0.1, 0.03], [0.03, 0.01] ],\n",
    "                                    ],\n",
    "        \"log_t_schedule\": True,\n",
    "        \"time_exponent_temp\": 1.0,\n",
    "        \"time_exponent_alpha\": 0.5,\n",
    "    }\n",
    ")\n",
    "\n",
    "client.reconfigure(\n",
    "    name = \"place_trajectory_configs\",\n",
    "    value = {\n",
    "        \"n_steps\": 1,\n",
    "        \"dt\": 0.0001,\n",
    "        \"cutoff_r\": 0.03,\n",
    "        \"max_num_neighbors\": 2,\n",
    "        \"eps\": 0.0001,\n",
    "        \"cluster_method\": \"knn\",\n",
    "        \"voxel_size\": 0.03,\n",
    "        \"voxel_coord_reduction\": \"average\"\n",
    "    }\n",
    ")\n"
   ]
  },
  {
   "cell_type": "code",
   "execution_count": null,
   "metadata": {},
   "outputs": [],
   "source": [
    "demo = data.TargetPoseDemo.load('fail_case')"
   ]
  },
  {
   "cell_type": "code",
   "execution_count": null,
   "metadata": {},
   "outputs": [],
   "source": [
    "n_samples = 100\n",
    "\n",
    "T0 = data.SE3(\n",
    "    torch.cat([\n",
    "        torch.tensor([[1., 0., 0.0, 0.]]),\n",
    "        torch.tensor([[0., 0., 0.3]])\n",
    "    ], dim=-1).repeat(n_samples,1)\n",
    ")\n",
    "\n",
    "trajectories, info = client.denoise(\n",
    "    scene_pcd=demo.scene_pcd,\n",
    "    grasp_pcd=demo.grasp_pcd,\n",
    "    current_poses=T0,\n",
    "    task_name='place'\n",
    ")"
   ]
  },
  {
   "cell_type": "code",
   "execution_count": null,
   "metadata": {},
   "outputs": [],
   "source": [
    "info"
   ]
  },
  {
   "cell_type": "code",
   "execution_count": null,
   "metadata": {},
   "outputs": [],
   "source": [
    "Ts = trajectories[:, 0].cpu()\n",
    "Ts = Ts * torch.tensor([1., 1., 1., 1., 0.01, 0.01, 0.01])\n",
    "Ts = data.SE3(Ts[::10])"
   ]
  },
  {
   "cell_type": "code",
   "execution_count": null,
   "metadata": {},
   "outputs": [],
   "source": [
    "data.TargetPoseDemo(\n",
    "    scene_pcd=preprocess.downsample(demo.scene_pcd, voxel_size=0.01),\n",
    "    grasp_pcd=preprocess.downsample(demo.grasp_pcd, voxel_size=0.01),\n",
    "    target_poses=Ts\n",
    ").show()"
   ]
  },
  {
   "cell_type": "code",
   "execution_count": null,
   "metadata": {},
   "outputs": [],
   "source": []
  }
 ],
 "metadata": {
  "kernelspec": {
   "display_name": "Python 3",
   "language": "python",
   "name": "python3"
  },
  "language_info": {
   "codemirror_mode": {
    "name": "ipython",
    "version": 3
   },
   "file_extension": ".py",
   "mimetype": "text/x-python",
   "name": "python",
   "nbconvert_exporter": "python",
   "pygments_lexer": "ipython3",
   "version": "3.8.17"
  },
  "orig_nbformat": 4
 },
 "nbformat": 4,
 "nbformat_minor": 2
}
