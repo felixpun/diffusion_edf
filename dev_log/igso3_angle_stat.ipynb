{
 "cells": [
  {
   "cell_type": "code",
   "execution_count": 1,
   "metadata": {},
   "outputs": [],
   "source": [
    "import math\n",
    "import torch\n",
    "from diffusion_edf.dist import sample_igso3\n",
    "\n",
    "from matplotlib import pyplot as plt\n",
    "\n",
    "import numpy as np\n",
    "np.set_printoptions(precision=4, floatmode=\"fixed\")"
   ]
  },
  {
   "cell_type": "code",
   "execution_count": 2,
   "metadata": {},
   "outputs": [],
   "source": [
    "sample_w_max = sample_igso3(eps=100., N=100000)\n",
    "sample_w_max = torch.acos(sample_w_max[:,0])*2\n",
    "sample_w_degree_max = sample_w_max / torch.pi * 180."
   ]
  },
  {
   "attachments": {},
   "cell_type": "markdown",
   "metadata": {},
   "source": [
    "$IG_{SO(3)}$ almost converges at $t=6$"
   ]
  },
  {
   "cell_type": "code",
   "execution_count": 3,
   "metadata": {},
   "outputs": [
    {
     "data": {
      "image/png": "[encoded data removed]",
      "text/plain": [
       "<Figure size 640x480 with 1 Axes>"
      ]
     },
     "metadata": {},
     "output_type": "display_data"
    }
   ],
   "source": [
    "t = 6.\n",
    "eps = t/2\n",
    "\n",
    "sample = sample_igso3(eps=eps, N=100000)\n",
    "sample_w = torch.acos(sample[:,0])*2\n",
    "sample_w_degree = sample_w / torch.pi * 180.\n",
    "\n",
    "plt.hist([sample_w_degree, sample_w_degree_max], bins=100)\n",
    "plt.show()"
   ]
  },
  {
   "attachments": {},
   "cell_type": "markdown",
   "metadata": {},
   "source": [
    "$\\textrm{rotation angle}\\ \\  w\\approx \\sqrt{t}\\times 38.5\\degree$"
   ]
  },
  {
   "cell_type": "code",
   "execution_count": 4,
   "metadata": {},
   "outputs": [
    {
     "name": "stdout",
     "output_type": "stream",
     "text": [
      "0.6729536310759507\n",
      "0.6724601953674686\n",
      "0.6733644924815594\n",
      "0.6748430440364143\n",
      "0.6744501029228603\n",
      "\n",
      " degree: 38.643144389643915\n"
     ]
    }
   ],
   "source": [
    "for t in [1e-6, 1e-5, 1e-4, 1e-3, 1e-2]:\n",
    "    eps = t/2\n",
    "\n",
    "    sample = sample_igso3(eps=eps, N=100000)\n",
    "    sample_w = torch.acos(sample[:,0])*2\n",
    "    sample_w_degree = sample_w / torch.pi * 180.\n",
    "    print(sample_w.std().item() / math.sqrt(t))\n",
    "print(f\"\\n degree: {sample_w_degree.std().item() / math.sqrt(t)}\")"
   ]
  },
  {
   "attachments": {},
   "cell_type": "markdown",
   "metadata": {},
   "source": [
    "# Play"
   ]
  },
  {
   "cell_type": "code",
   "execution_count": 5,
   "metadata": {},
   "outputs": [
    {
     "name": "stdout",
     "output_type": "stream",
     "text": [
      "tensor(3.8549, dtype=torch.float64)\n"
     ]
    },
    {
     "data": {
      "image/png": "[encoded data removed]",
      "text/plain": [
       "<Figure size 640x480 with 1 Axes>"
      ]
     },
     "metadata": {},
     "output_type": "display_data"
    }
   ],
   "source": [
    "t = 1e-2\n",
    "eps = t/2\n",
    "\n",
    "sample = sample_igso3(eps=eps, N=100000)\n",
    "sample_w = torch.acos(sample[:,0])*2\n",
    "sample_w_degree = sample_w / torch.pi * 180.\n",
    "print(sample_w_degree.std())\n",
    "\n",
    "plt.hist(sample_w_degree, bins=100)\n",
    "plt.show()"
   ]
  },
  {
   "attachments": {},
   "cell_type": "markdown",
   "metadata": {},
   "source": [
    "# Calculator"
   ]
  },
  {
   "cell_type": "code",
   "execution_count": 6,
   "metadata": {},
   "outputs": [],
   "source": [
    "def std_calculator(t_schedule, lin_mult, ang_mult = 1., p = 0.95, N = 100000):\n",
    "    lin_stds = []\n",
    "    ang_stds = []\n",
    "    lin_maxs = []\n",
    "    ang_maxs = []\n",
    "    lin_meds = []\n",
    "    ang_meds = []\n",
    "    lin_mods = []\n",
    "    ang_mods = []\n",
    "\n",
    "    for t in t_schedule:\n",
    "        eps = t/2 * (ang_mult**2)\n",
    "        std = torch.tensor([math.sqrt(t*3)]) * lin_mult\n",
    "        lin_stds.append(std)\n",
    "        lin_samples = torch.randn(N,3).norm(dim=-1) * std\n",
    "\n",
    "        sample = sample_igso3(eps=eps, N=N)\n",
    "        sample_w = torch.acos(sample[:,0])*2\n",
    "        sample_w_degree = sample_w / torch.pi * 180.\n",
    "        ang_stds.append(sample_w_degree.std().unsqueeze(0))\n",
    "        ang_max = sample_w_degree.sort().values[int(p*N)]\n",
    "        ang_maxs.append(ang_max.unsqueeze(0))\n",
    "        lin_max = lin_samples.sort().values[int(p*N)]\n",
    "        lin_maxs.append(lin_max.unsqueeze(0))\n",
    "\n",
    "        lin_meds.append(lin_samples.median().unsqueeze(0))\n",
    "        ang_meds.append(sample_w_degree.median().unsqueeze(0))\n",
    "\n",
    "        boundaries = torch.linspace(0., ang_max*1.2, steps=100)\n",
    "        bins = torch.bucketize(sample_w_degree, boundaries=boundaries)\n",
    "        ang_mod = boundaries[bins.mode().values]\n",
    "\n",
    "        boundaries = torch.linspace(0., lin_max*1.2, steps=100)\n",
    "        bins = torch.bucketize(lin_samples, boundaries=boundaries)\n",
    "        lin_mod = boundaries[bins.mode().values]\n",
    "\n",
    "        lin_mods.append(lin_mod.unsqueeze(0))\n",
    "        ang_mods.append(ang_mod.unsqueeze(0))\n",
    "\n",
    "    return torch.cat(lin_stds), torch.cat(ang_stds), torch.cat(lin_maxs), torch.cat(ang_maxs), torch.cat(lin_meds), torch.cat(ang_meds), torch.cat(lin_mods), torch.cat(ang_mods)"
   ]
  },
  {
   "cell_type": "code",
   "execution_count": 7,
   "metadata": {},
   "outputs": [
    {
     "name": "stdout",
     "output_type": "stream",
     "text": [
      "angular std: [ 0.9651  3.0433  9.6416 29.5974 37.1521]\n",
      "angular median: [  2.1970   6.9405  21.9110  67.6567 132.4273]\n",
      "angular mode: [  2.1315   7.0423  19.3873  62.6036 178.6676]\n",
      "angular max: [  3.9967  12.6303  39.9862 122.9713 175.4771]\n",
      "========================================\n",
      "linear std: [ 0.3464  1.0954  3.4641 10.9545 34.6410]\n",
      "linear median: [ 0.5333  1.6847  5.3183 16.8396 53.4573]\n",
      "linear mode: [ 0.4941  1.5151  4.8052 15.6154 50.6773]\n",
      "linear max: [ 0.9706  3.0487  9.6689 30.6731 97.2297]\n"
     ]
    }
   ],
   "source": [
    "lin_stds, ang_stds, lin_maxs, ang_maxs, lin_meds, ang_meds, lin_mods, ang_mods = std_calculator([1e-4, 1e-3, 1e-2, 1e-1, 1.], ang_mult = 2.5, lin_mult=20., p=0.95)\n",
    "\n",
    "print(f\"angular std: {ang_stds.numpy()}\")\n",
    "print(f\"angular median: {ang_meds.numpy()}\")\n",
    "print(f\"angular mode: {ang_mods.numpy()}\")\n",
    "print(f\"angular max: {ang_maxs.numpy()}\")\n",
    "print(\"========================================\")\n",
    "print(f\"linear std: {lin_stds.numpy()}\")\n",
    "print(f\"linear median: {lin_meds.numpy()}\")\n",
    "print(f\"linear mode: {lin_mods.numpy()}\")\n",
    "print(f\"linear max: {lin_maxs.numpy()}\")"
   ]
  },
  {
   "cell_type": "code",
   "execution_count": 8,
   "metadata": {},
   "outputs": [
    {
     "name": "stdout",
     "output_type": "stream",
     "text": [
      "angular std: [ 0.9681  2.1628  6.7990 16.5959 29.4584 37.0531]\n",
      "angular median: [  2.1985   4.9211  15.5213  37.8161  67.9582 132.3020]\n",
      "angular mode: [  2.1371   4.3370  15.3756  31.6961  59.5371 176.6402]\n",
      "angular max: [  4.0071   8.9451  28.1886  68.8140 122.7953 175.5761]\n",
      "========================================\n",
      "linear std: [ 0.2598  0.5809  1.8371  4.5000  8.2158 25.9808]\n",
      "linear median: [ 0.4000  0.8940  2.8288  6.9112 12.6368 39.9268]\n",
      "linear mode: [ 0.3431  0.8070  2.6225  6.5609 12.5459 40.4939]\n",
      "linear max: [ 0.7259  1.6238  5.1513 12.5878 23.0008 72.6250]\n"
     ]
    }
   ],
   "source": [
    "lin_stds, ang_stds, lin_maxs, ang_maxs, lin_meds, ang_meds, lin_mods, ang_mods = std_calculator([1e-4, 5e-4, 5e-3, 3e-2, 1e-1, 1.], ang_mult = 2.5, lin_mult=15., p=0.95)\n",
    "\n",
    "print(f\"angular std: {ang_stds.numpy()}\")\n",
    "print(f\"angular median: {ang_meds.numpy()}\")\n",
    "print(f\"angular mode: {ang_mods.numpy()}\")\n",
    "print(f\"angular max: {ang_maxs.numpy()}\")\n",
    "print(\"========================================\")\n",
    "print(f\"linear std: {lin_stds.numpy()}\")\n",
    "print(f\"linear median: {lin_meds.numpy()}\")\n",
    "print(f\"linear mode: {lin_mods.numpy()}\")\n",
    "print(f\"linear max: {lin_maxs.numpy()}\")"
   ]
  },
  {
   "cell_type": "code",
   "execution_count": 9,
   "metadata": {},
   "outputs": [
    {
     "name": "stdout",
     "output_type": "stream",
     "text": [
      "angular std: [ 5.2752 16.5873 29.6404]\n",
      "angular median: [12.0600 37.9163 67.6430]\n",
      "angular mode: [11.1311 36.0137 62.5563]\n",
      "angular max: [ 21.8646  69.0960 122.8784]\n",
      "========================================\n",
      "linear std: [1.4230 4.5000 8.2158]\n",
      "linear median: [ 2.1909  6.9436 12.6353]\n",
      "linear mode: [ 1.9369  6.8586 10.8663]\n",
      "linear max: [ 3.9949 12.5740 22.9864]\n"
     ]
    }
   ],
   "source": [
    "lin_stds, ang_stds, lin_maxs, ang_maxs, lin_meds, ang_meds, lin_mods, ang_mods = std_calculator([0.003, 0.03, 0.1], ang_mult = 2.5, lin_mult=15., p=0.95)\n",
    "\n",
    "print(f\"angular std: {ang_stds.numpy()}\")\n",
    "print(f\"angular median: {ang_meds.numpy()}\")\n",
    "print(f\"angular mode: {ang_mods.numpy()}\")\n",
    "print(f\"angular max: {ang_maxs.numpy()}\")\n",
    "print(\"========================================\")\n",
    "print(f\"linear std: {lin_stds.numpy()}\")\n",
    "print(f\"linear median: {lin_meds.numpy()}\")\n",
    "print(f\"linear mode: {lin_mods.numpy()}\")\n",
    "print(f\"linear max: {lin_maxs.numpy()}\")"
   ]
  },
  {
   "cell_type": "code",
   "execution_count": null,
   "metadata": {},
   "outputs": [],
   "source": []
  }
 ],
 "metadata": {
  "kernelspec": {
   "display_name": "diff_edf",
   "language": "python",
   "name": "python3"
  },
  "language_info": {
   "codemirror_mode": {
    "name": "ipython",
    "version": 3
   },
   "file_extension": ".py",
   "mimetype": "text/x-python",
   "name": "python",
   "nbconvert_exporter": "python",
   "pygments_lexer": "ipython3",
   "version": "3.8.16"
  },
  "orig_nbformat": 4,
  "vscode": {
   "interpreter": {
    "hash": "79a0085b6cf04e1cff261ad12d41cff4e1530d9e68d1f8fc6bd159a2915452c6"
   }
  }
 },
 "nbformat": 4,
 "nbformat_minor": 2
}
