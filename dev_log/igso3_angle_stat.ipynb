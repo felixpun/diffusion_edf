{
 "cells": [
  {
   "cell_type": "code",
   "execution_count": 1,
   "metadata": {},
   "outputs": [],
   "source": [
    "import math\n",
    "import torch\n",
    "from diffusion_edf.dist import sample_igso3\n",
    "\n",
    "from matplotlib import pyplot as plt\n",
    "\n",
    "import numpy as np\n",
    "np.set_printoptions(precision=4, floatmode=\"fixed\")"
   ]
  },
  {
   "cell_type": "code",
   "execution_count": 2,
   "metadata": {},
   "outputs": [],
   "source": [
    "sample_w_max = sample_igso3(eps=100., N=100000)\n",
    "sample_w_max = torch.acos(sample_w_max[:,0])*2\n",
    "sample_w_degree_max = sample_w_max / torch.pi * 180."
   ]
  },
  {
   "attachments": {},
   "cell_type": "markdown",
   "metadata": {},
   "source": [
    "$IG_{SO(3)}$ almost converges at $t=6$"
   ]
  },
  {
   "cell_type": "code",
   "execution_count": 3,
   "metadata": {},
   "outputs": [
    {
     "data": {
      "image/png": "[encoded data removed]",
      "text/plain": [
       "<Figure size 640x480 with 1 Axes>"
      ]
     },
     "metadata": {},
     "output_type": "display_data"
    }
   ],
   "source": [
    "t = 6.\n",
    "eps = t/2\n",
    "\n",
    "sample = sample_igso3(eps=eps, N=100000)\n",
    "sample_w = torch.acos(sample[:,0])*2\n",
    "sample_w_degree = sample_w / torch.pi * 180.\n",
    "\n",
    "plt.hist([sample_w_degree, sample_w_degree_max], bins=100)\n",
    "plt.show()"
   ]
  },
  {
   "attachments": {},
   "cell_type": "markdown",
   "metadata": {},
   "source": [
    "$\\textrm{rotation angle}\\ \\  w\\approx \\sqrt{t}\\times 38.5\\degree$"
   ]
  },
  {
   "cell_type": "code",
   "execution_count": 4,
   "metadata": {},
   "outputs": [
    {
     "name": "stdout",
     "output_type": "stream",
     "text": [
      "0.6736362126239206\n",
      "0.6738028662803945\n",
      "0.6741647659614838\n",
      "0.6756633867274429\n",
      "0.6756287984730781\n",
      "\n",
      " degree: 38.71067867000223\n"
     ]
    }
   ],
   "source": [
    "for t in [1e-6, 1e-5, 1e-4, 1e-3, 1e-2]:\n",
    "    eps = t/2\n",
    "\n",
    "    sample = sample_igso3(eps=eps, N=100000)\n",
    "    sample_w = torch.acos(sample[:,0])*2\n",
    "    sample_w_degree = sample_w / torch.pi * 180.\n",
    "    print(sample_w.std().item() / math.sqrt(t))\n",
    "print(f\"\\n degree: {sample_w_degree.std().item() / math.sqrt(t)}\")"
   ]
  },
  {
   "attachments": {},
   "cell_type": "markdown",
   "metadata": {},
   "source": [
    "# Play"
   ]
  },
  {
   "cell_type": "code",
   "execution_count": 5,
   "metadata": {},
   "outputs": [
    {
     "name": "stdout",
     "output_type": "stream",
     "text": [
      "tensor(3.8781, dtype=torch.float64)\n"
     ]
    },
    {
     "data": {
      "image/png": "[encoded data removed]",
      "text/plain": [
       "<Figure size 640x480 with 1 Axes>"
      ]
     },
     "metadata": {},
     "output_type": "display_data"
    }
   ],
   "source": [
    "t = 1e-2\n",
    "eps = t/2\n",
    "\n",
    "sample = sample_igso3(eps=eps, N=100000)\n",
    "sample_w = torch.acos(sample[:,0])*2\n",
    "sample_w_degree = sample_w / torch.pi * 180.\n",
    "print(sample_w_degree.std())\n",
    "\n",
    "plt.hist(sample_w_degree, bins=100)\n",
    "plt.show()"
   ]
  },
  {
   "attachments": {},
   "cell_type": "markdown",
   "metadata": {},
   "source": [
    "# Calculator"
   ]
  },
  {
   "cell_type": "code",
   "execution_count": 6,
   "metadata": {},
   "outputs": [],
   "source": [
    "def std_calculator(t_schedule, lin_mult, ang_mult = 1., p = 0.95, N = 100000):\n",
    "    lin_stds = []\n",
    "    ang_stds = []\n",
    "    lin_maxs = []\n",
    "    ang_maxs = []\n",
    "    lin_meds = []\n",
    "    ang_meds = []\n",
    "    lin_mods = []\n",
    "    ang_mods = []\n",
    "\n",
    "    for t in t_schedule:\n",
    "        eps = t/2 * (ang_mult**2)\n",
    "        std = torch.tensor([math.sqrt(t*3)]) * lin_mult\n",
    "        lin_stds.append(std)\n",
    "        lin_samples = torch.randn(N,3).norm(dim=-1) * std\n",
    "\n",
    "        sample = sample_igso3(eps=eps, N=N)\n",
    "        sample_w = torch.acos(sample[:,0])*2\n",
    "        sample_w_degree = sample_w / torch.pi * 180.\n",
    "        ang_stds.append(sample_w_degree.std().unsqueeze(0))\n",
    "        ang_max = sample_w_degree.sort().values[int(p*N)]\n",
    "        ang_maxs.append(ang_max.unsqueeze(0))\n",
    "        lin_max = lin_samples.sort().values[int(p*N)]\n",
    "        lin_maxs.append(lin_max.unsqueeze(0))\n",
    "\n",
    "        lin_meds.append(lin_samples.median().unsqueeze(0))\n",
    "        ang_meds.append(sample_w_degree.median().unsqueeze(0))\n",
    "\n",
    "        boundaries = torch.linspace(0., ang_max*1.2, steps=100)\n",
    "        bins = torch.bucketize(sample_w_degree, boundaries=boundaries)\n",
    "        ang_mod = boundaries[bins.mode().values]\n",
    "\n",
    "        boundaries = torch.linspace(0., lin_max*1.2, steps=100)\n",
    "        bins = torch.bucketize(lin_samples, boundaries=boundaries)\n",
    "        lin_mod = boundaries[bins.mode().values]\n",
    "\n",
    "        lin_mods.append(lin_mod.unsqueeze(0))\n",
    "        ang_mods.append(ang_mod.unsqueeze(0))\n",
    "\n",
    "    return torch.cat(lin_stds), torch.cat(ang_stds), torch.cat(lin_maxs), torch.cat(ang_maxs), torch.cat(lin_meds), torch.cat(ang_meds), torch.cat(lin_mods), torch.cat(ang_mods)"
   ]
  },
  {
   "cell_type": "code",
   "execution_count": 26,
   "metadata": {},
   "outputs": [
    {
     "name": "stdout",
     "output_type": "stream",
     "text": [
      "angular std: [ 0.9634  3.0411  9.6641 29.6485 37.0822]\n",
      "angular median: [  2.1982   6.9514  21.9383  67.7484 131.8029]\n",
      "angular mode: [  2.3794   6.1080  20.3768  59.7136 176.4648]\n",
      "angular max: [  4.0062  12.5978  40.0259 123.1594 175.4017]\n",
      "========================================\n",
      "linear std: [ 0.3464  1.0954  3.4641 10.9545 34.6410]\n",
      "linear median: [ 0.5322  1.6909  5.3306 16.8655 53.3415]\n",
      "linear mode: [ 0.4819  1.4878  5.1513 15.5906 48.1460]\n",
      "linear max: [ 0.9697  3.0686  9.6587 30.6244 96.8791]\n"
     ]
    }
   ],
   "source": [
    "lin_stds, ang_stds, lin_maxs, ang_maxs, lin_meds, ang_meds, lin_mods, ang_mods = std_calculator([1e-4, 1e-3, 1e-2, 1e-1, 1.], ang_mult = 2.5, lin_mult=20., p=0.95)\n",
    "\n",
    "print(f\"angular std: {ang_stds.numpy()}\")\n",
    "print(f\"angular median: {ang_meds.numpy()}\")\n",
    "print(f\"angular mode: {ang_mods.numpy()}\")\n",
    "print(f\"angular max: {ang_maxs.numpy()}\")\n",
    "print(\"========================================\")\n",
    "print(f\"linear std: {lin_stds.numpy()}\")\n",
    "print(f\"linear median: {lin_meds.numpy()}\")\n",
    "print(f\"linear mode: {lin_mods.numpy()}\")\n",
    "print(f\"linear max: {lin_maxs.numpy()}\")"
   ]
  },
  {
   "cell_type": "code",
   "execution_count": 30,
   "metadata": {},
   "outputs": [
    {
     "name": "stdout",
     "output_type": "stream",
     "text": [
      "angular std: [ 0.9676  2.1572  6.8142 16.5375 29.6057 37.0360]\n",
      "angular median: [  2.2076   4.8959  15.5188  37.7565  67.8178 132.2334]\n",
      "angular mode: [  2.0900   4.4416  15.4016  35.7338  58.0901 168.0133]\n",
      "angular max: [  4.0099   8.9375  28.2362  68.5590 122.8830 175.4569]\n",
      "========================================\n",
      "linear std: [ 0.2598  0.5809  1.8371  4.5000  8.2158 25.9808]\n",
      "linear median: [ 0.3995  0.8942  2.8358  6.9056 12.6527 40.0900]\n",
      "linear mode: [ 0.3608  0.8670  2.4916  6.6871 11.7152 36.0302]\n",
      "linear max: [ 0.7260  1.6256  5.1389 12.5383 23.0120 72.4997]\n"
     ]
    }
   ],
   "source": [
    "lin_stds, ang_stds, lin_maxs, ang_maxs, lin_meds, ang_meds, lin_mods, ang_mods = std_calculator([1e-4, 5e-4, 5e-3, 3e-2, 1e-1, 1.], ang_mult = 2.5, lin_mult=15., p=0.95)\n",
    "\n",
    "print(f\"angular std: {ang_stds.numpy()}\")\n",
    "print(f\"angular median: {ang_meds.numpy()}\")\n",
    "print(f\"angular mode: {ang_mods.numpy()}\")\n",
    "print(f\"angular max: {ang_maxs.numpy()}\")\n",
    "print(\"========================================\")\n",
    "print(f\"linear std: {lin_stds.numpy()}\")\n",
    "print(f\"linear median: {lin_meds.numpy()}\")\n",
    "print(f\"linear mode: {lin_mods.numpy()}\")\n",
    "print(f\"linear max: {lin_maxs.numpy()}\")"
   ]
  },
  {
   "cell_type": "code",
   "execution_count": null,
   "metadata": {},
   "outputs": [],
   "source": []
  }
 ],
 "metadata": {
  "kernelspec": {
   "display_name": "diff_edf",
   "language": "python",
   "name": "python3"
  },
  "language_info": {
   "codemirror_mode": {
    "name": "ipython",
    "version": 3
   },
   "file_extension": ".py",
   "mimetype": "text/x-python",
   "name": "python",
   "nbconvert_exporter": "python",
   "pygments_lexer": "ipython3",
   "version": "3.8.16"
  },
  "orig_nbformat": 4,
  "vscode": {
   "interpreter": {
    "hash": "79a0085b6cf04e1cff261ad12d41cff4e1530d9e68d1f8fc6bd159a2915452c6"
   }
  }
 },
 "nbformat": 4,
 "nbformat_minor": 2
}
