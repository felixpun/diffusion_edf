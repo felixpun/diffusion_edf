{
 "cells": [
  {
   "cell_type": "code",
   "execution_count": 1,
   "metadata": {},
   "outputs": [],
   "source": [
    "import math\n",
    "import torch\n",
    "from diffusion_edf.dist import sample_igso3\n",
    "\n",
    "from matplotlib import pyplot as plt\n",
    "\n",
    "import numpy as np\n",
    "np.set_printoptions(precision=4, floatmode=\"fixed\")"
   ]
  },
  {
   "cell_type": "code",
   "execution_count": 2,
   "metadata": {},
   "outputs": [],
   "source": [
    "sample_w_max = sample_igso3(eps=100., N=100000)\n",
    "sample_w_max = torch.acos(sample_w_max[:,0])*2\n",
    "sample_w_degree_max = sample_w_max / torch.pi * 180."
   ]
  },
  {
   "attachments": {},
   "cell_type": "markdown",
   "metadata": {},
   "source": [
    "$IG_{SO(3)}$ almost converges at $t=6$"
   ]
  },
  {
   "cell_type": "code",
   "execution_count": 3,
   "metadata": {},
   "outputs": [
    {
     "data": {
      "image/png": "[encoded data removed]",
      "text/plain": [
       "<Figure size 640x480 with 1 Axes>"
      ]
     },
     "metadata": {},
     "output_type": "display_data"
    }
   ],
   "source": [
    "t = 6.\n",
    "eps = t/2\n",
    "\n",
    "sample = sample_igso3(eps=eps, N=100000)\n",
    "sample_w = torch.acos(sample[:,0])*2\n",
    "sample_w_degree = sample_w / torch.pi * 180.\n",
    "\n",
    "plt.hist([sample_w_degree, sample_w_degree_max], bins=100)\n",
    "plt.show()"
   ]
  },
  {
   "attachments": {},
   "cell_type": "markdown",
   "metadata": {},
   "source": [
    "$\\textrm{rotation angle}\\ \\  w\\approx \\sqrt{t}\\times 38.5\\degree$"
   ]
  },
  {
   "cell_type": "code",
   "execution_count": 4,
   "metadata": {},
   "outputs": [
    {
     "name": "stdout",
     "output_type": "stream",
     "text": [
      "0.6739040003128427\n",
      "0.6734584355551636\n",
      "0.6760268252249253\n",
      "0.6744271657572246\n",
      "0.6710079354754728\n",
      "\n",
      " degree: 38.44592272253122\n"
     ]
    }
   ],
   "source": [
    "for t in [1e-6, 1e-5, 1e-4, 1e-3, 1e-2]:\n",
    "    eps = t/2\n",
    "\n",
    "    sample = sample_igso3(eps=eps, N=100000)\n",
    "    sample_w = torch.acos(sample[:,0])*2\n",
    "    sample_w_degree = sample_w / torch.pi * 180.\n",
    "    print(sample_w.std().item() / math.sqrt(t))\n",
    "print(f\"\\n degree: {sample_w_degree.std().item() / math.sqrt(t)}\")"
   ]
  },
  {
   "attachments": {},
   "cell_type": "markdown",
   "metadata": {},
   "source": [
    "# Play"
   ]
  },
  {
   "cell_type": "code",
   "execution_count": 5,
   "metadata": {},
   "outputs": [
    {
     "name": "stdout",
     "output_type": "stream",
     "text": [
      "tensor(3.8429, dtype=torch.float64)\n"
     ]
    },
    {
     "data": {
      "image/png": "[encoded data removed]",
      "text/plain": [
       "<Figure size 640x480 with 1 Axes>"
      ]
     },
     "metadata": {},
     "output_type": "display_data"
    }
   ],
   "source": [
    "t = 1e-2\n",
    "eps = t/2\n",
    "\n",
    "sample = sample_igso3(eps=eps, N=100000)\n",
    "sample_w = torch.acos(sample[:,0])*2\n",
    "sample_w_degree = sample_w / torch.pi * 180.\n",
    "print(sample_w_degree.std())\n",
    "\n",
    "plt.hist(sample_w_degree, bins=100)\n",
    "plt.show()"
   ]
  },
  {
   "attachments": {},
   "cell_type": "markdown",
   "metadata": {},
   "source": [
    "# Calculator"
   ]
  },
  {
   "cell_type": "code",
   "execution_count": 6,
   "metadata": {},
   "outputs": [],
   "source": [
    "def std_calculator(t_schedule, lin_mult, ang_mult = 1., p = 0.95, N = 100000):\n",
    "    lin_stds = []\n",
    "    ang_stds = []\n",
    "    lin_maxs = []\n",
    "    ang_maxs = []\n",
    "    lin_meds = []\n",
    "    ang_meds = []\n",
    "    lin_mods = []\n",
    "    ang_mods = []\n",
    "\n",
    "    for t in t_schedule:\n",
    "        eps = t/2 * (ang_mult**2)\n",
    "        std = torch.tensor([math.sqrt(t*3)]) * lin_mult\n",
    "        lin_stds.append(std)\n",
    "        lin_samples = torch.randn(N,3).norm(dim=-1) * std\n",
    "\n",
    "        sample = sample_igso3(eps=eps, N=N)\n",
    "        sample_w = torch.acos(sample[:,0])*2\n",
    "        sample_w_degree = sample_w / torch.pi * 180.\n",
    "        ang_stds.append(sample_w_degree.std().unsqueeze(0))\n",
    "        ang_max = sample_w_degree.sort().values[int(p*N)]\n",
    "        ang_maxs.append(ang_max.unsqueeze(0))\n",
    "        lin_max = lin_samples.sort().values[int(p*N)]\n",
    "        lin_maxs.append(lin_max.unsqueeze(0))\n",
    "\n",
    "        lin_meds.append(lin_samples.median().unsqueeze(0))\n",
    "        ang_meds.append(sample_w_degree.median().unsqueeze(0))\n",
    "\n",
    "        boundaries = torch.linspace(0., ang_max*1.2, steps=100)\n",
    "        bins = torch.bucketize(sample_w_degree, boundaries=boundaries)\n",
    "        ang_mod = boundaries[bins.mode().values]\n",
    "\n",
    "        boundaries = torch.linspace(0., lin_max*1.2, steps=100)\n",
    "        bins = torch.bucketize(lin_samples, boundaries=boundaries)\n",
    "        lin_mod = boundaries[bins.mode().values]\n",
    "\n",
    "        lin_mods.append(lin_mod.unsqueeze(0))\n",
    "        ang_mods.append(ang_mod.unsqueeze(0))\n",
    "\n",
    "    return torch.cat(lin_stds), torch.cat(ang_stds), torch.cat(lin_maxs), torch.cat(ang_maxs), torch.cat(lin_meds), torch.cat(ang_meds), torch.cat(lin_mods), torch.cat(ang_mods)"
   ]
  },
  {
   "cell_type": "code",
   "execution_count": 7,
   "metadata": {},
   "outputs": [
    {
     "name": "stdout",
     "output_type": "stream",
     "text": [
      "angular std: [ 0.9635  3.0592  9.5985 29.5899 37.0661]\n",
      "angular median: [  2.2011   6.9414  21.9962  67.6951 131.9860]\n",
      "angular mode: [  2.0345   6.4319  19.3432  65.5844 170.1440]\n",
      "angular max: [  3.9963  12.6341  39.8954 122.9707 175.4610]\n",
      "========================================\n",
      "linear std: [ 0.3464  1.0954  3.4641 10.9545 34.6410]\n",
      "linear median: [ 0.5326  1.6838  5.3170 16.8148 53.1160]\n",
      "linear mode: [ 0.4697  1.3724  4.8230 16.7062 51.5304]\n",
      "linear max: [ 0.9688  3.0600  9.7047 30.6281 96.6196]\n"
     ]
    }
   ],
   "source": [
    "lin_stds, ang_stds, lin_maxs, ang_maxs, lin_meds, ang_meds, lin_mods, ang_mods = std_calculator([1e-4, 1e-3, 1e-2, 1e-1, 1.], ang_mult = 2.5, lin_mult=20., p=0.95)\n",
    "\n",
    "print(f\"angular std: {ang_stds.numpy()}\")\n",
    "print(f\"angular median: {ang_meds.numpy()}\")\n",
    "print(f\"angular mode: {ang_mods.numpy()}\")\n",
    "print(f\"angular max: {ang_maxs.numpy()}\")\n",
    "print(\"========================================\")\n",
    "print(f\"linear std: {lin_stds.numpy()}\")\n",
    "print(f\"linear median: {lin_meds.numpy()}\")\n",
    "print(f\"linear mode: {lin_mods.numpy()}\")\n",
    "print(f\"linear max: {lin_maxs.numpy()}\")"
   ]
  },
  {
   "cell_type": "code",
   "execution_count": 8,
   "metadata": {},
   "outputs": [
    {
     "name": "stdout",
     "output_type": "stream",
     "text": [
      "angular std: [ 0.9646  3.0551  6.8456 16.6163 29.5473 37.1669]\n",
      "angular median: [  2.1968   6.9628  15.5402  37.7840  67.6796 132.2153]\n",
      "angular mode: [  1.9885   6.2826  14.0822  35.8662  66.9212 178.7964]\n",
      "angular max: [  4.0012  12.6418  28.3361  68.8131 122.6889 175.6036]\n",
      "========================================\n",
      "linear std: [ 0.3464  1.0954  2.4495  6.0000 10.9545 34.6410]\n",
      "linear median: [ 0.5324  1.6808  3.7743  9.2286 16.7787 53.2537]\n",
      "linear mode: [ 0.4933  1.4798  3.2376  8.5615 15.5921 48.0410]\n",
      "linear max: [ 0.9690  3.0521  6.8488 16.8172 30.6273 96.6680]\n"
     ]
    }
   ],
   "source": [
    "lin_stds, ang_stds, lin_maxs, ang_maxs, lin_meds, ang_meds, lin_mods, ang_mods = std_calculator([1e-4, 1e-3, 5e-3, 3e-2, 1e-1, 1.], ang_mult = 2.5, lin_mult=20., p=0.95)\n",
    "\n",
    "print(f\"angular std: {ang_stds.numpy()}\")\n",
    "print(f\"angular median: {ang_meds.numpy()}\")\n",
    "print(f\"angular mode: {ang_mods.numpy()}\")\n",
    "print(f\"angular max: {ang_maxs.numpy()}\")\n",
    "print(\"========================================\")\n",
    "print(f\"linear std: {lin_stds.numpy()}\")\n",
    "print(f\"linear median: {lin_meds.numpy()}\")\n",
    "print(f\"linear mode: {lin_mods.numpy()}\")\n",
    "print(f\"linear max: {lin_maxs.numpy()}\")"
   ]
  }
 ],
 "metadata": {
  "kernelspec": {
   "display_name": "diff_edf",
   "language": "python",
   "name": "python3"
  },
  "language_info": {
   "codemirror_mode": {
    "name": "ipython",
    "version": 3
   },
   "file_extension": ".py",
   "mimetype": "text/x-python",
   "name": "python",
   "nbconvert_exporter": "python",
   "pygments_lexer": "ipython3",
   "version": "3.8.16"
  },
  "orig_nbformat": 4,
  "vscode": {
   "interpreter": {
    "hash": "79a0085b6cf04e1cff261ad12d41cff4e1530d9e68d1f8fc6bd159a2915452c6"
   }
  }
 },
 "nbformat": 4,
 "nbformat_minor": 2
}
