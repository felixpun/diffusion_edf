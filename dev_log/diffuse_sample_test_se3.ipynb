{
 "cells": [
  {
   "cell_type": "code",
   "execution_count": 1,
   "metadata": {},
   "outputs": [],
   "source": [
    "import math\n",
    "import torch\n",
    "from diffusion_edf import dist\n",
    "from diffusion_edf import transforms\n",
    "import plotly.graph_objs as go"
   ]
  },
  {
   "cell_type": "code",
   "execution_count": 2,
   "metadata": {},
   "outputs": [],
   "source": [
    "time = 0.5\n",
    "lin_mult = 1.0\n",
    "\n",
    "eps = time / 2\n",
    "std = math.sqrt(time) * lin_mult\n",
    "\n",
    "N = 100000\n",
    "T = dist.sample_isotropic_se3_gaussian(eps=eps, std=std, N=N)\n",
    "q = T[..., :4]\n",
    "x = T[..., 4:]\n",
    "z = torch.tensor([0., 0., 1.]).expand(N,3)\n",
    "\n",
    "z_transformed = transforms.quaternion_apply(quaternion=q, point=z) + x"
   ]
  },
  {
   "cell_type": "code",
   "execution_count": 3,
   "metadata": {},
   "outputs": [],
   "source": [
    "if N < 30000:\n",
    "    z_vis = z_transformed\n",
    "\n",
    "    layout = go.Layout(\n",
    "        width=600,\n",
    "        height=600,\n",
    "        scene=dict(camera=dict(eye=dict(x=1.25, y=1.25, z=1.25)), #the default values are 1.25, 1.25, 1.25\n",
    "                aspectmode='manual', #this string can be 'data', 'cube', 'auto', 'manual'\n",
    "                #a custom aspectratio is defined as follows:\n",
    "                aspectratio=dict(x=1, y=1, z=1),\n",
    "                xaxis = dict(title='x', range = [-2,2]),\n",
    "                yaxis = dict(title='y', range = [-2,2]),\n",
    "                zaxis = dict(title='z', range = [-2,2]),\n",
    "                )\n",
    "    )\n",
    "    fig = go.Figure(data=go.Scatter3d(x=z_vis[...,0], y=z_vis[...,1], z=z_vis[...,2], mode='markers', marker=dict(size=3)), layout=layout)\n",
    "    fig.show()"
   ]
  },
  {
   "cell_type": "code",
   "execution_count": 4,
   "metadata": {},
   "outputs": [],
   "source": [
    "n_iter = 100\n",
    "z_diffuse = z\n",
    "for n in range(n_iter):\n",
    "    #t = time * (n+1) / n_iter\n",
    "    dt = time / n_iter\n",
    "    dw = torch.randn(N,6) * torch.tensor([lin_mult, lin_mult, lin_mult, 1., 1., 1.]) * math.sqrt(dt)\n",
    "    T_diffuse = transforms.se3_exp_map(log_transform=dw)\n",
    "    q_diffuse = transforms.matrix_to_quaternion(T_diffuse[..., :3, :3])\n",
    "    x_diffuse = T_diffuse[..., :3, 3]\n",
    "    z_diffuse = transforms.quaternion_apply(quaternion=q_diffuse, point=z_diffuse) + x_diffuse # T should be applied from t_max to t=0, but since the P(T_diffuse) is time invariant, any action ordering is fine.\n"
   ]
  },
  {
   "cell_type": "code",
   "execution_count": 5,
   "metadata": {},
   "outputs": [
    {
     "name": "stdout",
     "output_type": "stream",
     "text": [
      "tensor([0.8673, 0.8713, 0.7832], dtype=torch.float64)\n",
      "tensor([-4.7668e-04,  1.5403e-03,  6.0781e-01], dtype=torch.float64)\n"
     ]
    }
   ],
   "source": [
    "print(z_transformed.std(dim=0))\n",
    "print(z_transformed.mean(dim=0))"
   ]
  },
  {
   "cell_type": "code",
   "execution_count": 6,
   "metadata": {},
   "outputs": [
    {
     "name": "stdout",
     "output_type": "stream",
     "text": [
      "tensor([0.8671, 0.8690, 0.7833])\n",
      "tensor([-1.7509e-03,  2.1567e-04,  6.0799e-01])\n"
     ]
    }
   ],
   "source": [
    "print(z_diffuse.std(dim=0))\n",
    "print(z_diffuse.mean(dim=0))"
   ]
  },
  {
   "cell_type": "code",
   "execution_count": 7,
   "metadata": {},
   "outputs": [],
   "source": [
    "if N < 30000:\n",
    "    z_vis = z_diffuse\n",
    "\n",
    "    layout = go.Layout(\n",
    "        width=600,\n",
    "        height=600,\n",
    "        scene=dict(camera=dict(eye=dict(x=1.25, y=1.25, z=1.25)), #the default values are 1.25, 1.25, 1.25\n",
    "                aspectmode='manual', #this string can be 'data', 'cube', 'auto', 'manual'\n",
    "                #a custom aspectratio is defined as follows:\n",
    "                aspectratio=dict(x=1, y=1, z=1),\n",
    "                xaxis = dict(title='x', range = [-2,2]),\n",
    "                yaxis = dict(title='y', range = [-2,2]),\n",
    "                zaxis = dict(title='z', range = [-2,2]),\n",
    "                )\n",
    "    )\n",
    "    fig = go.Figure(data=go.Scatter3d(x=z_vis[...,0], y=z_vis[...,1], z=z_vis[...,2], mode='markers', marker=dict(size=3)), layout=layout)\n",
    "    fig.show()"
   ]
  }
 ],
 "metadata": {
  "kernelspec": {
   "display_name": "diff_edf",
   "language": "python",
   "name": "python3"
  },
  "language_info": {
   "codemirror_mode": {
    "name": "ipython",
    "version": 3
   },
   "file_extension": ".py",
   "mimetype": "text/x-python",
   "name": "python",
   "nbconvert_exporter": "python",
   "pygments_lexer": "ipython3",
   "version": "3.8.16"
  },
  "orig_nbformat": 4,
  "vscode": {
   "interpreter": {
    "hash": "79a0085b6cf04e1cff261ad12d41cff4e1530d9e68d1f8fc6bd159a2915452c6"
   }
  }
 },
 "nbformat": 4,
 "nbformat_minor": 2
}
