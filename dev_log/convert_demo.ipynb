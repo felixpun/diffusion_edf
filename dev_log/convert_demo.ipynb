{
 "cells": [
  {
   "cell_type": "code",
   "execution_count": 1,
   "metadata": {},
   "outputs": [
    {
     "name": "stdout",
     "output_type": "stream",
     "text": [
      "Jupyter environment detected. Enabling Open3D WebVisualizer.\n",
      "[Open3D INFO] WebRTC GUI backend enabled.\n",
      "[Open3D INFO] WebRTCWindowSystem: HTTP handshake server disabled.\n"
     ]
    }
   ],
   "source": [
    "from typing import Union, Optional, List, Tuple, Dict, Any, Iterable, TypeVar, Type, NamedTuple, Sequence, Generic, _GenericAlias, get_origin, get_args\n",
    "from typing_extensions import Self\n",
    "from abc import abstractmethod\n",
    "\n",
    "from beartype import beartype\n",
    "from edf_interface.data.base import DataAbstractBase, _device, _dtype, _torch_tensor_to\n",
    "from edf_interface.data.se3 import SE3\n",
    "from edf_interface.data.pointcloud import PointCloud\n",
    "from edf_interface.data.demo import DemoSequence, TargetPoseDemo\n",
    "from edf_interface.data.dataset import save_demos, load_demos, DemoDataset\n",
    "\n",
    "from diffusion_edf.data import DemoSeqDataset as DemoSeqDatasetOld\n",
    "\n",
    "import torch"
   ]
  },
  {
   "cell_type": "code",
   "execution_count": 2,
   "metadata": {},
   "outputs": [],
   "source": [
    "root_dir = 'demo/test_unseen_demo'\n",
    "old_dataset = DemoSeqDatasetOld(dataset_dir= root_dir)"
   ]
  },
  {
   "cell_type": "code",
   "execution_count": 3,
   "metadata": {},
   "outputs": [],
   "source": [
    "new_dataset = []\n",
    "for old_demo_seq in old_dataset:\n",
    "    demo_seq = DemoSequence([\n",
    "        TargetPoseDemo(\n",
    "            target_poses=SE3(poses=old_demo_seq[0].target_poses.poses, name='target_poses', renormalize=True),\n",
    "            scene_pcd=PointCloud(points=old_demo_seq[0].scene_pc.points, colors=old_demo_seq[0].scene_pc.colors, name='scene_pcd'),\n",
    "            grasp_pcd=PointCloud(points=old_demo_seq[0].grasp_pc.points, colors=old_demo_seq[0].grasp_pc.colors, name='grasp_pcd'),\n",
    "            name='pick'\n",
    "        ),\n",
    "        TargetPoseDemo(\n",
    "            target_poses=SE3(poses=old_demo_seq[1].target_poses.poses, name='target_poses', renormalize=True),\n",
    "            scene_pcd=PointCloud(points=old_demo_seq[1].scene_pc.points, colors=old_demo_seq[1].scene_pc.colors, name='scene_pcd'),\n",
    "            grasp_pcd=PointCloud(points=old_demo_seq[1].grasp_pc.points, colors=old_demo_seq[1].grasp_pc.colors, name='grasp_pcd'),\n",
    "            name='place'\n",
    "        ),\n",
    "    ])\n",
    "    new_dataset.append(demo_seq)\n",
    "save_demos(new_dataset, root_dir.rstrip('/') + '_new')"
   ]
  },
  {
   "cell_type": "code",
   "execution_count": null,
   "metadata": {},
   "outputs": [],
   "source": []
  },
  {
   "cell_type": "code",
   "execution_count": null,
   "metadata": {},
   "outputs": [],
   "source": []
  },
  {
   "cell_type": "code",
   "execution_count": null,
   "metadata": {},
   "outputs": [],
   "source": []
  }
 ],
 "metadata": {
  "kernelspec": {
   "display_name": "diff_edf",
   "language": "python",
   "name": "python3"
  },
  "language_info": {
   "codemirror_mode": {
    "name": "ipython",
    "version": 3
   },
   "file_extension": ".py",
   "mimetype": "text/x-python",
   "name": "python",
   "nbconvert_exporter": "python",
   "pygments_lexer": "ipython3",
   "version": "3.8.16"
  },
  "orig_nbformat": 4,
  "vscode": {
   "interpreter": {
    "hash": "79a0085b6cf04e1cff261ad12d41cff4e1530d9e68d1f8fc6bd159a2915452c6"
   }
  }
 },
 "nbformat": 4,
 "nbformat_minor": 2
}
