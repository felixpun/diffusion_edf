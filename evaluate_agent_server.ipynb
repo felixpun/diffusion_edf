{
 "cells": [
  {
   "cell_type": "code",
   "execution_count": null,
   "metadata": {},
   "outputs": [],
   "source": [
    "from typing import List, Optional\n",
    "import pickle\n",
    "\n",
    "from beartype import beartype\n",
    "import torch\n",
    "\n",
    "from edf_interface.pyro import PyroServer, expose, PyroClientBase\n",
    "from edf_interface.data import SE3, PointCloud, TargetPoseDemo, DemoSequence, DemoDataset"
   ]
  },
  {
   "attachments": {},
   "cell_type": "markdown",
   "metadata": {},
   "source": [
    "# Initialize simple demonstration server"
   ]
  },
  {
   "cell_type": "code",
   "execution_count": null,
   "metadata": {},
   "outputs": [],
   "source": [
    "dataset = DemoDataset('demo/test_unseen_demo')\n",
    "target_task = 'pick'\n",
    "demo = dataset[3]\n",
    "pick_demo, place_demo = demo\n",
    "\n",
    "if target_task == 'pick':\n",
    "    target_demo = pick_demo\n",
    "elif target_task == 'place':\n",
    "    target_demo = place_demo\n",
    "else:\n",
    "     raise ValueError(f\"Unknown target task: {target_task}\")\n",
    "\n",
    "scene_pcd, grasp_pcd, target_poses = target_demo.scene_pcd, target_demo.grasp_pcd, target_demo.target_poses\n",
    "current_poses = SE3(\n",
    "    torch.cat([\n",
    "        torch.tensor([[1.0, 0.0, 0.0, 0.0]]),\n",
    "        torch.tensor([[-0.3, -0.3, 0.3]])\n",
    "    ], dim=-1)\n",
    ")\n",
    "\n",
    "@beartype\n",
    "class EnvService():\n",
    "    def __init__(self):\n",
    "        pass\n",
    "\n",
    "    @expose\n",
    "    def get_current_poses(self) -> SE3:\n",
    "        return current_poses\n",
    "\n",
    "    @expose\n",
    "    def observe_scene(self) -> PointCloud:\n",
    "        return scene_pcd\n",
    "\n",
    "    @expose\n",
    "    def observe_grasp(self) -> PointCloud:\n",
    "        return grasp_pcd\n",
    "\n",
    "    @expose\n",
    "    def move_se3(self, target_poses: SE3) -> bool:\n",
    "        print(\"Target poses received!\")\n",
    "        global current_poses\n",
    "        current_poses = target_poses[0]\n",
    "        return True\n",
    "    \n",
    "server = PyroServer(server_name='env', \n",
    "                    init_nameserver=None) # initialize nameserver if cannot find existing one.\n",
    "server.register_service(service=EnvService())\n",
    "server.run(nonblocking=True)\n",
    "# server.close()"
   ]
  },
  {
   "attachments": {},
   "cell_type": "markdown",
   "metadata": {},
   "source": [
    "# Initialize EDF Client"
   ]
  },
  {
   "cell_type": "code",
   "execution_count": null,
   "metadata": {},
   "outputs": [],
   "source": [
    "@beartype\n",
    "class DiffusionEdfClient(PyroClientBase):\n",
    "    def __init__(self, env_server_name: str = 'env',\n",
    "                 agent_sever_name: str = 'agent'):\n",
    "        super().__init__(service_names=[env_server_name, agent_sever_name])\n",
    "\n",
    "    def get_current_poses(self, **kwargs) -> SE3: ...\n",
    "    \n",
    "    def observe_scene(self, **kwargs) -> PointCloud: ...\n",
    "    \n",
    "    def observe_grasp(self, **kwargs) -> PointCloud: ...\n",
    "\n",
    "    def move_se3(self, target_poses: SE3, **kwargs) -> bool: ...\n",
    "\n",
    "    def infer_target_poses(self, scene_pcd: PointCloud, \n",
    "                           task_name: str,\n",
    "                           grasp_pcd: PointCloud,\n",
    "                           current_poses: PointCloud, \n",
    "                           N_steps_list: List[List[int]],\n",
    "                           timesteps_list: List[List[float]],\n",
    "                           temperature_list: List[float]) -> SE3: ...\n",
    "\n",
    "client = DiffusionEdfClient(env_server_name='env', agent_sever_name='agent')"
   ]
  },
  {
   "cell_type": "code",
   "execution_count": null,
   "metadata": {},
   "outputs": [],
   "source": [
    "Ts = client.get_current_poses()\n",
    "scene_pcd = client.observe_scene()\n",
    "grasp_pcd = client.observe_grasp()\n",
    "current_state = TargetPoseDemo(target_poses=Ts, scene_pcd=scene_pcd, grasp_pcd=grasp_pcd)\n",
    "\n",
    "# print(current_state)\n",
    "current_state.show(width=400, height=400, point_size=2.)"
   ]
  },
  {
   "cell_type": "code",
   "execution_count": null,
   "metadata": {},
   "outputs": [],
   "source": [
    "target_Ts = client.infer_target_poses(scene_pcd=scene_pcd, \n",
    "                                      grasp_pcd=grasp_pcd, \n",
    "                                      current_poses = Ts,\n",
    "                                      N_steps_list = [[500, 500], [500, 1000]],\n",
    "                                      timesteps_list = [[0.02, 0.02], [0.02, 0.05]],\n",
    "                                      temperature_list = [1., 1.],\n",
    "                                      task_name=target_task)\n",
    "print(target_Ts)"
   ]
  },
  {
   "cell_type": "code",
   "execution_count": null,
   "metadata": {},
   "outputs": [],
   "source": [
    "client.move_se3(target_poses=target_Ts)"
   ]
  },
  {
   "cell_type": "code",
   "execution_count": null,
   "metadata": {},
   "outputs": [],
   "source": [
    "Ts = client.get_current_poses()\n",
    "scene_pcd = client.observe_scene()\n",
    "grasp_pcd = client.observe_grasp()\n",
    "current_state = TargetPoseDemo(target_poses=Ts, scene_pcd=scene_pcd, grasp_pcd=grasp_pcd)\n",
    "\n",
    "# print(current_state)\n",
    "current_state.show(width=400, height=400, point_size=2.)"
   ]
  },
  {
   "cell_type": "code",
   "execution_count": null,
   "metadata": {},
   "outputs": [],
   "source": []
  }
 ],
 "metadata": {
  "kernelspec": {
   "display_name": "diff_edf",
   "language": "python",
   "name": "python3"
  },
  "language_info": {
   "codemirror_mode": {
    "name": "ipython",
    "version": 3
   },
   "file_extension": ".py",
   "mimetype": "text/x-python",
   "name": "python",
   "nbconvert_exporter": "python",
   "pygments_lexer": "ipython3",
   "version": "3.8.16"
  },
  "orig_nbformat": 4,
  "vscode": {
   "interpreter": {
    "hash": "79a0085b6cf04e1cff261ad12d41cff4e1530d9e68d1f8fc6bd159a2915452c6"
   }
  }
 },
 "nbformat": 4,
 "nbformat_minor": 2
}
