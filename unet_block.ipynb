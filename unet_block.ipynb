{
 "cells": [
  {
   "cell_type": "code",
   "execution_count": 1,
   "metadata": {},
   "outputs": [
    {
     "name": "stdout",
     "output_type": "stream",
     "text": [
      "Jupyter environment detected. Enabling Open3D WebVisualizer.\n",
      "[Open3D INFO] WebRTC GUI backend enabled.\n",
      "[Open3D INFO] WebRTCWindowSystem: HTTP handshake server disabled.\n"
     ]
    }
   ],
   "source": [
    "from typing import List, Tuple, Optional, Union\n",
    "\n",
    "import plotly.graph_objects as go\n",
    "\n",
    "import torch\n",
    "from torchvision.transforms import Compose\n",
    "\n",
    "from e3nn import o3\n",
    "from e3nn.util.jit import compile_mode, script as e3nn_script\n",
    "\n",
    "from diffusion_edf.embedding import NodeEmbeddingNetwork\n",
    "from diffusion_edf.data import SE3, PointCloud, TargetPoseDemo, DemoSequence, DemoSeqDataset, load_demos, save_demos\n",
    "from diffusion_edf.preprocess import Rescale, NormalizeColor, Downsample, PointJitter, ColorJitter\n",
    "from diffusion_edf.wigner import TransformFeatureQuaternion\n",
    "from diffusion_edf.block import PoolingBlock"
   ]
  },
  {
   "cell_type": "code",
   "execution_count": 2,
   "metadata": {},
   "outputs": [],
   "source": [
    "unit_len = 0.01\n",
    "scene_voxel_size = 0.01\n",
    "grasp_voxel_size = 0.01\n",
    "\n",
    "scene_voxel_size = scene_voxel_size / unit_len\n",
    "grasp_voxel_size = grasp_voxel_size / unit_len\n",
    "\n",
    "\n",
    "rescale_fn = Rescale(rescale_factor=1/unit_len)\n",
    "recover_scale_fn = Rescale(rescale_factor=unit_len)\n",
    "normalize_color_fn = NormalizeColor(color_mean = torch.tensor([0.5, 0.5, 0.5]), color_std = torch.tensor([0.5, 0.5, 0.5]))\n",
    "recover_color_fn = NormalizeColor(color_mean = -normalize_color_fn.color_mean / normalize_color_fn.color_std, color_std = 1 / normalize_color_fn.color_std)\n",
    "\n",
    "\n",
    "scene_proc_fn = Compose([rescale_fn,\n",
    "                         Downsample(voxel_size=scene_voxel_size, coord_reduction=\"average\"),\n",
    "                         normalize_color_fn])\n",
    "scene_unproc_fn = Compose([recover_color_fn, recover_scale_fn])\n",
    "grasp_proc_fn = Compose([rescale_fn,\n",
    "                         Downsample(voxel_size=grasp_voxel_size, coord_reduction=\"average\"),\n",
    "                         normalize_color_fn])\n",
    "grasp_unproc_fn = Compose([recover_color_fn, recover_scale_fn])"
   ]
  },
  {
   "cell_type": "code",
   "execution_count": 3,
   "metadata": {},
   "outputs": [],
   "source": [
    "device = 'cuda:0'\n",
    "compile = True\n",
    "eval = True\n",
    "\n",
    "irreps_input = o3.Irreps('3x0e')\n",
    "irreps_node_embedding = o3.Irreps('128x0e+64x1e+32x2e')\n",
    "irreps_sh = o3.Irreps('1x0e+1x1e+1x2e')\n",
    "irreps_block_output = o3.Irreps('128x0e+64x1e+32x2e')\n",
    "number_of_basis = 128\n",
    "fc_neurons = [64, 64]\n",
    "irreps_head = o3.Irreps('32x0e+16x1o+8x2e')\n",
    "num_heads = 4\n",
    "irreps_pre_attn = None\n",
    "rescale_degree = False\n",
    "nonlinear_message = True\n",
    "alpha_drop = 0.2\n",
    "proj_drop = 0.0\n",
    "drop_path_rate = 0.0\n",
    "irreps_mlp_mid = o3.Irreps('384x0e+192x1e+96x2e')\n",
    "norm_layer = 'layer'"
   ]
  },
  {
   "cell_type": "code",
   "execution_count": 4,
   "metadata": {},
   "outputs": [
    {
     "name": "stderr",
     "output_type": "stream",
     "text": [
      "/home/hw/anaconda3/envs/diff_edf/lib/python3.8/site-packages/torch/jit/_check.py:181: UserWarning: The TorchScript type system doesn't support instance-level annotations on empty non-base types in `__init__`. Instead, either 1) use a type annotation in the class body, or 2) wrap the type in `torch.jit.Attribute`.\n",
      "  warnings.warn(\"The TorchScript type system doesn't support \"\n"
     ]
    }
   ],
   "source": [
    "node_enc = NodeEmbeddingNetwork(irreps_input=irreps_input, irreps_node_emb=irreps_node_embedding)\n",
    "pool_block = PoolingBlock(irreps_src = irreps_node_embedding,\n",
    "                          irreps_dst = irreps_node_embedding,\n",
    "                          irreps_edge_attr = irreps_sh,\n",
    "                          irreps_head = irreps_head,\n",
    "                          num_heads = num_heads,\n",
    "                          fc_neurons = fc_neurons,\n",
    "                          pool_radius = 2.0,\n",
    "                          pool_ratio = 0.5,\n",
    "                          pool_method = 'fps',\n",
    "                          deterministic = True,\n",
    "                          irreps_mlp_mid = 3,\n",
    "                          attn_type='mlp',\n",
    "                          alpha_drop=alpha_drop, \n",
    "                          proj_drop=proj_drop,\n",
    "                          drop_path_rate=drop_path_rate)\n",
    "\n",
    "if compile:\n",
    "    node_enc = e3nn_script(node_enc).to(device)\n",
    "    pool_block = e3nn_script(pool_block).to(device)\n",
    "else:\n",
    "    node_enc = node_enc.to(device)\n",
    "    pool_block = pool_block.to(device)\n",
    "\n",
    "if eval:\n",
    "    node_enc.eval()\n",
    "    pool_block.eval()"
   ]
  },
  {
   "attachments": {},
   "cell_type": "markdown",
   "metadata": {},
   "source": [
    "# Load demo"
   ]
  },
  {
   "cell_type": "code",
   "execution_count": 5,
   "metadata": {},
   "outputs": [
    {
     "name": "stdout",
     "output_type": "stream",
     "text": [
      "TargetPoseDemo  (name: pick_demo)\n"
     ]
    }
   ],
   "source": [
    "demo_list: List[DemoSequence] = load_demos(dir='demo/test_demo')\n",
    "demo_seq: DemoSequence = demo_list[0]\n",
    "\n",
    "demo: TargetPoseDemo = demo_seq[0]\n",
    "print(demo)\n",
    "\n",
    "scene_raw: PointCloud = demo.scene_pc\n",
    "grasp_raw: PointCloud = demo.grasp_pc\n",
    "target_poses: TargetPoseDemo = demo.target_poses\n",
    "\n",
    "scene_proc = scene_proc_fn(scene_raw).to(device)\n",
    "grasp_proc = grasp_proc_fn(grasp_raw).to(device)\n",
    "\n",
    "#print(scene_proc)\n",
    "#go.Figure(scene_unproc_fn(scene_proc).plotly())\n",
    "\n",
    "\n",
    "node_feature = scene_proc.colors\n",
    "node_coord = scene_proc.points\n",
    "batch = torch.zeros(len(node_coord), device=device, dtype=torch.long)"
   ]
  },
  {
   "cell_type": "code",
   "execution_count": 6,
   "metadata": {},
   "outputs": [],
   "source": [
    "node_feature = node_enc(node_feature)"
   ]
  },
  {
   "cell_type": "code",
   "execution_count": 7,
   "metadata": {},
   "outputs": [
    {
     "data": {
      "text/plain": [
       "(tensor([[-0.3958,  0.4951,  0.2688,  ...,  0.0545, -0.2257,  0.0591],\n",
       "         [-0.5648,  0.7542,  0.4275,  ..., -0.0663, -0.2869,  0.8080],\n",
       "         [ 0.2097,  0.8758,  0.1280,  ...,  0.5349, -0.2646,  1.2482],\n",
       "         ...,\n",
       "         [-0.5382,  1.5607,  0.8833,  ..., -0.1673, -0.2981,  0.6712],\n",
       "         [-0.4200,  0.9316,  0.3788,  ...,  0.2293, -0.2905,  0.5461],\n",
       "         [-0.3254,  1.4588,  0.1213,  ..., -0.8972, -0.2744,  0.2207]],\n",
       "        device='cuda:0', grad_fn=<AddBackward0>),\n",
       " tensor([[-29.4233, -29.5070,   0.0592],\n",
       "         [ 29.5753,  29.5039,   0.0522],\n",
       "         [ 29.5753, -29.5039,   0.0521],\n",
       "         ...,\n",
       "         [ 23.6634,   2.5225,   0.0531],\n",
       "         [-22.4204, -13.5039,   0.0480],\n",
       "         [-29.4188,  -6.4802,   0.0500]], device='cuda:0'),\n",
       " tensor([ 1, 60, 61,  ..., 82, 83, 84], device='cuda:0'),\n",
       " tensor([   0,    0,    0,  ..., 2403, 2403, 2403], device='cuda:0'),\n",
       " tensor([ 3,  5,  4,  ..., 12, 10,  7], device='cuda:0'),\n",
       " tensor([0, 0, 0,  ..., 0, 0, 0], device='cuda:0'))"
      ]
     },
     "execution_count": 7,
     "metadata": {},
     "output_type": "execute_result"
    }
   ],
   "source": [
    "pool_block(node_feature=node_feature,\n",
    "           node_coord=node_coord,\n",
    "           batch=batch)"
   ]
  },
  {
   "cell_type": "code",
   "execution_count": null,
   "metadata": {},
   "outputs": [],
   "source": []
  },
  {
   "cell_type": "code",
   "execution_count": null,
   "metadata": {},
   "outputs": [],
   "source": []
  },
  {
   "cell_type": "code",
   "execution_count": null,
   "metadata": {},
   "outputs": [],
   "source": []
  },
  {
   "cell_type": "code",
   "execution_count": null,
   "metadata": {},
   "outputs": [],
   "source": [
    "safd"
   ]
  },
  {
   "cell_type": "code",
   "execution_count": null,
   "metadata": {},
   "outputs": [],
   "source": []
  },
  {
   "cell_type": "code",
   "execution_count": null,
   "metadata": {},
   "outputs": [],
   "source": []
  },
  {
   "cell_type": "code",
   "execution_count": null,
   "metadata": {},
   "outputs": [],
   "source": []
  },
  {
   "cell_type": "code",
   "execution_count": null,
   "metadata": {},
   "outputs": [],
   "source": [
    "node_coord_1, node_feature_1, edge_src, edge_dst, degree, batch = fps_pool(node_coord_src = node_coord, node_feature_src = node_feature, batch_src = batch)\n",
    "print(len(edge_dst), len(node_coord_1))\n",
    "\n",
    "pooled_pcd = PointCloud(points=node_coord_1.cpu(), colors=node_feature_1.cpu())\n",
    "\n",
    "print(pooled_pcd)\n",
    "go.Figure(scene_unproc_fn(pooled_pcd).plotly())"
   ]
  },
  {
   "cell_type": "code",
   "execution_count": null,
   "metadata": {},
   "outputs": [],
   "source": [
    "node_coord_2, node_feature_2, edge_src, edge_dst, degree, batch = fps_pool(node_coord_src = node_coord_1, node_feature_src = node_feature_1, batch_src = batch)\n",
    "print(len(edge_dst), len(node_coord_2))\n",
    "\n",
    "pooled_pcd = PointCloud(points=node_coord_2.cpu(), colors=node_feature_2.cpu())\n",
    "\n",
    "print(pooled_pcd)\n",
    "go.Figure(scene_unproc_fn(pooled_pcd).plotly())"
   ]
  },
  {
   "cell_type": "code",
   "execution_count": null,
   "metadata": {},
   "outputs": [],
   "source": [
    "node_coord_3, node_feature_3, edge_src, edge_dst, degree, batch = fps_pool(node_coord_src = node_coord_2, node_feature_src = node_feature_2, batch_src = batch)\n",
    "print(len(edge_dst), len(node_coord_3))\n",
    "\n",
    "pooled_pcd = PointCloud(points=node_coord_3.cpu(), colors=node_feature_3.cpu())\n",
    "\n",
    "print(pooled_pcd)\n",
    "go.Figure(scene_unproc_fn(pooled_pcd).plotly())"
   ]
  },
  {
   "cell_type": "code",
   "execution_count": null,
   "metadata": {},
   "outputs": [],
   "source": [
    "# edge_vec = node_coord.index_select(0, edge_src) - node_coord.index_select(0, edge_dst)\n",
    "# edge_sh = o3.spherical_harmonics(l=irreps_sh, x=edge_vec, normalize=True, normalization='component')\n",
    "# edge_length = edge_vec.norm(dim=1)\n",
    "# edge_length_emb = rbf(edge_length)\n",
    "\n",
    "# node_emb = node_enc(node_feature)\n",
    "# edge_degree_emb = edge_deg_enc(node_input = node_emb, \n",
    "#                                edge_attr = edge_sh, \n",
    "#                                edge_scalars = edge_length_emb, \n",
    "#                                edge_src = edge_src, \n",
    "#                                edge_dst = edge_dst)\n",
    "\n",
    "# node_input = node_emb + edge_degree_emb\n",
    "# edge_scalars = edge_length_emb\n",
    "\n",
    "\n",
    "# output_features =  block1(node_input = node_input, \n",
    "#                           node_attr = node_attr, \n",
    "#                           edge_src = edge_src, \n",
    "#                           edge_dst = edge_dst,\n",
    "#                           edge_attr = edge_sh,\n",
    "#                           edge_scalars = edge_scalars,\n",
    "#                           batch = batch)"
   ]
  }
 ],
 "metadata": {
  "kernelspec": {
   "display_name": "diff_edf",
   "language": "python",
   "name": "python3"
  },
  "language_info": {
   "codemirror_mode": {
    "name": "ipython",
    "version": 3
   },
   "file_extension": ".py",
   "mimetype": "text/x-python",
   "name": "python",
   "nbconvert_exporter": "python",
   "pygments_lexer": "ipython3",
   "version": "3.8.16"
  },
  "orig_nbformat": 4,
  "vscode": {
   "interpreter": {
    "hash": "79a0085b6cf04e1cff261ad12d41cff4e1530d9e68d1f8fc6bd159a2915452c6"
   }
  }
 },
 "nbformat": 4,
 "nbformat_minor": 2
}
